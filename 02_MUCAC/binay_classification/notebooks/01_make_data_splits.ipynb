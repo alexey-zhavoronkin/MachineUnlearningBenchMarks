{
 "cells": [
  {
   "cell_type": "code",
   "execution_count": 1,
   "metadata": {},
   "outputs": [],
   "source": [
    "from pathlib import Path\n",
    "\n",
    "BASE_PATH = Path('../')\n",
    "PATH_TO_DATA = BASE_PATH/'data'\n",
    "PATH_TO_MODELS = BASE_PATH/'checkpoints'\n",
    "\n",
    "PATH_TO_DATA.mkdir(exist_ok=True, parents=True)\n",
    "PATH_TO_MODELS.mkdir(exist_ok=True, parents=True)"
   ]
  },
  {
   "cell_type": "markdown",
   "metadata": {},
   "source": [
    "#### <b>Load Libraries</b>"
   ]
  },
  {
   "cell_type": "code",
   "execution_count": 2,
   "metadata": {},
   "outputs": [],
   "source": [
    "import os\n",
    "import pickle\n",
    "import numpy as np\n",
    "import pandas as pd\n",
    "from sklearn.model_selection import train_test_split"
   ]
  },
  {
   "cell_type": "markdown",
   "metadata": {},
   "source": [
    "#### <b>Download data</b>"
   ]
  },
  {
   "cell_type": "code",
   "execution_count": 3,
   "metadata": {},
   "outputs": [],
   "source": [
    "os.chdir(PATH_TO_DATA)\n",
    "\n",
    "download = False\n",
    "if download:\n",
    "    !wget https://postechackr-my.sharepoint.com/:u:/g/personal/dongbinna_postech_ac_kr/Eb37jNPPA7hHl0fmktYqcV8B-qmPLx-ZKYQ1eFk4UPBV_A?download=1 -O CelebAMask-HQ.zip\n",
    "    !wget https://postechackr-my.sharepoint.com/:t:/g/personal/dongbinna_postech_ac_kr/EVRoUY8_txRFv56-KWvZrksBDWbD6adkjBxwwRN7qAC6bg?download=1 -O CelebA-HQ-identity.txt\n",
    "    !wget https://postechackr-my.sharepoint.com/:t:/g/personal/dongbinna_postech_ac_kr/EVrdIrPOkR1OlEWBVK8lE3AB9bFh741GnKBkNgPa8trNuA?download=1 -O CelebA-HQ-attribute.txt\n",
    "\n",
    "    !rm -rf ./CelebAMask-HQ\n",
    "    !unzip CelebAMask-HQ.zip\n",
    "    ! mkdir images; cp -r ./CelebAMask-HQ/CelebA-HQ-img/* ./images"
   ]
  },
  {
   "cell_type": "markdown",
   "metadata": {},
   "source": [
    "#### <b>Read data</b>"
   ]
  },
  {
   "cell_type": "code",
   "execution_count": 4,
   "metadata": {},
   "outputs": [
    {
     "data": {
      "text/html": [
       "<div>\n",
       "<style scoped>\n",
       "    .dataframe tbody tr th:only-of-type {\n",
       "        vertical-align: middle;\n",
       "    }\n",
       "\n",
       "    .dataframe tbody tr th {\n",
       "        vertical-align: top;\n",
       "    }\n",
       "\n",
       "    .dataframe thead th {\n",
       "        text-align: right;\n",
       "    }\n",
       "</style>\n",
       "<table border=\"1\" class=\"dataframe\">\n",
       "  <thead>\n",
       "    <tr style=\"text-align: right;\">\n",
       "      <th></th>\n",
       "      <th>filename</th>\n",
       "      <th>identity</th>\n",
       "      <th>label</th>\n",
       "    </tr>\n",
       "  </thead>\n",
       "  <tbody>\n",
       "    <tr>\n",
       "      <th>0</th>\n",
       "      <td>0.jpg</td>\n",
       "      <td>0</td>\n",
       "      <td>0</td>\n",
       "    </tr>\n",
       "    <tr>\n",
       "      <th>1</th>\n",
       "      <td>1.jpg</td>\n",
       "      <td>1</td>\n",
       "      <td>0</td>\n",
       "    </tr>\n",
       "    <tr>\n",
       "      <th>2</th>\n",
       "      <td>2.jpg</td>\n",
       "      <td>2</td>\n",
       "      <td>0</td>\n",
       "    </tr>\n",
       "    <tr>\n",
       "      <th>3</th>\n",
       "      <td>3.jpg</td>\n",
       "      <td>3</td>\n",
       "      <td>0</td>\n",
       "    </tr>\n",
       "    <tr>\n",
       "      <th>4</th>\n",
       "      <td>4.jpg</td>\n",
       "      <td>4</td>\n",
       "      <td>0</td>\n",
       "    </tr>\n",
       "    <tr>\n",
       "      <th>...</th>\n",
       "      <td>...</td>\n",
       "      <td>...</td>\n",
       "      <td>...</td>\n",
       "    </tr>\n",
       "    <tr>\n",
       "      <th>29995</th>\n",
       "      <td>29995.jpg</td>\n",
       "      <td>5024</td>\n",
       "      <td>1</td>\n",
       "    </tr>\n",
       "    <tr>\n",
       "      <th>29996</th>\n",
       "      <td>29996.jpg</td>\n",
       "      <td>2271</td>\n",
       "      <td>0</td>\n",
       "    </tr>\n",
       "    <tr>\n",
       "      <th>29997</th>\n",
       "      <td>29997.jpg</td>\n",
       "      <td>1514</td>\n",
       "      <td>0</td>\n",
       "    </tr>\n",
       "    <tr>\n",
       "      <th>29998</th>\n",
       "      <td>29998.jpg</td>\n",
       "      <td>2875</td>\n",
       "      <td>0</td>\n",
       "    </tr>\n",
       "    <tr>\n",
       "      <th>29999</th>\n",
       "      <td>29999.jpg</td>\n",
       "      <td>672</td>\n",
       "      <td>1</td>\n",
       "    </tr>\n",
       "  </tbody>\n",
       "</table>\n",
       "<p>30000 rows × 3 columns</p>\n",
       "</div>"
      ],
      "text/plain": [
       "        filename  identity  label\n",
       "0          0.jpg         0      0\n",
       "1          1.jpg         1      0\n",
       "2          2.jpg         2      0\n",
       "3          3.jpg         3      0\n",
       "4          4.jpg         4      0\n",
       "...          ...       ...    ...\n",
       "29995  29995.jpg      5024      1\n",
       "29996  29996.jpg      2271      0\n",
       "29997  29997.jpg      1514      0\n",
       "29998  29998.jpg      2875      0\n",
       "29999  29999.jpg       672      1\n",
       "\n",
       "[30000 rows x 3 columns]"
      ]
     },
     "metadata": {},
     "output_type": "display_data"
    }
   ],
   "source": [
    "identity = pd.read_csv(\n",
    "    PATH_TO_DATA/'CelebA-HQ-identity.txt', \n",
    "    header=None, \n",
    "    sep=' ', \n",
    "    names=['filename', 'identity']\n",
    ")\n",
    "\n",
    "label_num = 40  # \"male\": 21, \"smiling\": 32, \"young\": 40\n",
    "\n",
    "attribute = pd.read_csv(\n",
    "    PATH_TO_DATA/'CelebA-HQ-attribute.txt', \n",
    "    header=None, \n",
    "    sep=' ', \n",
    "    skiprows=2, \n",
    "    usecols=[0, label_num+1], \n",
    "    names=['filename', 'label']\n",
    ")\n",
    "attribute['label'] = np.where(attribute['label'] == -1, 1, 0)\n",
    "\n",
    "df = identity.merge(attribute, on='filename')\n",
    "\n",
    "display(df)"
   ]
  },
  {
   "cell_type": "markdown",
   "metadata": {},
   "source": [
    "#### <b>Do splits</b>"
   ]
  },
  {
   "cell_type": "code",
   "execution_count": 5,
   "metadata": {},
   "outputs": [],
   "source": [
    "inds = df['identity'].unique().tolist()\n",
    "inds.sort()\n",
    "\n",
    "train_inds, test_unseen_inds = train_test_split(inds, test_size=0.20, random_state=42)\n",
    "test_identities, unseen_identities = train_test_split(test_unseen_inds, test_size=0.50, random_state=42)\n",
    "train_identities, _ = train_test_split(train_inds, test_size=0.50, random_state=42)\n",
    "retain_identities, forget_identities = train_test_split(train_identities, test_size=0.05, random_state=42)\n",
    "\n",
    "df['sample'] = None\n",
    "df.loc[df['identity'].isin(retain_identities), 'sample'] = 'retain'\n",
    "df.loc[df['identity'].isin(forget_identities), 'sample'] = 'forget'\n",
    "df.loc[df['identity'].isin(unseen_identities), 'sample'] = 'unseen'\n",
    "df.loc[df['identity'].isin(test_identities), 'sample'] = 'test'\n",
    "df['sample'] = df['sample'].fillna('shadow')\n"
   ]
  },
  {
   "cell_type": "code",
   "execution_count": 6,
   "metadata": {},
   "outputs": [
    {
     "data": {
      "text/html": [
       "<div>\n",
       "<style scoped>\n",
       "    .dataframe tbody tr th:only-of-type {\n",
       "        vertical-align: middle;\n",
       "    }\n",
       "\n",
       "    .dataframe tbody tr th {\n",
       "        vertical-align: top;\n",
       "    }\n",
       "\n",
       "    .dataframe thead th {\n",
       "        text-align: right;\n",
       "    }\n",
       "</style>\n",
       "<table border=\"1\" class=\"dataframe\">\n",
       "  <thead>\n",
       "    <tr style=\"text-align: right;\">\n",
       "      <th>sample</th>\n",
       "      <th>forget</th>\n",
       "      <th>retain</th>\n",
       "      <th>shadow</th>\n",
       "      <th>test</th>\n",
       "      <th>unseen</th>\n",
       "    </tr>\n",
       "  </thead>\n",
       "  <tbody>\n",
       "    <tr>\n",
       "      <th>count</th>\n",
       "      <td>570</td>\n",
       "      <td>11421</td>\n",
       "      <td>11864</td>\n",
       "      <td>2983</td>\n",
       "      <td>3162</td>\n",
       "    </tr>\n",
       "  </tbody>\n",
       "</table>\n",
       "</div>"
      ],
      "text/plain": [
       "sample  forget  retain  shadow  test  unseen\n",
       "count      570   11421   11864  2983    3162"
      ]
     },
     "execution_count": 6,
     "metadata": {},
     "output_type": "execute_result"
    }
   ],
   "source": [
    "# кол-во наблюдений в выборках\n",
    "\n",
    "df['sample'].value_counts().sort_index().reset_index().set_index('sample').T"
   ]
  },
  {
   "cell_type": "code",
   "execution_count": 7,
   "metadata": {},
   "outputs": [
    {
     "data": {
      "text/html": [
       "<div>\n",
       "<style scoped>\n",
       "    .dataframe tbody tr th:only-of-type {\n",
       "        vertical-align: middle;\n",
       "    }\n",
       "\n",
       "    .dataframe tbody tr th {\n",
       "        vertical-align: top;\n",
       "    }\n",
       "\n",
       "    .dataframe thead th {\n",
       "        text-align: right;\n",
       "    }\n",
       "</style>\n",
       "<table border=\"1\" class=\"dataframe\">\n",
       "  <thead>\n",
       "    <tr style=\"text-align: right;\">\n",
       "      <th>sample</th>\n",
       "      <th>forget</th>\n",
       "      <th>retain</th>\n",
       "      <th>shadow</th>\n",
       "      <th>test</th>\n",
       "      <th>unseen</th>\n",
       "    </tr>\n",
       "  </thead>\n",
       "  <tbody>\n",
       "    <tr>\n",
       "      <th>proportion</th>\n",
       "      <td>1.9</td>\n",
       "      <td>38.07</td>\n",
       "      <td>39.546667</td>\n",
       "      <td>9.943333</td>\n",
       "      <td>10.54</td>\n",
       "    </tr>\n",
       "  </tbody>\n",
       "</table>\n",
       "</div>"
      ],
      "text/plain": [
       "sample      forget  retain     shadow      test  unseen\n",
       "proportion     1.9   38.07  39.546667  9.943333   10.54"
      ]
     },
     "execution_count": 7,
     "metadata": {},
     "output_type": "execute_result"
    }
   ],
   "source": [
    "# кол-во наблюдений в выборках (в процентах)\n",
    "\n",
    "100 * df['sample'].value_counts(normalize=True).sort_index().reset_index().set_index('sample').T"
   ]
  },
  {
   "cell_type": "code",
   "execution_count": 8,
   "metadata": {},
   "outputs": [
    {
     "data": {
      "text/html": [
       "<div>\n",
       "<style scoped>\n",
       "    .dataframe tbody tr th:only-of-type {\n",
       "        vertical-align: middle;\n",
       "    }\n",
       "\n",
       "    .dataframe tbody tr th {\n",
       "        vertical-align: top;\n",
       "    }\n",
       "\n",
       "    .dataframe thead th {\n",
       "        text-align: right;\n",
       "    }\n",
       "</style>\n",
       "<table border=\"1\" class=\"dataframe\">\n",
       "  <thead>\n",
       "    <tr style=\"text-align: right;\">\n",
       "      <th>sample</th>\n",
       "      <th>forget</th>\n",
       "      <th>retain</th>\n",
       "      <th>shadow</th>\n",
       "      <th>test</th>\n",
       "      <th>unseen</th>\n",
       "    </tr>\n",
       "  </thead>\n",
       "  <tbody>\n",
       "    <tr>\n",
       "      <th>label</th>\n",
       "      <td>0.298246</td>\n",
       "      <td>0.226775</td>\n",
       "      <td>0.212492</td>\n",
       "      <td>0.205498</td>\n",
       "      <td>0.233397</td>\n",
       "    </tr>\n",
       "  </tbody>\n",
       "</table>\n",
       "</div>"
      ],
      "text/plain": [
       "sample    forget    retain    shadow      test    unseen\n",
       "label   0.298246  0.226775  0.212492  0.205498  0.233397"
      ]
     },
     "execution_count": 8,
     "metadata": {},
     "output_type": "execute_result"
    }
   ],
   "source": [
    "# таргет рейт в выборках\n",
    "\n",
    "df.groupby('sample')['label'].mean().sort_index().reset_index().set_index('sample').T"
   ]
  },
  {
   "cell_type": "code",
   "execution_count": 9,
   "metadata": {},
   "outputs": [
    {
     "data": {
      "text/html": [
       "<div>\n",
       "<style scoped>\n",
       "    .dataframe tbody tr th:only-of-type {\n",
       "        vertical-align: middle;\n",
       "    }\n",
       "\n",
       "    .dataframe tbody tr th {\n",
       "        vertical-align: top;\n",
       "    }\n",
       "\n",
       "    .dataframe thead th {\n",
       "        text-align: right;\n",
       "    }\n",
       "</style>\n",
       "<table border=\"1\" class=\"dataframe\">\n",
       "  <thead>\n",
       "    <tr style=\"text-align: right;\">\n",
       "      <th>sample</th>\n",
       "      <th>forget</th>\n",
       "      <th>retain</th>\n",
       "      <th>shadow</th>\n",
       "      <th>test</th>\n",
       "      <th>unseen</th>\n",
       "    </tr>\n",
       "  </thead>\n",
       "  <tbody>\n",
       "    <tr>\n",
       "      <th>identity</th>\n",
       "      <td>125</td>\n",
       "      <td>2361</td>\n",
       "      <td>2487</td>\n",
       "      <td>622</td>\n",
       "      <td>622</td>\n",
       "    </tr>\n",
       "  </tbody>\n",
       "</table>\n",
       "</div>"
      ],
      "text/plain": [
       "sample    forget  retain  shadow  test  unseen\n",
       "identity     125    2361    2487   622     622"
      ]
     },
     "execution_count": 9,
     "metadata": {},
     "output_type": "execute_result"
    }
   ],
   "source": [
    "# кол-во уникальных identity в выборках\n",
    "\n",
    "df.groupby('sample')['identity'].apply(lambda x: len(set(x))).sort_index().reset_index().set_index('sample').T"
   ]
  },
  {
   "cell_type": "code",
   "execution_count": 10,
   "metadata": {},
   "outputs": [
    {
     "data": {
      "text/html": [
       "<div>\n",
       "<style scoped>\n",
       "    .dataframe tbody tr th:only-of-type {\n",
       "        vertical-align: middle;\n",
       "    }\n",
       "\n",
       "    .dataframe tbody tr th {\n",
       "        vertical-align: top;\n",
       "    }\n",
       "\n",
       "    .dataframe thead th {\n",
       "        text-align: right;\n",
       "    }\n",
       "</style>\n",
       "<table border=\"1\" class=\"dataframe\">\n",
       "  <thead>\n",
       "    <tr style=\"text-align: right;\">\n",
       "      <th>sample</th>\n",
       "      <th>forget</th>\n",
       "      <th>retain</th>\n",
       "      <th>shadow</th>\n",
       "      <th>test</th>\n",
       "      <th>unseen</th>\n",
       "    </tr>\n",
       "  </thead>\n",
       "  <tbody>\n",
       "    <tr>\n",
       "      <th>identity</th>\n",
       "      <td>4.56</td>\n",
       "      <td>4.837357</td>\n",
       "      <td>4.770406</td>\n",
       "      <td>4.79582</td>\n",
       "      <td>5.083601</td>\n",
       "    </tr>\n",
       "  </tbody>\n",
       "</table>\n",
       "</div>"
      ],
      "text/plain": [
       "sample    forget    retain    shadow     test    unseen\n",
       "identity    4.56  4.837357  4.770406  4.79582  5.083601"
      ]
     },
     "execution_count": 10,
     "metadata": {},
     "output_type": "execute_result"
    }
   ],
   "source": [
    "# среднее количество фото для каждой identity в выборках\n",
    "\n",
    "(\n",
    "    df.groupby(['sample'])['identity'].apply(lambda x: len(x)) / \\\n",
    "    df.groupby(['sample'])['identity'].apply(lambda x: len(set(x)))\n",
    ").sort_index().reset_index().set_index('sample').T"
   ]
  },
  {
   "cell_type": "code",
   "execution_count": 11,
   "metadata": {},
   "outputs": [],
   "source": [
    "shadow_datasets = PATH_TO_DATA/'shadow_manifests'\n",
    "shadow_datasets.mkdir(exist_ok=True, parents=True)\n",
    "\n",
    "num_shadows = 128\n",
    "counter = pd.Series(index=train_inds, data=num_shadows//2)\n",
    "\n",
    "correction = 1 if len(counter) % 2 != 0 else 0\n",
    "\n",
    "for shadow_idx in range(num_shadows):\n",
    "    \n",
    "    bootstrap_inds = counter\\\n",
    "        .sample(frac=1, random_state=shadow_idx)\\\n",
    "        .sort_values(ascending=False, kind='stable')\\\n",
    "        .iloc[:len(counter)//2 + correction*(shadow_idx%2!=0)]\\\n",
    "        .index\n",
    "    counter[bootstrap_inds] -= 1\n",
    "    \n",
    "    df.loc[df['identity'].isin(bootstrap_inds)].to_csv(shadow_datasets/f'{shadow_idx:04}.csv', index=False)\n",
    "\n",
    "df.loc[df['sample'].isin(['forget', 'retain'])].to_csv(PATH_TO_DATA/'train_manifest.csv', index=False)\n",
    "df.loc[df['sample'].eq('retain')].to_csv(PATH_TO_DATA/'retain_manifest.csv', index=False)\n",
    "df.loc[df['sample'].eq('forget')].to_csv(PATH_TO_DATA/'forget_manifest.csv', index=False)\n",
    "df.loc[df['sample'].eq('test')].to_csv(PATH_TO_DATA/'test_manifest.csv', index=False)\n",
    "df.loc[df['sample'].eq('unseen')].to_csv(PATH_TO_DATA/'unseen_manifest.csv', index=False)"
   ]
  },
  {
   "cell_type": "code",
   "execution_count": 12,
   "metadata": {},
   "outputs": [],
   "source": [
    "data_split = [None for _ in range(num_shadows)]\n",
    "for shadow_idx in range(num_shadows):\n",
    "    tmp = pd.read_csv(shadow_datasets/f'{shadow_idx:04}.csv')\n",
    "    data_split[shadow_idx] = tmp['identity'].unique().tolist()\n",
    "\n",
    "\n",
    "data_split = pd.DataFrame(data_split).T\n",
    "\n",
    "data_split_dict = dict()\n",
    "for identity in train_inds:\n",
    "    data_split_dict[identity] = data_split.columns[np.any(data_split == identity, axis=0)].tolist()\n",
    "\n",
    "\n",
    "data_split_df = pd.DataFrame(data_split_dict).T.reset_index().rename(columns={'index': 'identity'})\n",
    "data_split_df = pd.merge(data_split_df, df[['identity', 'filename']]).drop(columns=['identity']).set_index('filename')\n",
    "\n",
    "with open(PATH_TO_DATA/'data_split_dict.pickle', 'wb') as file:\n",
    "    pickle.dump(\n",
    "        {filename: datasets.tolist() for filename, datasets in zip(data_split_df.index, data_split_df.values)}, \n",
    "        file\n",
    "    )\n",
    "    "
   ]
  }
 ],
 "metadata": {
  "kernelspec": {
   "display_name": "zhavoronkin_env",
   "language": "python",
   "name": "python3"
  },
  "language_info": {
   "codemirror_mode": {
    "name": "ipython",
    "version": 3
   },
   "file_extension": ".py",
   "mimetype": "text/x-python",
   "name": "python",
   "nbconvert_exporter": "python",
   "pygments_lexer": "ipython3",
   "version": "3.9.18"
  }
 },
 "nbformat": 4,
 "nbformat_minor": 2
}
