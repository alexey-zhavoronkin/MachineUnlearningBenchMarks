{
 "cells": [
  {
   "cell_type": "code",
   "execution_count": 1,
   "metadata": {},
   "outputs": [],
   "source": [
    "from pathlib import Path\n",
    "\n",
    "BASE_PATH = Path('../')\n",
    "PATH_TO_DATA = BASE_PATH/'data'\n",
    "PATH_TO_MODELS = BASE_PATH/'checkpoints'\n",
    "\n",
    "PATH_TO_DATA.mkdir(exist_ok=True, parents=True)\n",
    "PATH_TO_MODELS.mkdir(exist_ok=True, parents=True)"
   ]
  },
  {
   "cell_type": "markdown",
   "metadata": {},
   "source": [
    "#### <b>Load Libraries</b>"
   ]
  },
  {
   "cell_type": "code",
   "execution_count": 2,
   "metadata": {},
   "outputs": [],
   "source": [
    "import os\n",
    "import numpy as np\n",
    "import pandas as pd"
   ]
  },
  {
   "cell_type": "markdown",
   "metadata": {},
   "source": [
    "#### <b>Download data</b>"
   ]
  },
  {
   "cell_type": "code",
   "execution_count": 3,
   "metadata": {},
   "outputs": [
    {
     "name": "stdout",
     "output_type": "stream",
     "text": [
      "zsh:1: no matches found: https://postechackr-my.sharepoint.com/:u:/g/personal/dongbinna_postech_ac_kr/Eb37jNPPA7hHl0fmktYqcV8B-qmPLx-ZKYQ1eFk4UPBV_A?download=1\n",
      "zsh:1: no matches found: https://postechackr-my.sharepoint.com/:t:/g/personal/dongbinna_postech_ac_kr/EVRoUY8_txRFv56-KWvZrksBDWbD6adkjBxwwRN7qAC6bg?download=1\n",
      "zsh:1: no matches found: https://postechackr-my.sharepoint.com/:t:/g/personal/dongbinna_postech_ac_kr/EVrdIrPOkR1OlEWBVK8lE3AB9bFh741GnKBkNgPa8trNuA?download=1\n"
     ]
    },
    {
     "name": "stderr",
     "output_type": "stream",
     "text": [
      "UsageError: Line magic function `%%capture` not found.\n"
     ]
    }
   ],
   "source": [
    "os.chdir(PATH_TO_DATA)\n",
    "\n",
    "!wget https://postechackr-my.sharepoint.com/:u:/g/personal/dongbinna_postech_ac_kr/Eb37jNPPA7hHl0fmktYqcV8B-qmPLx-ZKYQ1eFk4UPBV_A?download=1 -O CelebAMask-HQ.zip\n",
    "!wget https://postechackr-my.sharepoint.com/:t:/g/personal/dongbinna_postech_ac_kr/EVRoUY8_txRFv56-KWvZrksBDWbD6adkjBxwwRN7qAC6bg?download=1 -O CelebA-HQ-identity.txt\n",
    "!wget https://postechackr-my.sharepoint.com/:t:/g/personal/dongbinna_postech_ac_kr/EVrdIrPOkR1OlEWBVK8lE3AB9bFh741GnKBkNgPa8trNuA?download=1 -O CelebA-HQ-attribute.txt\n",
    "\n",
    "%%capture\n",
    "!rm -rf ./CelebAMask-HQ\n",
    "!unzip CelebAMask-HQ.zip"
   ]
  },
  {
   "cell_type": "markdown",
   "metadata": {},
   "source": [
    "#### <b>Read data</b>"
   ]
  },
  {
   "cell_type": "code",
   "execution_count": 73,
   "metadata": {},
   "outputs": [
    {
     "data": {
      "text/html": [
       "<div>\n",
       "<style scoped>\n",
       "    .dataframe tbody tr th:only-of-type {\n",
       "        vertical-align: middle;\n",
       "    }\n",
       "\n",
       "    .dataframe tbody tr th {\n",
       "        vertical-align: top;\n",
       "    }\n",
       "\n",
       "    .dataframe thead th {\n",
       "        text-align: right;\n",
       "    }\n",
       "</style>\n",
       "<table border=\"1\" class=\"dataframe\">\n",
       "  <thead>\n",
       "    <tr style=\"text-align: right;\">\n",
       "      <th></th>\n",
       "      <th>filename</th>\n",
       "      <th>identity</th>\n",
       "      <th>label</th>\n",
       "    </tr>\n",
       "  </thead>\n",
       "  <tbody>\n",
       "    <tr>\n",
       "      <th>0</th>\n",
       "      <td>0.jpg</td>\n",
       "      <td>0</td>\n",
       "      <td>0</td>\n",
       "    </tr>\n",
       "    <tr>\n",
       "      <th>1</th>\n",
       "      <td>1.jpg</td>\n",
       "      <td>1</td>\n",
       "      <td>0</td>\n",
       "    </tr>\n",
       "    <tr>\n",
       "      <th>2</th>\n",
       "      <td>2.jpg</td>\n",
       "      <td>2</td>\n",
       "      <td>0</td>\n",
       "    </tr>\n",
       "    <tr>\n",
       "      <th>3</th>\n",
       "      <td>3.jpg</td>\n",
       "      <td>3</td>\n",
       "      <td>0</td>\n",
       "    </tr>\n",
       "    <tr>\n",
       "      <th>4</th>\n",
       "      <td>4.jpg</td>\n",
       "      <td>4</td>\n",
       "      <td>0</td>\n",
       "    </tr>\n",
       "    <tr>\n",
       "      <th>...</th>\n",
       "      <td>...</td>\n",
       "      <td>...</td>\n",
       "      <td>...</td>\n",
       "    </tr>\n",
       "    <tr>\n",
       "      <th>29995</th>\n",
       "      <td>29995.jpg</td>\n",
       "      <td>5024</td>\n",
       "      <td>0</td>\n",
       "    </tr>\n",
       "    <tr>\n",
       "      <th>29996</th>\n",
       "      <td>29996.jpg</td>\n",
       "      <td>2271</td>\n",
       "      <td>0</td>\n",
       "    </tr>\n",
       "    <tr>\n",
       "      <th>29997</th>\n",
       "      <td>29997.jpg</td>\n",
       "      <td>1514</td>\n",
       "      <td>0</td>\n",
       "    </tr>\n",
       "    <tr>\n",
       "      <th>29998</th>\n",
       "      <td>29998.jpg</td>\n",
       "      <td>2875</td>\n",
       "      <td>0</td>\n",
       "    </tr>\n",
       "    <tr>\n",
       "      <th>29999</th>\n",
       "      <td>29999.jpg</td>\n",
       "      <td>672</td>\n",
       "      <td>0</td>\n",
       "    </tr>\n",
       "  </tbody>\n",
       "</table>\n",
       "<p>30000 rows × 3 columns</p>\n",
       "</div>"
      ],
      "text/plain": [
       "        filename  identity  label\n",
       "0          0.jpg         0      0\n",
       "1          1.jpg         1      0\n",
       "2          2.jpg         2      0\n",
       "3          3.jpg         3      0\n",
       "4          4.jpg         4      0\n",
       "...          ...       ...    ...\n",
       "29995  29995.jpg      5024      0\n",
       "29996  29996.jpg      2271      0\n",
       "29997  29997.jpg      1514      0\n",
       "29998  29998.jpg      2875      0\n",
       "29999  29999.jpg       672      0\n",
       "\n",
       "[30000 rows x 3 columns]"
      ]
     },
     "metadata": {},
     "output_type": "display_data"
    }
   ],
   "source": [
    "identity = pd.read_csv(\n",
    "    PATH_TO_DATA/'CelebA-HQ-identity.txt', \n",
    "    header=None, \n",
    "    sep=' ', \n",
    "    names=['filename', 'identity']\n",
    ")\n",
    "\n",
    "label_num = 40  # \"male\": 21, \"smiling\": 32, \"young\": 40\n",
    "\n",
    "attribute = pd.read_csv(\n",
    "    PATH_TO_DATA/'CelebA-HQ-attribute.txt', \n",
    "    header=None, \n",
    "    sep=' ', \n",
    "    skiprows=2, \n",
    "    usecols=[0, label_num], \n",
    "    names=['filename', 'label']\n",
    ")\n",
    "attribute['label'] = np.where(attribute['label'] == -1, 0, 1)\n",
    "\n",
    "df = identity.merge(attribute, on='filename')\n",
    "\n",
    "display(df)"
   ]
  },
  {
   "cell_type": "markdown",
   "metadata": {},
   "source": [
    "#### <b>Do splits</b>"
   ]
  },
  {
   "cell_type": "code",
   "execution_count": 76,
   "metadata": {},
   "outputs": [
    {
     "data": {
      "text/html": [
       "<div>\n",
       "<style scoped>\n",
       "    .dataframe tbody tr th:only-of-type {\n",
       "        vertical-align: middle;\n",
       "    }\n",
       "\n",
       "    .dataframe tbody tr th {\n",
       "        vertical-align: top;\n",
       "    }\n",
       "\n",
       "    .dataframe thead th {\n",
       "        text-align: right;\n",
       "    }\n",
       "</style>\n",
       "<table border=\"1\" class=\"dataframe\">\n",
       "  <thead>\n",
       "    <tr style=\"text-align: right;\">\n",
       "      <th></th>\n",
       "      <th>0</th>\n",
       "      <th>1</th>\n",
       "      <th>2</th>\n",
       "      <th>3</th>\n",
       "      <th>4</th>\n",
       "    </tr>\n",
       "  </thead>\n",
       "  <tbody>\n",
       "    <tr>\n",
       "      <th>sample</th>\n",
       "      <td>shadow</td>\n",
       "      <td>retain</td>\n",
       "      <td>test</td>\n",
       "      <td>unseen</td>\n",
       "      <td>forget</td>\n",
       "    </tr>\n",
       "    <tr>\n",
       "      <th>count</th>\n",
       "      <td>12878</td>\n",
       "      <td>12382</td>\n",
       "      <td>2076</td>\n",
       "      <td>1999</td>\n",
       "      <td>665</td>\n",
       "    </tr>\n",
       "  </tbody>\n",
       "</table>\n",
       "</div>"
      ],
      "text/plain": [
       "             0       1     2       3       4\n",
       "sample  shadow  retain  test  unseen  forget\n",
       "count    12878   12382  2076    1999     665"
      ]
     },
     "execution_count": 76,
     "metadata": {},
     "output_type": "execute_result"
    }
   ],
   "source": [
    "def split_data(x):\n",
    "    if x <= 190:\n",
    "        return 'test'\n",
    "    if x <= 1600:\n",
    "        return 'shadow'\n",
    "    if x <= 1700:\n",
    "        return 'forget'\n",
    "    if x <= 4855:\n",
    "        return 'retain'\n",
    "    else:\n",
    "        return 'unseen'\n",
    "\n",
    "\n",
    "df['sample'] = df['identity'].apply(split_data)\n",
    "df['sample'].value_counts().reset_index().T\n"
   ]
  },
  {
   "cell_type": "code",
   "execution_count": 84,
   "metadata": {},
   "outputs": [
    {
     "name": "stdout",
     "output_type": "stream",
     "text": [
      "mkdir: images: File exists\n"
     ]
    }
   ],
   "source": [
    "shadow_datasets = PATH_TO_DATA/'shadow_manifests'\n",
    "shadow_datasets.mkdir(exist_ok=True, parents=True)\n",
    "\n",
    "identities = sorted(df.loc[df['sample'].eq('shadow'), 'identity'].unique())\n",
    "for idx in range(128):\n",
    "    random_identities = np.unique(np.random.RandomState(idx).choice(identities, size=len(identities)))\n",
    "    df.loc[df['identity'].isin(random_identities), ['filename', 'label']].to_csv(shadow_datasets/f'{idx:04}.csv', index=False)\n",
    " \n",
    "\n",
    "df.loc[df['sample'].isin(['forget', 'retain']), ['filename', 'label']].to_csv(PATH_TO_DATA/'train_manifest.csv', index=False)\n",
    "df.loc[df['sample'].eq('retain'), ['filename', 'label']].to_csv(PATH_TO_DATA/'retain_manifest.csv', index=False)\n",
    "df.loc[df['sample'].eq('forget'), ['filename', 'label']].to_csv(PATH_TO_DATA/'forget_manifest.csv', index=False)\n",
    "df.loc[df['sample'].eq('test'), ['filename', 'label']].to_csv(PATH_TO_DATA/'test_manifest.csv', index=False)\n",
    "df.loc[df['sample'].eq('unseen'), ['filename', 'label']].to_csv(PATH_TO_DATA/'unseen_manifest.csv', index=False)\n",
    "\n",
    "! mkdir images; cp -r ./CelebAMask-HQ/CelebA-HQ-img/ ./images"
   ]
  }
 ],
 "metadata": {
  "kernelspec": {
   "display_name": "zhavoronkin_env",
   "language": "python",
   "name": "python3"
  },
  "language_info": {
   "codemirror_mode": {
    "name": "ipython",
    "version": 3
   },
   "file_extension": ".py",
   "mimetype": "text/x-python",
   "name": "python",
   "nbconvert_exporter": "python",
   "pygments_lexer": "ipython3",
   "version": "3.9.6"
  }
 },
 "nbformat": 4,
 "nbformat_minor": 2
}
