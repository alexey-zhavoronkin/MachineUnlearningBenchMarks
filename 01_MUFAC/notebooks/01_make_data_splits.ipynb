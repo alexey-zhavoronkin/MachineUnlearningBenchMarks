{
 "cells": [
  {
   "cell_type": "code",
   "execution_count": 8,
   "metadata": {},
   "outputs": [],
   "source": [
    "from pathlib import Path\n",
    "\n",
    "BASE_PATH = Path('../')\n",
    "PATH_TO_DATA = BASE_PATH/'data'\n",
    "PATH_TO_MODELS = BASE_PATH/'checkpoints'\n",
    "\n",
    "PATH_TO_DATA.mkdir(exist_ok=True, parents=True)\n",
    "PATH_TO_MODELS.mkdir(exist_ok=True, parents=True)"
   ]
  },
  {
   "cell_type": "markdown",
   "metadata": {},
   "source": [
    "#### <b>Load Libraries</b>"
   ]
  },
  {
   "cell_type": "code",
   "execution_count": 11,
   "metadata": {},
   "outputs": [],
   "source": [
    "import os\n",
    "import numpy as np\n",
    "import pandas as pd"
   ]
  },
  {
   "cell_type": "markdown",
   "metadata": {},
   "source": [
    "#### <b>Download data</b>"
   ]
  },
  {
   "cell_type": "code",
   "execution_count": 37,
   "metadata": {},
   "outputs": [
    {
     "name": "stdout",
     "output_type": "stream",
     "text": [
      "zsh:1: no matches found: https://postechackr-my.sharepoint.com/:u:/g/personal/dongbinna_postech_ac_kr/EbMhBPnmIb5MutZvGicPKggBWKm5hLs0iwKfGW7_TwQIKg?download=1\n"
     ]
    },
    {
     "name": "stdout",
     "output_type": "stream",
     "text": [
      "unzip:  cannot find or open custom_korean_family_dataset_resolution_128.zip, custom_korean_family_dataset_resolution_128.zip.zip or custom_korean_family_dataset_resolution_128.zip.ZIP.\n"
     ]
    }
   ],
   "source": [
    "os.chdir(PATH_TO_DATA)\n",
    "\n",
    "! wget https://postechackr-my.sharepoint.com/:u:/g/personal/dongbinna_postech_ac_kr/EbMhBPnmIb5MutZvGicPKggBWKm5hLs0iwKfGW7_TwQIKg?download=1\n",
    "! unzip custom_korean_family_dataset_resolution_128.zip -d ./"
   ]
  },
  {
   "cell_type": "markdown",
   "metadata": {},
   "source": [
    "#### <b>Do splits</b>"
   ]
  },
  {
   "cell_type": "code",
   "execution_count": 41,
   "metadata": {},
   "outputs": [
    {
     "name": "stdout",
     "output_type": "stream",
     "text": [
      "mkdir: images: File exists\n"
     ]
    }
   ],
   "source": [
    "custom_train_dataset = pd.read_csv(PATH_TO_DATA/'custom_korean_family_dataset_resolution_128'/'custom_train_dataset.csv')\n",
    "\n",
    "# split train dataset for shadow datasets and new train one (forget + retain)\n",
    "train_dataset = custom_train_dataset[custom_train_dataset['family_id'] <= 'F0149']\n",
    "shadow_dataset = custom_train_dataset[custom_train_dataset['family_id'] >= 'F0150']\n",
    "forget_dataset = train_dataset[train_dataset['family_id'] <= 'F0003']\n",
    "retain_dataset = train_dataset[train_dataset['family_id'] >= 'F0004']\n",
    "\n",
    "shadow_datasets = PATH_TO_DATA/'shadow_manifests'\n",
    "shadow_datasets.mkdir(exist_ok=True, parents=True)\n",
    "\n",
    "family_inds = sorted(shadow_dataset['family_id'].unique())\n",
    "for idx in range(128):\n",
    "    random_family_inds = np.unique(np.random.RandomState(idx).choice(family_inds, size=len(family_inds)))\n",
    "    shadow_dataset[shadow_dataset['family_id'].isin(random_family_inds)].to_csv(shadow_datasets/f'{idx:04}.csv', index=False)\n",
    "    \n",
    "train_dataset.to_csv(PATH_TO_DATA/'train_manifest.csv', index=False)\n",
    "retain_dataset.to_csv(PATH_TO_DATA/'retain_manifest.csv', index=False)\n",
    "forget_dataset.to_csv(PATH_TO_DATA/'forget_manifest.csv', index=False)\n",
    "\n",
    "# reorganaize data\n",
    "! cp ./custom_korean_family_dataset_resolution_128/custom_test_dataset.csv ./unseen_manifest.csv\n",
    "! cp ./custom_korean_family_dataset_resolution_128/custom_val_dataset.csv ./test_manifest.csv\n",
    "! mkdir images; cp -r ./custom_korean_family_dataset_resolution_128/*_images/ ./images"
   ]
  },
  {
   "cell_type": "code",
   "execution_count": null,
   "metadata": {},
   "outputs": [],
   "source": []
  }
 ],
 "metadata": {
  "kernelspec": {
   "display_name": "zhavoronkin_env",
   "language": "python",
   "name": "python3"
  },
  "language_info": {
   "codemirror_mode": {
    "name": "ipython",
    "version": 3
   },
   "file_extension": ".py",
   "mimetype": "text/x-python",
   "name": "python",
   "nbconvert_exporter": "python",
   "pygments_lexer": "ipython3",
   "version": "3.9.6"
  }
 },
 "nbformat": 4,
 "nbformat_minor": 2
}
