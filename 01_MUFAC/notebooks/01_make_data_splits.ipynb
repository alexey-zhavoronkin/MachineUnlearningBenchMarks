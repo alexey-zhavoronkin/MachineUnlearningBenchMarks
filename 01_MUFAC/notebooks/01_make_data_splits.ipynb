{
 "cells": [
  {
   "cell_type": "code",
   "execution_count": 2,
   "metadata": {},
   "outputs": [],
   "source": [
    "from pathlib import Path\n",
    "\n",
    "BASE_PATH = Path('../')\n",
    "PATH_TO_DATA = BASE_PATH/'data'\n",
    "PATH_TO_MODELS = BASE_PATH/'checkpoints'\n",
    "\n",
    "PATH_TO_DATA.mkdir(exist_ok=True, parents=True)\n",
    "PATH_TO_MODELS.mkdir(exist_ok=True, parents=True)"
   ]
  },
  {
   "cell_type": "markdown",
   "metadata": {},
   "source": [
    "#### <b>Load Libraries</b>"
   ]
  },
  {
   "cell_type": "code",
   "execution_count": 3,
   "metadata": {},
   "outputs": [],
   "source": [
    "import os\n",
    "import pickle\n",
    "import numpy as np\n",
    "import pandas as pd\n",
    "from sklearn.model_selection import train_test_split"
   ]
  },
  {
   "cell_type": "markdown",
   "metadata": {},
   "source": [
    "#### <b>Download data</b>"
   ]
  },
  {
   "cell_type": "code",
   "execution_count": 5,
   "metadata": {},
   "outputs": [],
   "source": [
    "os.chdir(PATH_TO_DATA)\n",
    "\n",
    "download = False\n",
    "if download:\n",
    "    !wget https://postackr-my.sharepoint.com/:u:/g/personal/dongbinna_postech_ac_kr/EbMhBPnmIb5MutZvGicPKggBWKm5hLs0iwKfGW7_TwQIKg?download=1 -O custom_korean_family_dataset_resolution_128.zip\n",
    "    !unzip custom_korean_fechamily_dataset_resolution_128.zip -d ./custom_korean_family_dataset_resolution_128\n",
    "\n",
    "    ! mkdir images; cp -r ./custom_korean_family_dataset_resolution_128/*_images/* ./images\n"
   ]
  },
  {
   "cell_type": "markdown",
   "metadata": {},
   "source": [
    "#### <b>Read Data</b>"
   ]
  },
  {
   "cell_type": "code",
   "execution_count": 6,
   "metadata": {},
   "outputs": [],
   "source": [
    "custom_train_dataset = pd.read_csv(PATH_TO_DATA/'custom_korean_family_dataset_resolution_128'/'custom_train_dataset.csv')\n",
    "custom_unseen_dataset = pd.read_csv(PATH_TO_DATA/'custom_korean_family_dataset_resolution_128'/'custom_test_dataset.csv')\n",
    "custom_test_dataset = pd.read_csv(PATH_TO_DATA/'custom_korean_family_dataset_resolution_128'/'custom_val_dataset.csv')\n",
    "\n",
    "df = pd.concat([custom_train_dataset, custom_unseen_dataset, custom_test_dataset], ignore_index=True)"
   ]
  },
  {
   "cell_type": "markdown",
   "metadata": {},
   "source": [
    "#### <b>Do splits</b>"
   ]
  },
  {
   "cell_type": "code",
   "execution_count": 11,
   "metadata": {},
   "outputs": [],
   "source": [
    "inds = df['family_id'].unique().tolist()\n",
    "inds.sort()\n",
    "\n",
    "train_inds, test_unseen_inds = train_test_split(inds, test_size=0.20, random_state=42)\n",
    "test_families, unseen_families = train_test_split(test_unseen_inds, test_size=0.50, random_state=42)\n",
    "train_families, _ = train_test_split(train_inds, test_size=0.50, random_state=42)\n",
    "retain_families, forget_families = train_test_split(train_families, test_size=0.05, random_state=42)\n",
    "\n",
    "df['sample'] = None\n",
    "df.loc[df['family_id'].isin(retain_families), 'sample'] = 'retain'\n",
    "df.loc[df['family_id'].isin(forget_families), 'sample'] = 'forget'\n",
    "df.loc[df['family_id'].isin(unseen_families), 'sample'] = 'unseen'\n",
    "df.loc[df['family_id'].isin(test_families), 'sample'] = 'test'\n",
    "df['sample'] = df['sample'].fillna('shadow')"
   ]
  },
  {
   "cell_type": "code",
   "execution_count": 8,
   "metadata": {},
   "outputs": [
    {
     "data": {
      "text/html": [
       "<div>\n",
       "<style scoped>\n",
       "    .dataframe tbody tr th:only-of-type {\n",
       "        vertical-align: middle;\n",
       "    }\n",
       "\n",
       "    .dataframe tbody tr th {\n",
       "        vertical-align: top;\n",
       "    }\n",
       "\n",
       "    .dataframe thead th {\n",
       "        text-align: right;\n",
       "    }\n",
       "</style>\n",
       "<table border=\"1\" class=\"dataframe\">\n",
       "  <thead>\n",
       "    <tr style=\"text-align: right;\">\n",
       "      <th></th>\n",
       "      <th>family_id</th>\n",
       "      <th>person_id</th>\n",
       "      <th>age_class</th>\n",
       "      <th>image_path</th>\n",
       "      <th>sample</th>\n",
       "    </tr>\n",
       "  </thead>\n",
       "  <tbody>\n",
       "    <tr>\n",
       "      <th>0</th>\n",
       "      <td>F0001</td>\n",
       "      <td>D</td>\n",
       "      <td>a</td>\n",
       "      <td>F0001_AGE_D_18_a1.jpg</td>\n",
       "      <td>test</td>\n",
       "    </tr>\n",
       "    <tr>\n",
       "      <th>1</th>\n",
       "      <td>F0001</td>\n",
       "      <td>D</td>\n",
       "      <td>a</td>\n",
       "      <td>F0001_AGE_D_18_a2.jpg</td>\n",
       "      <td>test</td>\n",
       "    </tr>\n",
       "    <tr>\n",
       "      <th>2</th>\n",
       "      <td>F0001</td>\n",
       "      <td>D</td>\n",
       "      <td>a</td>\n",
       "      <td>F0001_AGE_D_18_a3.jpg</td>\n",
       "      <td>test</td>\n",
       "    </tr>\n",
       "    <tr>\n",
       "      <th>3</th>\n",
       "      <td>F0001</td>\n",
       "      <td>D</td>\n",
       "      <td>a</td>\n",
       "      <td>F0001_AGE_D_18_a4.jpg</td>\n",
       "      <td>test</td>\n",
       "    </tr>\n",
       "    <tr>\n",
       "      <th>4</th>\n",
       "      <td>F0001</td>\n",
       "      <td>D</td>\n",
       "      <td>b</td>\n",
       "      <td>F0001_AGE_D_18_b1.jpg</td>\n",
       "      <td>test</td>\n",
       "    </tr>\n",
       "  </tbody>\n",
       "</table>\n",
       "</div>"
      ],
      "text/plain": [
       "  family_id person_id age_class             image_path sample\n",
       "0     F0001         D         a  F0001_AGE_D_18_a1.jpg   test\n",
       "1     F0001         D         a  F0001_AGE_D_18_a2.jpg   test\n",
       "2     F0001         D         a  F0001_AGE_D_18_a3.jpg   test\n",
       "3     F0001         D         a  F0001_AGE_D_18_a4.jpg   test\n",
       "4     F0001         D         b  F0001_AGE_D_18_b1.jpg   test"
      ]
     },
     "execution_count": 8,
     "metadata": {},
     "output_type": "execute_result"
    }
   ],
   "source": [
    "df.head()"
   ]
  },
  {
   "cell_type": "code",
   "execution_count": 12,
   "metadata": {},
   "outputs": [
    {
     "data": {
      "text/html": [
       "<div>\n",
       "<style scoped>\n",
       "    .dataframe tbody tr th:only-of-type {\n",
       "        vertical-align: middle;\n",
       "    }\n",
       "\n",
       "    .dataframe tbody tr th {\n",
       "        vertical-align: top;\n",
       "    }\n",
       "\n",
       "    .dataframe thead th {\n",
       "        text-align: right;\n",
       "    }\n",
       "</style>\n",
       "<table border=\"1\" class=\"dataframe\">\n",
       "  <thead>\n",
       "    <tr style=\"text-align: right;\">\n",
       "      <th>sample</th>\n",
       "      <th>forget</th>\n",
       "      <th>retain</th>\n",
       "      <th>shadow</th>\n",
       "      <th>test</th>\n",
       "      <th>unseen</th>\n",
       "    </tr>\n",
       "  </thead>\n",
       "  <tbody>\n",
       "    <tr>\n",
       "      <th>count</th>\n",
       "      <td>270</td>\n",
       "      <td>4876</td>\n",
       "      <td>5352</td>\n",
       "      <td>1296</td>\n",
       "      <td>1274</td>\n",
       "    </tr>\n",
       "  </tbody>\n",
       "</table>\n",
       "</div>"
      ],
      "text/plain": [
       "sample  forget  retain  shadow  test  unseen\n",
       "count      270    4876    5352  1296    1274"
      ]
     },
     "execution_count": 12,
     "metadata": {},
     "output_type": "execute_result"
    }
   ],
   "source": [
    "# кол-во наблюдений в выборках\n",
    "\n",
    "df['sample'].value_counts().sort_index().reset_index().set_index('sample').T"
   ]
  },
  {
   "cell_type": "code",
   "execution_count": 13,
   "metadata": {},
   "outputs": [
    {
     "data": {
      "text/html": [
       "<div>\n",
       "<style scoped>\n",
       "    .dataframe tbody tr th:only-of-type {\n",
       "        vertical-align: middle;\n",
       "    }\n",
       "\n",
       "    .dataframe tbody tr th {\n",
       "        vertical-align: top;\n",
       "    }\n",
       "\n",
       "    .dataframe thead th {\n",
       "        text-align: right;\n",
       "    }\n",
       "</style>\n",
       "<table border=\"1\" class=\"dataframe\">\n",
       "  <thead>\n",
       "    <tr style=\"text-align: right;\">\n",
       "      <th>sample</th>\n",
       "      <th>forget</th>\n",
       "      <th>retain</th>\n",
       "      <th>shadow</th>\n",
       "      <th>test</th>\n",
       "      <th>unseen</th>\n",
       "    </tr>\n",
       "  </thead>\n",
       "  <tbody>\n",
       "    <tr>\n",
       "      <th>proportion</th>\n",
       "      <td>2.066116</td>\n",
       "      <td>37.312519</td>\n",
       "      <td>40.955005</td>\n",
       "      <td>9.917355</td>\n",
       "      <td>9.749005</td>\n",
       "    </tr>\n",
       "  </tbody>\n",
       "</table>\n",
       "</div>"
      ],
      "text/plain": [
       "sample        forget     retain     shadow      test    unseen\n",
       "proportion  2.066116  37.312519  40.955005  9.917355  9.749005"
      ]
     },
     "execution_count": 13,
     "metadata": {},
     "output_type": "execute_result"
    }
   ],
   "source": [
    "# кол-во наблюдений в выборках (в процентах)\n",
    "\n",
    "100 * df['sample'].value_counts(normalize=True).sort_index().reset_index().set_index('sample').T"
   ]
  },
  {
   "cell_type": "code",
   "execution_count": 14,
   "metadata": {},
   "outputs": [
    {
     "data": {
      "text/html": [
       "<div>\n",
       "<style scoped>\n",
       "    .dataframe tbody tr th:only-of-type {\n",
       "        vertical-align: middle;\n",
       "    }\n",
       "\n",
       "    .dataframe tbody tr th {\n",
       "        vertical-align: top;\n",
       "    }\n",
       "\n",
       "    .dataframe thead th {\n",
       "        text-align: right;\n",
       "    }\n",
       "</style>\n",
       "<table border=\"1\" class=\"dataframe\">\n",
       "  <thead>\n",
       "    <tr style=\"text-align: right;\">\n",
       "      <th>age_class</th>\n",
       "      <th>a</th>\n",
       "      <th>b</th>\n",
       "      <th>c</th>\n",
       "      <th>d</th>\n",
       "      <th>e</th>\n",
       "      <th>f</th>\n",
       "      <th>g</th>\n",
       "      <th>h</th>\n",
       "    </tr>\n",
       "    <tr>\n",
       "      <th>sample</th>\n",
       "      <th></th>\n",
       "      <th></th>\n",
       "      <th></th>\n",
       "      <th></th>\n",
       "      <th></th>\n",
       "      <th></th>\n",
       "      <th></th>\n",
       "      <th></th>\n",
       "    </tr>\n",
       "  </thead>\n",
       "  <tbody>\n",
       "    <tr>\n",
       "      <th>forget</th>\n",
       "      <td>0.225926</td>\n",
       "      <td>0.203704</td>\n",
       "      <td>0.174074</td>\n",
       "      <td>0.125926</td>\n",
       "      <td>0.159259</td>\n",
       "      <td>0.074074</td>\n",
       "      <td>0.025926</td>\n",
       "      <td>0.011111</td>\n",
       "    </tr>\n",
       "    <tr>\n",
       "      <th>retain</th>\n",
       "      <td>0.230722</td>\n",
       "      <td>0.214110</td>\n",
       "      <td>0.168786</td>\n",
       "      <td>0.125513</td>\n",
       "      <td>0.136177</td>\n",
       "      <td>0.069729</td>\n",
       "      <td>0.037326</td>\n",
       "      <td>0.017637</td>\n",
       "    </tr>\n",
       "    <tr>\n",
       "      <th>shadow</th>\n",
       "      <td>0.213004</td>\n",
       "      <td>0.202728</td>\n",
       "      <td>0.176009</td>\n",
       "      <td>0.127429</td>\n",
       "      <td>0.141629</td>\n",
       "      <td>0.076794</td>\n",
       "      <td>0.038677</td>\n",
       "      <td>0.023729</td>\n",
       "    </tr>\n",
       "    <tr>\n",
       "      <th>test</th>\n",
       "      <td>0.202932</td>\n",
       "      <td>0.190586</td>\n",
       "      <td>0.185185</td>\n",
       "      <td>0.139660</td>\n",
       "      <td>0.150463</td>\n",
       "      <td>0.072531</td>\n",
       "      <td>0.040123</td>\n",
       "      <td>0.018519</td>\n",
       "    </tr>\n",
       "    <tr>\n",
       "      <th>unseen</th>\n",
       "      <td>0.239403</td>\n",
       "      <td>0.193878</td>\n",
       "      <td>0.172684</td>\n",
       "      <td>0.125589</td>\n",
       "      <td>0.130298</td>\n",
       "      <td>0.071429</td>\n",
       "      <td>0.040816</td>\n",
       "      <td>0.025903</td>\n",
       "    </tr>\n",
       "  </tbody>\n",
       "</table>\n",
       "</div>"
      ],
      "text/plain": [
       "age_class         a         b         c         d         e         f  \\\n",
       "sample                                                                  \n",
       "forget     0.225926  0.203704  0.174074  0.125926  0.159259  0.074074   \n",
       "retain     0.230722  0.214110  0.168786  0.125513  0.136177  0.069729   \n",
       "shadow     0.213004  0.202728  0.176009  0.127429  0.141629  0.076794   \n",
       "test       0.202932  0.190586  0.185185  0.139660  0.150463  0.072531   \n",
       "unseen     0.239403  0.193878  0.172684  0.125589  0.130298  0.071429   \n",
       "\n",
       "age_class         g         h  \n",
       "sample                         \n",
       "forget     0.025926  0.011111  \n",
       "retain     0.037326  0.017637  \n",
       "shadow     0.038677  0.023729  \n",
       "test       0.040123  0.018519  \n",
       "unseen     0.040816  0.025903  "
      ]
     },
     "execution_count": 14,
     "metadata": {},
     "output_type": "execute_result"
    }
   ],
   "source": [
    "# таргет рейт\n",
    "\n",
    "df.groupby(['sample'])['age_class'].value_counts(normalize=True).unstack().sort_index()"
   ]
  },
  {
   "cell_type": "code",
   "execution_count": 15,
   "metadata": {},
   "outputs": [
    {
     "data": {
      "text/html": [
       "<div>\n",
       "<style scoped>\n",
       "    .dataframe tbody tr th:only-of-type {\n",
       "        vertical-align: middle;\n",
       "    }\n",
       "\n",
       "    .dataframe tbody tr th {\n",
       "        vertical-align: top;\n",
       "    }\n",
       "\n",
       "    .dataframe thead th {\n",
       "        text-align: right;\n",
       "    }\n",
       "</style>\n",
       "<table border=\"1\" class=\"dataframe\">\n",
       "  <thead>\n",
       "    <tr style=\"text-align: right;\">\n",
       "      <th>sample</th>\n",
       "      <th>forget</th>\n",
       "      <th>retain</th>\n",
       "      <th>shadow</th>\n",
       "      <th>test</th>\n",
       "      <th>unseen</th>\n",
       "    </tr>\n",
       "  </thead>\n",
       "  <tbody>\n",
       "    <tr>\n",
       "      <th>family_id</th>\n",
       "      <td>8</td>\n",
       "      <td>151</td>\n",
       "      <td>160</td>\n",
       "      <td>40</td>\n",
       "      <td>40</td>\n",
       "    </tr>\n",
       "  </tbody>\n",
       "</table>\n",
       "</div>"
      ],
      "text/plain": [
       "sample     forget  retain  shadow  test  unseen\n",
       "family_id       8     151     160    40      40"
      ]
     },
     "execution_count": 15,
     "metadata": {},
     "output_type": "execute_result"
    }
   ],
   "source": [
    "# кол-во уникальных семей в выборках\n",
    "\n",
    "df.groupby('sample')['family_id'].apply(lambda x: len(set(x))).sort_index().reset_index().set_index('sample').T"
   ]
  },
  {
   "cell_type": "code",
   "execution_count": 16,
   "metadata": {},
   "outputs": [
    {
     "data": {
      "text/html": [
       "<div>\n",
       "<style scoped>\n",
       "    .dataframe tbody tr th:only-of-type {\n",
       "        vertical-align: middle;\n",
       "    }\n",
       "\n",
       "    .dataframe tbody tr th {\n",
       "        vertical-align: top;\n",
       "    }\n",
       "\n",
       "    .dataframe thead th {\n",
       "        text-align: right;\n",
       "    }\n",
       "</style>\n",
       "<table border=\"1\" class=\"dataframe\">\n",
       "  <thead>\n",
       "    <tr style=\"text-align: right;\">\n",
       "      <th>sample</th>\n",
       "      <th>forget</th>\n",
       "      <th>retain</th>\n",
       "      <th>shadow</th>\n",
       "      <th>test</th>\n",
       "      <th>unseen</th>\n",
       "    </tr>\n",
       "  </thead>\n",
       "  <tbody>\n",
       "    <tr>\n",
       "      <th>family_id</th>\n",
       "      <td>33.75</td>\n",
       "      <td>32.291391</td>\n",
       "      <td>33.45</td>\n",
       "      <td>32.4</td>\n",
       "      <td>31.85</td>\n",
       "    </tr>\n",
       "  </tbody>\n",
       "</table>\n",
       "</div>"
      ],
      "text/plain": [
       "sample     forget     retain  shadow  test  unseen\n",
       "family_id   33.75  32.291391   33.45  32.4   31.85"
      ]
     },
     "execution_count": 16,
     "metadata": {},
     "output_type": "execute_result"
    }
   ],
   "source": [
    "# среднее количество фото для каждой identity в выборках\n",
    "\n",
    "(\n",
    "    df.groupby(['sample'])['family_id'].apply(lambda x: len(x)) / \\\n",
    "    df.groupby(['sample'])['family_id'].apply(lambda x: len(set(x)))\n",
    ").sort_index().reset_index().set_index('sample').T"
   ]
  },
  {
   "cell_type": "code",
   "execution_count": 17,
   "metadata": {},
   "outputs": [],
   "source": [
    "shadow_datasets = PATH_TO_DATA/'shadow_manifests'\n",
    "shadow_datasets.mkdir(exist_ok=True, parents=True)\n",
    "\n",
    "num_shadows = 128\n",
    "counter = pd.Series(index=train_inds, data=num_shadows//2)\n",
    "\n",
    "correction = 1 if len(counter) % 2 != 0 else 0\n",
    "\n",
    "for shadow_idx in range(num_shadows):\n",
    "    \n",
    "    bootstrap_inds = counter\\\n",
    "        .sample(frac=1, random_state=shadow_idx)\\\n",
    "        .sort_values(ascending=False, kind='stable')\\\n",
    "        .iloc[:len(counter)//2 + correction*(shadow_idx%2!=0)]\\\n",
    "        .index\n",
    "    counter[bootstrap_inds] -= 1\n",
    "    \n",
    "    df.loc[df['family_id'].isin(bootstrap_inds)].to_csv(shadow_datasets/f'{shadow_idx:04}.csv', index=False)\n",
    "\n",
    "df.loc[df['sample'].isin(['forget', 'retain'])].to_csv(PATH_TO_DATA/'train_manifest.csv', index=False)\n",
    "df.loc[df['sample'].eq('retain')].to_csv(PATH_TO_DATA/'retain_manifest.csv', index=False)\n",
    "df.loc[df['sample'].eq('forget')].to_csv(PATH_TO_DATA/'forget_manifest.csv', index=False)\n",
    "df.loc[df['sample'].eq('test')].to_csv(PATH_TO_DATA/'test_manifest.csv', index=False)\n",
    "df.loc[df['sample'].eq('unseen')].to_csv(PATH_TO_DATA/'unseen_manifest.csv', index=False)"
   ]
  },
  {
   "cell_type": "code",
   "execution_count": 18,
   "metadata": {},
   "outputs": [],
   "source": [
    "data_split = [None for _ in range(num_shadows)]\n",
    "for shadow_idx in range(num_shadows):\n",
    "    tmp = pd.read_csv(shadow_datasets/f'{shadow_idx:04}.csv')\n",
    "    data_split[shadow_idx] = tmp['family_id'].unique().tolist()\n",
    "\n",
    "\n",
    "data_split = pd.DataFrame(data_split).T\n",
    "\n",
    "data_split_dict = dict()\n",
    "for family in train_inds:\n",
    "    data_split_dict[family] = data_split.columns[np.any(data_split == family, axis=0)].tolist()\n",
    "\n",
    "\n",
    "data_split_df = pd.DataFrame(data_split_dict).T.reset_index().rename(columns={'index': 'family_id'})\n",
    "data_split_df = pd.merge(data_split_df, df[['family_id', 'image_path']]).drop(columns=['family_id']).set_index('image_path')\n",
    "\n",
    "with open(PATH_TO_DATA/'data_split_dict.pickle', 'wb') as file:\n",
    "    pickle.dump(\n",
    "        {filename: datasets.tolist() for filename, datasets in zip(data_split_df.index, data_split_df.values)}, \n",
    "        file\n",
    "    )\n",
    "    "
   ]
  }
 ],
 "metadata": {
  "kernelspec": {
   "display_name": "zhavoronkin_env",
   "language": "python",
   "name": "python3"
  },
  "language_info": {
   "codemirror_mode": {
    "name": "ipython",
    "version": 3
   },
   "file_extension": ".py",
   "mimetype": "text/x-python",
   "name": "python",
   "nbconvert_exporter": "python",
   "pygments_lexer": "ipython3",
   "version": "3.9.18"
  }
 },
 "nbformat": 4,
 "nbformat_minor": 2
}
