{
 "cells": [
  {
   "cell_type": "code",
   "execution_count": null,
   "metadata": {},
   "outputs": [],
   "source": [
    "import os\n",
    "from pathlib import Path\n",
    "import pandas as pd\n",
    "import numpy as np"
   ]
  },
  {
   "cell_type": "code",
   "execution_count": null,
   "metadata": {},
   "outputs": [],
   "source": [
    "BASE_DATASET_PATH = Path('./custom_korean_family_dataset_resolution_128')\n",
    "custom_shadow_dataset = BASE_DATASET_PATH/'custom_shadow_dataset'\n",
    "os.system(f'rm -r {custom_shadow_dataset}')\n",
    "custom_shadow_dataset.mkdir(parents=True, exist_ok=True)\n",
    "\n",
    "custom_train_dataset = pd.read_csv(BASE_DATASET_PATH/'custom_train_dataset.csv')\n",
    "\n",
    "# Lets split train dataset for shadow datasets and new train one\n",
    "train_dataset = custom_train_dataset[custom_train_dataset['family_id'] <= 'F0149']\n",
    "shadow_dataset = custom_train_dataset[custom_train_dataset['family_id'] >= 'F0150']\n",
    "\n",
    "family_inds = sorted(shadow_dataset['family_id'].unique())\n",
    "for idx in range(128):\n",
    "    random_family_inds = np.unique(np.random.RandomState(idx).choice(family_inds, size=len(family_inds)))\n",
    "    shadow_dataset[shadow_dataset['family_id'].isin(random_family_inds)].to_csv(custom_shadow_dataset/f'{idx:04}.csv', index=False)\n",
    "    \n",
    "train_dataset.to_csv(BASE_DATASET_PATH/'new_custom_train_dataset.csv', index=False)"
   ]
  }
 ],
 "metadata": {
  "kernelspec": {
   "display_name": "zhavoronkin_env",
   "language": "python",
   "name": "python3"
  },
  "language_info": {
   "codemirror_mode": {
    "name": "ipython",
    "version": 3
   },
   "file_extension": ".py",
   "mimetype": "text/x-python",
   "name": "python",
   "nbconvert_exporter": "python",
   "pygments_lexer": "ipython3",
   "version": "3.9.18"
  }
 },
 "nbformat": 4,
 "nbformat_minor": 2
}
