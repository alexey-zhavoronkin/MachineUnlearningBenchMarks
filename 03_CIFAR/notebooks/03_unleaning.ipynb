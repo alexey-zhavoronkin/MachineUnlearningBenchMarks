{
 "cells": [
  {
   "cell_type": "code",
   "execution_count": 1,
   "metadata": {},
   "outputs": [],
   "source": [
    "from pathlib import Path\n",
    "import sys\n",
    "\n",
    "BASE_PATH = Path('../')\n",
    "PATH_TO_DATA = BASE_PATH/'data'\n",
    "PATH_TO_MODELS = BASE_PATH/'checkpoints'\n",
    "PATH_TO_CACHE = BASE_PATH/'cache'\n",
    "PATH_TO_LOGS = BASE_PATH/'logs'\n",
    "\n",
    "PATH_TO_CACHE.mkdir(exist_ok=True, parents=True)\n",
    "PATH_TO_DATA.mkdir(exist_ok=True, parents=True)\n",
    "PATH_TO_MODELS.mkdir(exist_ok=True, parents=True)\n",
    "PATH_TO_LOGS.mkdir(exist_ok=True, parents=True)\n",
    "\n",
    "\n",
    "sys.path.append(str(BASE_PATH/'..'))"
   ]
  },
  {
   "cell_type": "markdown",
   "metadata": {},
   "source": [
    "#### <b>Load Libraries</b>"
   ]
  },
  {
   "cell_type": "code",
   "execution_count": 51,
   "metadata": {},
   "outputs": [],
   "source": [
    "import pprint\n",
    "from copy import deepcopy\n",
    "from tqdm import tqdm\n",
    "import time\n",
    "import random\n",
    "from pathlib import Path\n",
    "import pickle\n",
    "\n",
    "from PIL import Image\n",
    "\n",
    "import numpy as np\n",
    "import pandas as pd\n",
    "from sklearn import metrics\n",
    "import matplotlib.pyplot as plt\n",
    "\n",
    "import torch\n",
    "import torch.nn as nn\n",
    "import torch.nn.functional as F\n",
    "import torch.optim as optim\n",
    "import torchvision.models as models\n",
    "from torchvision import models\n",
    "from torchvision import transforms\n",
    "from torchvision.datasets import CIFAR10\n",
    "\n",
    "from torch.utils.data import Dataset, DataLoader, Subset\n",
    "\n",
    "from utils import progress_bar, load_model"
   ]
  },
  {
   "cell_type": "markdown",
   "metadata": {},
   "source": [
    "#### <b>Notebook Constants</b>"
   ]
  },
  {
   "cell_type": "code",
   "execution_count": 3,
   "metadata": {},
   "outputs": [],
   "source": [
    "RANDOM_STATE = 42\n",
    "BATCH_SIZE = 256\n",
    "NUM_WORKERS = 4\n",
    "DEVICE = 'cuda'\n",
    "NUM_CLASSES = 10"
   ]
  },
  {
   "cell_type": "code",
   "execution_count": 4,
   "metadata": {},
   "outputs": [],
   "source": [
    "def set_random_seed(seed=42):\n",
    "    torch.manual_seed(seed)\n",
    "    torch.cuda.manual_seed_all(seed)\n",
    "    torch.backends.cudnn.deterministic = True\n",
    "    torch.backends.cudnn.benchmark = False\n",
    "    np.random.seed(seed)\n",
    "    random.seed(seed)"
   ]
  },
  {
   "cell_type": "markdown",
   "metadata": {},
   "source": [
    "#### <b>Define Custom Dataset</b>"
   ]
  },
  {
   "cell_type": "code",
   "execution_count": 5,
   "metadata": {},
   "outputs": [],
   "source": [
    "train_transforms = transforms.Compose([\n",
    "    transforms.RandomCrop(32, padding=4),\n",
    "    transforms.RandomHorizontalFlip(),\n",
    "    transforms.ToTensor(),\n",
    "    transforms.Normalize((0.4914, 0.4822, 0.4465), (0.2023, 0.1994, 0.2010)),\n",
    "])\n",
    "test_transforms = transforms.Compose([\n",
    "    transforms.ToTensor(),\n",
    "    transforms.Normalize((0.4914, 0.4822, 0.4465), (0.2023, 0.1994, 0.2010)),\n",
    "])\n",
    "\n",
    "cifar10_aug = CIFAR10(root=PATH_TO_DATA, train=True, transform=train_transforms)\n",
    "cifar10 = CIFAR10(root=PATH_TO_DATA, train=True, transform=test_transforms)\n",
    "\n",
    "test_dataset = CIFAR10(root=PATH_TO_DATA, train=False, transform=test_transforms)\n",
    "test_dataloader = DataLoader(test_dataset, batch_size=BATCH_SIZE, shuffle=False, num_workers=NUM_WORKERS)"
   ]
  },
  {
   "cell_type": "code",
   "execution_count": 6,
   "metadata": {},
   "outputs": [],
   "source": [
    "train_inds = np.load(PATH_TO_DATA/'train_inds.npy')\n",
    "unseen_inds = np.load(PATH_TO_DATA/'unseen_inds.npy')\n",
    "retain_inds = np.load(PATH_TO_DATA/'retain_inds.npy')\n",
    "forget_inds = np.load(PATH_TO_DATA/'forget_inds.npy')\n",
    "shadow_inds = np.load(PATH_TO_DATA/'shadow_inds.npy')\n",
    "\n",
    "\n",
    "with open(PATH_TO_DATA/'data_split.pickle', 'rb') as file:\n",
    "    data_split = pickle.load(file)"
   ]
  },
  {
   "cell_type": "markdown",
   "metadata": {},
   "source": [
    "#### <b>Evalution utils</b>"
   ]
  },
  {
   "cell_type": "code",
   "execution_count": 7,
   "metadata": {},
   "outputs": [],
   "source": [
    "def downstream_task_performance(model, dataloader):\n",
    "    model.eval()\n",
    "    top2_correct = 0\n",
    "    correct = 0\n",
    "    total = 0\n",
    "    with torch.no_grad():\n",
    "        for batch_idx, (inputs, targets) in enumerate(dataloader):\n",
    "            inputs, targets = inputs.to(DEVICE), targets.to(DEVICE)\n",
    "            outputs = model(inputs)\n",
    "\n",
    "            _, preds = outputs.max(1)\n",
    "            total += targets.size(0)\n",
    "            correct += preds.eq(targets).sum().item()\n",
    "\n",
    "            # Top-2 accuracy.\n",
    "            _, top2_preds = outputs.topk(2, dim=1)\n",
    "            top2_correct += top2_preds.eq(targets.view(-1, 1).expand_as(top2_preds)).any(dim=1).sum().item()\n",
    "\n",
    "            progress_bar(batch_idx, len(dataloader), f'Acc: {100*correct/total:.2f}%%% Top2 Acc: {100*top2_correct/total:.2f}%%%')\n",
    "    \n",
    "    return 100*correct/total, 100*top2_correct/total"
   ]
  },
  {
   "cell_type": "code",
   "execution_count": 8,
   "metadata": {},
   "outputs": [],
   "source": [
    "from MIA.score import get_logits, lira_offline, lira_online\n",
    "\n",
    "def lira(target_net, train_inds, forget_inds, data_split, cached=True):\n",
    "\n",
    "    num_aug = 1\n",
    "    fix_variance = False\n",
    "\n",
    "    if num_aug > 1:\n",
    "        dataset = Subset(cifar10_aug, train_inds)\n",
    "    else:\n",
    "        dataset = Subset(cifar10, train_inds)\n",
    "    dataloader = DataLoader(dataset, batch_size=BATCH_SIZE, shuffle=False, num_workers=NUM_WORKERS)\n",
    "    labels = np.int64(~np.isin(train_inds, forget_inds))\n",
    "    masks_in = [np.array(data_split[x]) for x in train_inds]\n",
    "    \n",
    "    if cached and (PATH_TO_CACHE/'shadow_logits.npy').is_file():\n",
    "        shadow_logits = np.load(PATH_TO_CACHE/'shadow_logits.npy')\n",
    "        print('Shadow logits were brought from cache')\n",
    "    else:\n",
    "        shadow_nets = [load_model(state_dict, NUM_CLASSES).to(DEVICE) for state_dict in (PATH_TO_MODELS/'shadow').glob('*/*')]\n",
    "        shadow_logits = []\n",
    "        for _ in range(num_aug):\n",
    "            dataset_labels = []\n",
    "            shadow_aug_logits = [[] for _ in range(len(shadow_nets))]\n",
    "            with torch.no_grad():\n",
    "                for batch_idx, (inputs, targets) in tqdm(enumerate(dataloader), total=len(dataloader)):\n",
    "                    inputs, targets = inputs.to(DEVICE), targets.to(DEVICE)\n",
    "\n",
    "                    for i, net in enumerate(shadow_nets):\n",
    "                        logits = net(inputs).cpu().tolist()\n",
    "                        shadow_aug_logits[i].append(logits)\n",
    "                \n",
    "                    dataset_labels.append(targets.cpu().tolist())\n",
    "\n",
    "            shadow_aug_logits = np.stack([np.concatenate(logits) for logits in shadow_aug_logits])  # [n_shadow, n_examples, n_classes]\n",
    "            dataset_labels = np.concatenate(dataset_labels)[:, None]  # [n_examples, 1]\n",
    "\n",
    "            # Extract numerically stable logits\n",
    "            shadow_aug_logits = get_logits(shadow_aug_logits, np.repeat(dataset_labels[None], len(shadow_nets), 0))\n",
    "            shadow_logits.append(shadow_aug_logits)\n",
    "        \n",
    "        shadow_logits = np.stack(shadow_logits, axis=-1)\n",
    "        shadow_logits = np.swapaxes(shadow_logits, 0, 1)  # [n_examples, n_shadow, n_aug]\n",
    "        np.save(PATH_TO_CACHE/'shadow_logits.npy', shadow_logits)\n",
    "    \n",
    "    target_logits = []\n",
    "    for _ in range(num_aug):\n",
    "        dataset_labels = []\n",
    "        target_aug_logits = []\n",
    "        with torch.no_grad():\n",
    "            for batch_idx, (inputs, targets) in tqdm(enumerate(dataloader), total=len(dataloader)):\n",
    "                inputs, targets = inputs.to(DEVICE), targets.to(DEVICE)\n",
    "\n",
    "                logits = target_net(inputs).cpu().tolist()\n",
    "                target_aug_logits.append(logits)\n",
    "        \n",
    "                dataset_labels.append(targets.cpu().tolist())\n",
    "            \n",
    "        \n",
    "        target_aug_logits = np.concatenate(target_aug_logits)  # [n_examples, n_classes]\n",
    "        dataset_labels = np.concatenate(dataset_labels)[:, None]  # [n_examples, 1]\n",
    "\n",
    "        # Extract numerically stable logits\n",
    "        target_aug_logits = get_logits(target_aug_logits, dataset_labels)\n",
    "\n",
    "        target_logits.append(target_aug_logits)\n",
    "\n",
    "    target_logits = np.stack(target_logits, axis=-1)  # [n_examples, n_aug]\n",
    "\n",
    "    fnr, tnr, auc, low = lira_online(target_logits, shadow_logits, labels, masks_in, fix_variance=fix_variance)\n",
    "\n",
    "    return fnr, tnr, auc, low"
   ]
  },
  {
   "cell_type": "code",
   "execution_count": 9,
   "metadata": {},
   "outputs": [],
   "source": [
    "def evaluate_unlearning(model, forget_inds, retain_inds):\n",
    "\n",
    "    global cifar10, train_inds, data_split, unseen_inds, test_dataloader\n",
    "\n",
    "    unseen_dataset = Subset(cifar10, unseen_inds)\n",
    "    unseen_dataloader = DataLoader(unseen_dataset, batch_size=BATCH_SIZE, shuffle=True, num_workers=NUM_WORKERS)\n",
    "\n",
    "    forget_dataset = Subset(cifar10, forget_inds)\n",
    "    forget_dataloader = DataLoader(forget_dataset, batch_size=BATCH_SIZE, shuffle=True, num_workers=NUM_WORKERS)\n",
    "\n",
    "    retain_dataset = Subset(cifar10, retain_inds)\n",
    "    retain_dataloader = DataLoader(retain_dataset, batch_size=BATCH_SIZE, shuffle=True, num_workers=NUM_WORKERS)\n",
    "\n",
    "    model.eval()\n",
    "    \n",
    "    retain_acc = downstream_task_performance(model, retain_dataloader)\n",
    "    forget_acc = downstream_task_performance(model, forget_dataloader)\n",
    "    test_acc = downstream_task_performance(model, test_dataloader)\n",
    "    unseen_acc = downstream_task_performance(model, unseen_dataloader)\n",
    "    fnr, tnr, auc, low = lira(model, train_inds, forget_inds, data_split)\n",
    "\n",
    "    result_df = pd.DataFrame(\n",
    "            index=[\n",
    "                'retain_acc',\n",
    "                'forget_acc',\n",
    "                'test_acc',\n",
    "                'unseen_acc',\n",
    "                'MIA_AUC','MIA_TNR@1%FNR'\n",
    "            ],\n",
    "            data=[\n",
    "                np.round(retain_acc[0], 2),\n",
    "                np.round(forget_acc[0], 2),\n",
    "                np.round(test_acc[0], 2),\n",
    "                np.round(unseen_acc[0], 2),\n",
    "                np.round(100*auc, 2),\n",
    "                np.round(100*low, 2)\n",
    "            ]\n",
    "            ).T\n",
    "\n",
    "    return result_df, fnr, tnr\n"
   ]
  },
  {
   "cell_type": "markdown",
   "metadata": {},
   "source": [
    "#### <b>Evaluate origin model</b>"
   ]
  },
  {
   "cell_type": "code",
   "execution_count": 10,
   "metadata": {},
   "outputs": [
    {
     "name": "stdout",
     "output_type": "stream",
     "text": [
      " [=======================================>]  Step: 27ms | Tot: 604ms | Acc: 89.05%%% Top2 Acc: 96.75% 84/84 \n",
      " [================================>.......]  Step: 27ms | Tot: 39ms | Acc: 89.16%%% Top2 Acc: 96.80% 5/5 \n",
      " [=======================================>]  Step: 29ms | Tot: 290ms | Acc: 75.21%%% Top2 Acc: 88.86% 40/40 \n",
      " [======================================>.]  Step: 25ms | Tot: 149ms | Acc: 75.70%%% Top2 Acc: 90.22% 20/20 \n",
      "Shadow logits were brought from cache\n"
     ]
    },
    {
     "name": "stderr",
     "output_type": "stream",
     "text": [
      "100%|██████████| 88/88 [00:00<00:00, 103.76it/s]\n"
     ]
    },
    {
     "data": {
      "text/html": [
       "<div>\n",
       "<style scoped>\n",
       "    .dataframe tbody tr th:only-of-type {\n",
       "        vertical-align: middle;\n",
       "    }\n",
       "\n",
       "    .dataframe tbody tr th {\n",
       "        vertical-align: top;\n",
       "    }\n",
       "\n",
       "    .dataframe thead th {\n",
       "        text-align: right;\n",
       "    }\n",
       "</style>\n",
       "<table border=\"1\" class=\"dataframe\">\n",
       "  <thead>\n",
       "    <tr style=\"text-align: right;\">\n",
       "      <th></th>\n",
       "      <th>retain_acc</th>\n",
       "      <th>forget_acc</th>\n",
       "      <th>test_acc</th>\n",
       "      <th>unseen_acc</th>\n",
       "      <th>MIA_AUC</th>\n",
       "      <th>MIA_TNR@1%FNR</th>\n",
       "    </tr>\n",
       "  </thead>\n",
       "  <tbody>\n",
       "    <tr>\n",
       "      <th>0</th>\n",
       "      <td>89.05</td>\n",
       "      <td>89.16</td>\n",
       "      <td>75.21</td>\n",
       "      <td>75.7</td>\n",
       "      <td>49.84</td>\n",
       "      <td>1.07</td>\n",
       "    </tr>\n",
       "  </tbody>\n",
       "</table>\n",
       "</div>"
      ],
      "text/plain": [
       "   retain_acc  forget_acc  test_acc  unseen_acc  MIA_AUC  MIA_TNR@1%FNR\n",
       "0       89.05       89.16     75.21        75.7    49.84           1.07"
      ]
     },
     "metadata": {},
     "output_type": "display_data"
    },
    {
     "data": {
      "text/plain": [
       "<matplotlib.legend.Legend at 0x7fe799234b20>"
      ]
     },
     "execution_count": 10,
     "metadata": {},
     "output_type": "execute_result"
    },
    {
     "data": {
      "image/png": "[encoded data removed]",
      "text/plain": [
       "<Figure size 640x480 with 1 Axes>"
      ]
     },
     "metadata": {},
     "output_type": "display_data"
    }
   ],
   "source": [
    "model = load_model(PATH_TO_MODELS/'origin'/'state_dict.pth', NUM_CLASSES)\n",
    "model.to(DEVICE)\n",
    "\n",
    "df_metrics, fnr, tnr = evaluate_unlearning(model, forget_inds, retain_inds)\n",
    " \n",
    "display(df_metrics)\n",
    "\n",
    "plt.plot(fnr, tnr, label=f'auc: {metrics.auc(fnr, tnr):.3f}')\n",
    "plt.legend()"
   ]
  },
  {
   "cell_type": "markdown",
   "metadata": {},
   "source": [
    "#### <b>Evaluate retrained model</b>"
   ]
  },
  {
   "cell_type": "code",
   "execution_count": 11,
   "metadata": {},
   "outputs": [
    {
     "name": "stdout",
     "output_type": "stream",
     "text": [
      " [=======================================>]  Step: 4ms | Tot: 596ms | Acc: 90.18%%% Top2 Acc: 97.01% 84/84  \n",
      " [================================>.......]  Step: 4ms | Tot: 16ms | Acc: 74.93%%% Top2 Acc: 89.69% 5/5  \n",
      " [=======================================>]  Step: 2ms | Tot: 272ms | Acc: 75.93%%% Top2 Acc: 89.24% 40/40  ================================>.......]  Step: 16ms | Tot: 234ms | Acc: 75.88%%% Top2 Acc: 89.17% 33/40 \n",
      " [======================================>.]  Step: 3ms | Tot: 124ms | Acc: 76.06%%% Top2 Acc: 89.86% 20/20  \n",
      "Shadow logits were brought from cache\n"
     ]
    },
    {
     "name": "stderr",
     "output_type": "stream",
     "text": [
      "100%|██████████| 88/88 [00:00<00:00, 128.24it/s]\n"
     ]
    },
    {
     "data": {
      "text/html": [
       "<div>\n",
       "<style scoped>\n",
       "    .dataframe tbody tr th:only-of-type {\n",
       "        vertical-align: middle;\n",
       "    }\n",
       "\n",
       "    .dataframe tbody tr th {\n",
       "        vertical-align: top;\n",
       "    }\n",
       "\n",
       "    .dataframe thead th {\n",
       "        text-align: right;\n",
       "    }\n",
       "</style>\n",
       "<table border=\"1\" class=\"dataframe\">\n",
       "  <thead>\n",
       "    <tr style=\"text-align: right;\">\n",
       "      <th></th>\n",
       "      <th>retain_acc</th>\n",
       "      <th>forget_acc</th>\n",
       "      <th>test_acc</th>\n",
       "      <th>unseen_acc</th>\n",
       "      <th>MIA_AUC</th>\n",
       "      <th>MIA_TNR@1%FNR</th>\n",
       "    </tr>\n",
       "  </thead>\n",
       "  <tbody>\n",
       "    <tr>\n",
       "      <th>0</th>\n",
       "      <td>90.18</td>\n",
       "      <td>74.93</td>\n",
       "      <td>75.93</td>\n",
       "      <td>76.06</td>\n",
       "      <td>68.88</td>\n",
       "      <td>9.6</td>\n",
       "    </tr>\n",
       "  </tbody>\n",
       "</table>\n",
       "</div>"
      ],
      "text/plain": [
       "   retain_acc  forget_acc  test_acc  unseen_acc  MIA_AUC  MIA_TNR@1%FNR\n",
       "0       90.18       74.93     75.93       76.06    68.88            9.6"
      ]
     },
     "metadata": {},
     "output_type": "display_data"
    },
    {
     "data": {
      "text/plain": [
       "<matplotlib.legend.Legend at 0x7fe6844d5d90>"
      ]
     },
     "execution_count": 11,
     "metadata": {},
     "output_type": "execute_result"
    },
    {
     "data": {
      "image/png": "[encoded data removed]",
      "text/plain": [
       "<Figure size 640x480 with 1 Axes>"
      ]
     },
     "metadata": {},
     "output_type": "display_data"
    }
   ],
   "source": [
    "model = load_model(PATH_TO_MODELS/'retrained'/'state_dict.pth', NUM_CLASSES)\n",
    "model.to(DEVICE)\n",
    "\n",
    "df_metrics, fnr, tnr = evaluate_unlearning(model, forget_inds, retain_inds)\n",
    " \n",
    "display(df_metrics)\n",
    "\n",
    "plt.plot(fnr, tnr, label=f'auc: {metrics.auc(fnr, tnr):.3f}')\n",
    "plt.legend()"
   ]
  },
  {
   "cell_type": "markdown",
   "metadata": {},
   "source": [
    "#### <b>Unlearning</b>"
   ]
  },
  {
   "cell_type": "markdown",
   "metadata": {},
   "source": [
    "##### <b>Fine Tuning</b>"
   ]
  },
  {
   "cell_type": "code",
   "execution_count": 12,
   "metadata": {},
   "outputs": [],
   "source": [
    "def fine_tune_unlearning(model, forget_inds, retain_inds, unseen_inds):\n",
    "\n",
    "    set_random_seed(RANDOM_STATE)\n",
    "    \n",
    "    model.train()\n",
    "    \n",
    "    criterion = torch.nn.CrossEntropyLoss()\n",
    "    optimizer = optim.SGD(model.parameters(), lr=0.01)\n",
    "\n",
    "    dataset = Subset(cifar10_aug, retain_inds)\n",
    "    dataloader = DataLoader(dataset, batch_size=BATCH_SIZE, num_workers=NUM_WORKERS, shuffle=True)\n",
    "\n",
    "    num_epochs = 10\n",
    "    for epoch in range(num_epochs):\n",
    "        for inputs, targets in tqdm(dataloader, desc=f'epoch {epoch}/{num_epochs}', leave=False):\n",
    "            \n",
    "            inputs, targets = inputs.to(DEVICE), targets.to(DEVICE)\n",
    "\n",
    "            outputs = model(inputs)\n",
    "            loss = criterion(outputs, targets)\n",
    "\n",
    "            optimizer.zero_grad()\n",
    "            loss.backward()\n",
    "            optimizer.step()\n",
    "\n",
    "    model.eval()"
   ]
  },
  {
   "cell_type": "code",
   "execution_count": 13,
   "metadata": {},
   "outputs": [
    {
     "name": "stderr",
     "output_type": "stream",
     "text": [
      "                                                           \r"
     ]
    },
    {
     "name": "stdout",
     "output_type": "stream",
     "text": [
      " [=======================================>]  Step: 3ms | Tot: 606ms | Acc: 89.41%%% Top2 Acc: 96.93% 84/84   ======================>.................]  Step: 16ms | Tot: 358ms | Acc: 89.36%%% Top2 Acc: 96.88% 49/84 ====================================>...]  Step: 17ms | Tot: 567ms | Acc: 89.48%%% Top2 Acc: 96.98% 77/84 \n",
      " [========================>...............]  Step: 4ms | Tot: 12ms | Acc: 88.28%%% Top2 Acc: 96.39% 4/5  ================================>.......]  Step: 28ms | Tot: 40ms | Acc: 88.80%%% Top2 Acc: 96.53% 5/5 \n",
      " [=======================================>]  Step: 26ms | Tot: 304ms | Acc: 75.19%%% Top2 Acc: 88.81% 40/40 \n",
      " [======================================>.]  Step: 26ms | Tot: 154ms | Acc: 75.82%%% Top2 Acc: 89.90% 20/20 \n",
      "Shadow logits were brought from cache\n"
     ]
    },
    {
     "name": "stderr",
     "output_type": "stream",
     "text": [
      "100%|██████████| 88/88 [00:00<00:00, 114.96it/s]\n"
     ]
    },
    {
     "data": {
      "text/html": [
       "<div>\n",
       "<style scoped>\n",
       "    .dataframe tbody tr th:only-of-type {\n",
       "        vertical-align: middle;\n",
       "    }\n",
       "\n",
       "    .dataframe tbody tr th {\n",
       "        vertical-align: top;\n",
       "    }\n",
       "\n",
       "    .dataframe thead th {\n",
       "        text-align: right;\n",
       "    }\n",
       "</style>\n",
       "<table border=\"1\" class=\"dataframe\">\n",
       "  <thead>\n",
       "    <tr style=\"text-align: right;\">\n",
       "      <th></th>\n",
       "      <th>retain_acc</th>\n",
       "      <th>forget_acc</th>\n",
       "      <th>test_acc</th>\n",
       "      <th>unseen_acc</th>\n",
       "      <th>MIA_AUC</th>\n",
       "      <th>MIA_TNR@1%FNR</th>\n",
       "      <th>unlearning_time</th>\n",
       "    </tr>\n",
       "  </thead>\n",
       "  <tbody>\n",
       "    <tr>\n",
       "      <th>0</th>\n",
       "      <td>89.41</td>\n",
       "      <td>88.8</td>\n",
       "      <td>75.19</td>\n",
       "      <td>75.82</td>\n",
       "      <td>50.95</td>\n",
       "      <td>1.42</td>\n",
       "      <td>12</td>\n",
       "    </tr>\n",
       "  </tbody>\n",
       "</table>\n",
       "</div>"
      ],
      "text/plain": [
       "   retain_acc  forget_acc  test_acc  unseen_acc  MIA_AUC  MIA_TNR@1%FNR  \\\n",
       "0       89.41        88.8     75.19       75.82    50.95           1.42   \n",
       "\n",
       "   unlearning_time  \n",
       "0               12  "
      ]
     },
     "metadata": {},
     "output_type": "display_data"
    },
    {
     "data": {
      "text/plain": [
       "<matplotlib.legend.Legend at 0x7fe6844c6190>"
      ]
     },
     "execution_count": 13,
     "metadata": {},
     "output_type": "execute_result"
    },
    {
     "data": {
      "image/png": "[encoded data removed]",
      "text/plain": [
       "<Figure size 640x480 with 1 Axes>"
      ]
     },
     "metadata": {},
     "output_type": "display_data"
    }
   ],
   "source": [
    "model = load_model(PATH_TO_MODELS/'origin'/'state_dict.pth', NUM_CLASSES)\n",
    "model.to(DEVICE)\n",
    "\n",
    "start = time.time()\n",
    "fine_tune_unlearning(model, forget_inds, retain_inds, unseen_inds)\n",
    "unlearning_time = time.time() - start\n",
    "\n",
    "df_metrics, fnr, tnr = evaluate_unlearning(model, forget_inds, retain_inds)\n",
    "df_metrics['unlearning_time'] = round(unlearning_time)\n",
    "display(df_metrics)\n",
    "\n",
    "plt.plot(fnr, tnr, label=f'auc: {metrics.auc(fnr, tnr):.3f}')\n",
    "plt.legend()"
   ]
  },
  {
   "cell_type": "markdown",
   "metadata": {},
   "source": [
    "##### <b>Fine Tuning with random labels</b>"
   ]
  },
  {
   "cell_type": "code",
   "execution_count": 46,
   "metadata": {},
   "outputs": [],
   "source": [
    "def random_labels_unlearning(model, forget_inds, retain_inds, unseen_inds):\n",
    "\n",
    "    set_random_seed(RANDOM_STATE)\n",
    "\n",
    "    class CustomDataset(Dataset):\n",
    "        def __init__(self, inds, targets):\n",
    "            self.dataset = Subset(cifar10_aug, inds)\n",
    "            self.targets = targets\n",
    "\n",
    "        def __len__(self):\n",
    "            return len(self.dataset)\n",
    "\n",
    "        def __getitem__(self, index):\n",
    "            return self.dataset[index][0], self.targets[index]\n",
    "\n",
    "    inds = np.concatenate([retain_inds, forget_inds])\n",
    "    targets = np.concatenate([np.array(cifar10_aug.targets)[retain_inds], np.random.randint(0, NUM_CLASSES, size=len(forget_inds))])\n",
    "\n",
    "    dataset = CustomDataset(inds, targets)\n",
    "    dataloader = DataLoader(dataset, batch_size=BATCH_SIZE, num_workers=NUM_WORKERS, shuffle=True)\n",
    "\n",
    "    model.train()\n",
    "    model.to(DEVICE)\n",
    "    \n",
    "    CE = torch.nn.CrossEntropyLoss()\n",
    "    optimizer = optim.AdamW(model.parameters(), lr=5e-4)\n",
    "\n",
    "    num_epochs = 10\n",
    "    for epoch in range(num_epochs):\n",
    "        for inputs, labels in tqdm(dataloader, desc=f'epoch {epoch}/{num_epochs}', leave=False):\n",
    "            inputs, labels = inputs.to(DEVICE), labels.to(DEVICE)\n",
    "\n",
    "            outputs = model(inputs)\n",
    "            loss = CE(outputs, labels)\n",
    "\n",
    "            optimizer.zero_grad()\n",
    "            loss.backward()\n",
    "            optimizer.step()\n",
    "\n",
    "    model.eval()"
   ]
  },
  {
   "cell_type": "code",
   "execution_count": 47,
   "metadata": {},
   "outputs": [
    {
     "name": "stderr",
     "output_type": "stream",
     "text": [
      "                                                           \r"
     ]
    },
    {
     "name": "stdout",
     "output_type": "stream",
     "text": [
      " [=======================================>]  Step: 3ms | Tot: 630ms | Acc: 87.80%%% Top2 Acc: 96.50% 84/84  \n",
      " [================================>.......]  Step: 4ms | Tot: 17ms | Acc: 76.44%%% Top2 Acc: 89.96% 5/5  \n",
      " [=======================================>]  Step: 3ms | Tot: 280ms | Acc: 74.06%%% Top2 Acc: 88.12% 40/40  \n",
      " [======================================>.]  Step: 3ms | Tot: 126ms | Acc: 74.82%%% Top2 Acc: 89.06% 20/20  \n",
      "Shadow logits were brought from cache\n"
     ]
    },
    {
     "name": "stderr",
     "output_type": "stream",
     "text": [
      "100%|██████████| 88/88 [00:00<00:00, 120.26it/s]\n"
     ]
    },
    {
     "data": {
      "text/html": [
       "<div>\n",
       "<style scoped>\n",
       "    .dataframe tbody tr th:only-of-type {\n",
       "        vertical-align: middle;\n",
       "    }\n",
       "\n",
       "    .dataframe tbody tr th {\n",
       "        vertical-align: top;\n",
       "    }\n",
       "\n",
       "    .dataframe thead th {\n",
       "        text-align: right;\n",
       "    }\n",
       "</style>\n",
       "<table border=\"1\" class=\"dataframe\">\n",
       "  <thead>\n",
       "    <tr style=\"text-align: right;\">\n",
       "      <th></th>\n",
       "      <th>retain_acc</th>\n",
       "      <th>forget_acc</th>\n",
       "      <th>test_acc</th>\n",
       "      <th>unseen_acc</th>\n",
       "      <th>MIA_AUC</th>\n",
       "      <th>MIA_TNR@1%FNR</th>\n",
       "      <th>unlearning_time</th>\n",
       "    </tr>\n",
       "  </thead>\n",
       "  <tbody>\n",
       "    <tr>\n",
       "      <th>0</th>\n",
       "      <td>87.8</td>\n",
       "      <td>76.44</td>\n",
       "      <td>74.06</td>\n",
       "      <td>74.82</td>\n",
       "      <td>63.03</td>\n",
       "      <td>4.8</td>\n",
       "      <td>12</td>\n",
       "    </tr>\n",
       "  </tbody>\n",
       "</table>\n",
       "</div>"
      ],
      "text/plain": [
       "   retain_acc  forget_acc  test_acc  unseen_acc  MIA_AUC  MIA_TNR@1%FNR  \\\n",
       "0        87.8       76.44     74.06       74.82    63.03            4.8   \n",
       "\n",
       "   unlearning_time  \n",
       "0               12  "
      ]
     },
     "metadata": {},
     "output_type": "display_data"
    },
    {
     "data": {
      "text/plain": [
       "<matplotlib.legend.Legend at 0x7fe784294f70>"
      ]
     },
     "execution_count": 47,
     "metadata": {},
     "output_type": "execute_result"
    },
    {
     "data": {
      "image/png": "[encoded data removed]",
      "text/plain": [
       "<Figure size 640x480 with 1 Axes>"
      ]
     },
     "metadata": {},
     "output_type": "display_data"
    }
   ],
   "source": [
    "model = load_model(PATH_TO_MODELS/'origin'/'state_dict.pth', NUM_CLASSES)\n",
    "model.to(DEVICE)\n",
    "\n",
    "start = time.time()\n",
    "random_labels_unlearning(model, forget_inds, retain_inds, unseen_inds)\n",
    "unlearning_time = time.time() - start\n",
    "\n",
    "df_metrics, fnr, tnr = evaluate_unlearning(model, forget_inds, retain_inds)\n",
    "df_metrics['unlearning_time'] = round(unlearning_time)\n",
    "display(df_metrics)\n",
    "\n",
    "plt.plot(fnr, tnr, label=f'auc: {metrics.auc(fnr, tnr):.3f}')\n",
    "plt.legend()"
   ]
  },
  {
   "cell_type": "markdown",
   "metadata": {},
   "source": [
    "##### <b>Fine Tuning with NOT random labels</b>"
   ]
  },
  {
   "cell_type": "code",
   "execution_count": 58,
   "metadata": {},
   "outputs": [],
   "source": [
    "def not_random_labels_unlearning(model, forget_inds, retain_inds, unseen_inds):\n",
    "\n",
    "    set_random_seed(RANDOM_STATE)\n",
    "\n",
    "    feature_extractor = models.convnext_tiny(weights='DEFAULT')\n",
    "    def get_features(name):\n",
    "        def hook(model, input, output):\n",
    "            features[name] = output.detach()\n",
    "        return hook\n",
    "    feature_extractor.avgpool.register_forward_hook(get_features('feats'))\n",
    "    feature_extractor.eval()\n",
    "    feature_extractor.to(DEVICE)\n",
    "\n",
    "    model.eval()\n",
    "    model.to(DEVICE)\n",
    "\n",
    "    unseen_dataset = Subset(cifar10, unseen_inds)\n",
    "    unseen_dataloader = DataLoader(unseen_dataset, shuffle=False, batch_size=BATCH_SIZE, num_workers=NUM_WORKERS)\n",
    "    forget_dataset = Subset(cifar10, forget_inds)\n",
    "    forget_dataloader = DataLoader(forget_dataset, shuffle=False, batch_size=BATCH_SIZE, num_workers=NUM_WORKERS)\n",
    "\n",
    "    forget_feats = []\n",
    "    forget_preds = []\n",
    "    forget_targets = []\n",
    "\n",
    "    unseen_feats = []\n",
    "    unseen_preds = []\n",
    "    unseen_targets = []\n",
    "\n",
    "    features = {}\n",
    "\n",
    "    for inputs, targets in tqdm(unseen_dataloader):\n",
    "        inputs = inputs.to(DEVICE)\n",
    "        unseen_preds.append(model(inputs).log_softmax(1).detach().cpu())\n",
    "        feature_extractor(inputs)\n",
    "        unseen_feats.append(features['feats'].squeeze().cpu())\n",
    "        unseen_targets.append(targets.detach().cpu())\n",
    "\n",
    "    unseen_preds = torch.cat(unseen_preds)\n",
    "    unseen_feats = torch.cat(unseen_feats)\n",
    "    unseen_targets = torch.cat(unseen_targets)\n",
    "\n",
    "    for inputs, targets in tqdm(forget_dataloader):\n",
    "        inputs = inputs.to(DEVICE)\n",
    "        forget_preds.append(model(inputs).log_softmax(1).detach().cpu())\n",
    "        feature_extractor(inputs)\n",
    "        forget_feats.append(features['feats'].squeeze().cpu())\n",
    "        forget_targets.append(targets.detach().cpu())\n",
    "\n",
    "    forget_preds = torch.cat(forget_preds)\n",
    "    forget_feats = torch.cat(forget_feats)\n",
    "    forget_targets = torch.cat(forget_targets)\n",
    "\n",
    "    # change targets with closest from unseen\n",
    "    for i, x in enumerate(forget_feats):\n",
    "        j = torch.topk(F.cosine_similarity(x, unseen_feats), 1).indices\n",
    "        forget_preds[i] = unseen_preds[j].mean(axis=0)\n",
    "        forget_targets[i] = torch.mode(unseen_targets[j]).values\n",
    "\n",
    "    inds = np.concatenate([retain_inds, forget_inds])\n",
    "    targets = torch.cat([torch.tensor(cifar10_aug.targets)[retain_inds], forget_targets])\n",
    "\n",
    "    class CustomDataset(Dataset):\n",
    "        def __init__(self, inds, targets):\n",
    "            self.dataset = Subset(cifar10_aug, inds)\n",
    "            self.targets = targets\n",
    "\n",
    "        def __len__(self):\n",
    "            return len(self.dataset)\n",
    "\n",
    "        def __getitem__(self, index):\n",
    "            return self.dataset[index][0], self.targets[index]\n",
    "\n",
    "    dataset = CustomDataset(inds, targets)\n",
    "    dataloader = DataLoader(dataset, batch_size=BATCH_SIZE, num_workers=NUM_WORKERS, shuffle=True)\n",
    "\n",
    "    model.train()\n",
    "    model.to(DEVICE)\n",
    "    \n",
    "    CE = torch.nn.CrossEntropyLoss()\n",
    "    optimizer = optim.AdamW(model.parameters(), lr=5e-4)\n",
    "\n",
    "    num_epochs = 20\n",
    "    for epoch in range(num_epochs):\n",
    "        for inputs, labels in tqdm(dataloader, desc=f'epoch {epoch}/{num_epochs}', leave=False):\n",
    "            inputs, labels = inputs.to(DEVICE), labels.to(DEVICE)\n",
    "\n",
    "            outputs = model(inputs)\n",
    "            loss = CE(outputs, labels)\n",
    "\n",
    "            optimizer.zero_grad()\n",
    "            loss.backward()\n",
    "            optimizer.step()\n",
    "\n",
    "    model.eval()"
   ]
  },
  {
   "cell_type": "code",
   "execution_count": 59,
   "metadata": {},
   "outputs": [
    {
     "name": "stderr",
     "output_type": "stream",
     "text": [
      "100%|██████████| 20/20 [00:00<00:00, 53.63it/s]\n",
      "100%|██████████| 5/5 [00:00<00:00, 22.41it/s]\n",
      "                                                            \r"
     ]
    },
    {
     "name": "stdout",
     "output_type": "stream",
     "text": [
      " [=======================================>]  Step: 3ms | Tot: 622ms | Acc: 91.27%%% Top2 Acc: 98.03% 84/84   \n",
      " [================================>.......]  Step: 4ms | Tot: 20ms | Acc: 73.33%%% Top2 Acc: 88.98% 5/5  \n",
      " [=======================================>]  Step: 3ms | Tot: 280ms | Acc: 74.08%%% Top2 Acc: 88.23% 40/40  \n",
      " [======================================>.]  Step: 3ms | Tot: 129ms | Acc: 74.54%%% Top2 Acc: 89.00% 20/20  \n",
      "Shadow logits were brought from cache\n"
     ]
    },
    {
     "name": "stderr",
     "output_type": "stream",
     "text": [
      "100%|██████████| 88/88 [00:00<00:00, 122.64it/s]\n"
     ]
    },
    {
     "data": {
      "text/html": [
       "<div>\n",
       "<style scoped>\n",
       "    .dataframe tbody tr th:only-of-type {\n",
       "        vertical-align: middle;\n",
       "    }\n",
       "\n",
       "    .dataframe tbody tr th {\n",
       "        vertical-align: top;\n",
       "    }\n",
       "\n",
       "    .dataframe thead th {\n",
       "        text-align: right;\n",
       "    }\n",
       "</style>\n",
       "<table border=\"1\" class=\"dataframe\">\n",
       "  <thead>\n",
       "    <tr style=\"text-align: right;\">\n",
       "      <th></th>\n",
       "      <th>retain_acc</th>\n",
       "      <th>forget_acc</th>\n",
       "      <th>test_acc</th>\n",
       "      <th>unseen_acc</th>\n",
       "      <th>MIA_AUC</th>\n",
       "      <th>MIA_TNR@1%FNR</th>\n",
       "      <th>unlearning_time</th>\n",
       "    </tr>\n",
       "  </thead>\n",
       "  <tbody>\n",
       "    <tr>\n",
       "      <th>0</th>\n",
       "      <td>91.27</td>\n",
       "      <td>73.33</td>\n",
       "      <td>74.08</td>\n",
       "      <td>74.54</td>\n",
       "      <td>64.44</td>\n",
       "      <td>8.27</td>\n",
       "      <td>26</td>\n",
       "    </tr>\n",
       "  </tbody>\n",
       "</table>\n",
       "</div>"
      ],
      "text/plain": [
       "   retain_acc  forget_acc  test_acc  unseen_acc  MIA_AUC  MIA_TNR@1%FNR  \\\n",
       "0       91.27       73.33     74.08       74.54    64.44           8.27   \n",
       "\n",
       "   unlearning_time  \n",
       "0               26  "
      ]
     },
     "metadata": {},
     "output_type": "display_data"
    },
    {
     "data": {
      "text/plain": [
       "<matplotlib.legend.Legend at 0x7fe684e57910>"
      ]
     },
     "execution_count": 59,
     "metadata": {},
     "output_type": "execute_result"
    },
    {
     "data": {
      "image/png": "[encoded data removed]",
      "text/plain": [
       "<Figure size 640x480 with 1 Axes>"
      ]
     },
     "metadata": {},
     "output_type": "display_data"
    }
   ],
   "source": [
    "model = load_model(PATH_TO_MODELS/'origin'/'state_dict.pth', NUM_CLASSES)\n",
    "model.to(DEVICE)\n",
    "\n",
    "start = time.time()\n",
    "not_random_labels_unlearning(model, forget_inds, retain_inds, unseen_inds)\n",
    "unlearning_time = time.time() - start\n",
    "\n",
    "df_metrics, fnr, tnr = evaluate_unlearning(model, forget_inds, retain_inds)\n",
    "df_metrics['unlearning_time'] = round(unlearning_time)\n",
    "display(df_metrics)\n",
    "\n",
    "plt.plot(fnr, tnr, label=f'auc: {metrics.auc(fnr, tnr):.3f}')\n",
    "plt.legend()"
   ]
  },
  {
   "cell_type": "markdown",
   "metadata": {},
   "source": [
    "##### <b>Negative gradient</b>"
   ]
  },
  {
   "cell_type": "code",
   "execution_count": 60,
   "metadata": {},
   "outputs": [],
   "source": [
    "def neg_grad_unlearning(model, forget_inds, retain_inds, unseen_inds):\n",
    "\n",
    "    set_random_seed(RANDOM_STATE)\n",
    "    \n",
    "    model.train()\n",
    "    \n",
    "    criterion = torch.nn.CrossEntropyLoss()\n",
    "    optimizer = optim.SGD(model.parameters(), lr=0.01)\n",
    "\n",
    "    dataset = Subset(cifar10_aug, forget_inds)\n",
    "    forget_dataloader = DataLoader(dataset, batch_size=BATCH_SIZE, num_workers=NUM_WORKERS, shuffle=True)\n",
    "\n",
    "    dataset = Subset(cifar10_aug, retain_inds)\n",
    "    retain_dataloader = DataLoader(dataset, batch_size=BATCH_SIZE, num_workers=NUM_WORKERS, shuffle=True)\n",
    "\n",
    "    num_epochs = 10\n",
    "    for epoch in range(num_epochs):\n",
    "        for inputs, targets in tqdm(forget_dataloader, desc=f'epoch {epoch}/{num_epochs}', leave=False):\n",
    "            \n",
    "            inputs, targets = inputs.to(DEVICE), targets.to(DEVICE)\n",
    "\n",
    "            outputs = model(inputs)\n",
    "            loss = -criterion(outputs, targets)\n",
    "\n",
    "            optimizer.zero_grad()\n",
    "            loss.backward()\n",
    "            optimizer.step()\n",
    "\n",
    "    for epoch in range(1):\n",
    "        for inputs, targets in tqdm(retain_dataloader, leave=False):\n",
    "            \n",
    "            inputs, targets = inputs.to(DEVICE), targets.to(DEVICE)\n",
    "\n",
    "            outputs = model(inputs)\n",
    "            loss = criterion(outputs, targets)\n",
    "\n",
    "            optimizer.zero_grad()\n",
    "            loss.backward()\n",
    "            optimizer.step()\n",
    "\n",
    "    model.eval()"
   ]
  },
  {
   "cell_type": "code",
   "execution_count": 61,
   "metadata": {},
   "outputs": [
    {
     "name": "stderr",
     "output_type": "stream",
     "text": [
      "                                                         \r"
     ]
    },
    {
     "name": "stdout",
     "output_type": "stream",
     "text": [
      " [=======================================>]  Step: 3ms | Tot: 628ms | Acc: 88.58%%% Top2 Acc: 96.66% 84/84   \n",
      " [================================>.......]  Step: 3ms | Tot: 16ms | Acc: 87.29%%% Top2 Acc: 95.64% 5/5  \n",
      " [=======================================>]  Step: 3ms | Tot: 275ms | Acc: 75.12%%% Top2 Acc: 88.88% 40/40  \n",
      " [======================================>.]  Step: 3ms | Tot: 129ms | Acc: 75.22%%% Top2 Acc: 89.60% 20/20  \n",
      "Shadow logits were brought from cache\n"
     ]
    },
    {
     "name": "stderr",
     "output_type": "stream",
     "text": [
      "100%|██████████| 88/88 [00:00<00:00, 122.30it/s]\n"
     ]
    },
    {
     "data": {
      "text/html": [
       "<div>\n",
       "<style scoped>\n",
       "    .dataframe tbody tr th:only-of-type {\n",
       "        vertical-align: middle;\n",
       "    }\n",
       "\n",
       "    .dataframe tbody tr th {\n",
       "        vertical-align: top;\n",
       "    }\n",
       "\n",
       "    .dataframe thead th {\n",
       "        text-align: right;\n",
       "    }\n",
       "</style>\n",
       "<table border=\"1\" class=\"dataframe\">\n",
       "  <thead>\n",
       "    <tr style=\"text-align: right;\">\n",
       "      <th></th>\n",
       "      <th>retain_acc</th>\n",
       "      <th>forget_acc</th>\n",
       "      <th>test_acc</th>\n",
       "      <th>unseen_acc</th>\n",
       "      <th>MIA_AUC</th>\n",
       "      <th>MIA_TNR@1%FNR</th>\n",
       "      <th>unlearning_time</th>\n",
       "    </tr>\n",
       "  </thead>\n",
       "  <tbody>\n",
       "    <tr>\n",
       "      <th>0</th>\n",
       "      <td>88.58</td>\n",
       "      <td>87.29</td>\n",
       "      <td>75.12</td>\n",
       "      <td>75.22</td>\n",
       "      <td>52.32</td>\n",
       "      <td>2.13</td>\n",
       "      <td>4</td>\n",
       "    </tr>\n",
       "  </tbody>\n",
       "</table>\n",
       "</div>"
      ],
      "text/plain": [
       "   retain_acc  forget_acc  test_acc  unseen_acc  MIA_AUC  MIA_TNR@1%FNR  \\\n",
       "0       88.58       87.29     75.12       75.22    52.32           2.13   \n",
       "\n",
       "   unlearning_time  \n",
       "0                4  "
      ]
     },
     "metadata": {},
     "output_type": "display_data"
    },
    {
     "data": {
      "text/plain": [
       "<matplotlib.legend.Legend at 0x7fe684c41f40>"
      ]
     },
     "execution_count": 61,
     "metadata": {},
     "output_type": "execute_result"
    },
    {
     "data": {
      "image/png": "[encoded data removed]",
      "text/plain": [
       "<Figure size 640x480 with 1 Axes>"
      ]
     },
     "metadata": {},
     "output_type": "display_data"
    }
   ],
   "source": [
    "model = load_model(PATH_TO_MODELS/'origin'/'state_dict.pth', NUM_CLASSES)\n",
    "model.to(DEVICE)\n",
    "\n",
    "start = time.time()\n",
    "neg_grad_unlearning(model, forget_inds, retain_inds, unseen_inds)\n",
    "unlearning_time = time.time() - start\n",
    "\n",
    "df_metrics, fnr, tnr = evaluate_unlearning(model, forget_inds, retain_inds)\n",
    "df_metrics['unlearning_time'] = round(unlearning_time)\n",
    "display(df_metrics)\n",
    "\n",
    "plt.plot(fnr, tnr, label=f'auc: {metrics.auc(fnr, tnr):.3f}')\n",
    "plt.legend()"
   ]
  },
  {
   "cell_type": "markdown",
   "metadata": {},
   "source": [
    "##### <b>UnGAN</b>"
   ]
  },
  {
   "cell_type": "code",
   "execution_count": null,
   "metadata": {},
   "outputs": [],
   "source": [
    "torch.eye(10)[np.random.randint(0, 10)]"
   ]
  },
  {
   "cell_type": "code",
   "execution_count": null,
   "metadata": {},
   "outputs": [],
   "source": [
    "hidden_size=32\n",
    "\n",
    "class Discriminator(nn.Module):\n",
    "    def __init__(self, num_classes):\n",
    "        super(Discriminator, self).__init__()\n",
    "        # self.class_embeddings = nn.Embedding(num_classes, num_classes)\n",
    "        self.class_embeddings = torch.eye(num_classes, device=DEVICE)\n",
    "        \n",
    "        self.model = nn.Sequential(\n",
    "            nn.Linear(2*num_classes, hidden_size),\n",
    "            nn.GELU(),\n",
    "            nn.Linear(hidden_size, hidden_size),\n",
    "            nn.GELU(),\n",
    "            nn.Linear(hidden_size, 1),\n",
    "        )\n",
    "        \n",
    "    def forward(self, logits, label):\n",
    "        label_emb = self.class_embeddings[label]\n",
    "        z = torch.hstack([logits, label_emb])\n",
    "        return self.model(z).flatten()\n",
    "\n",
    "# class Discriminator(nn.Module):\n",
    "#     def __init__(self, num_classes):\n",
    "#         super(Discriminator, self).__init__()\n",
    "#         # self.class_embeddings = nn.Embedding(num_classes, num_classes)\n",
    "        \n",
    "#         self.model = nn.Sequential(\n",
    "#             nn.Linear(1, 1),\n",
    "#         )\n",
    "        \n",
    "#     def forward(self, logits, label):\n",
    "#         logits = logits.softmax(1)\n",
    "#         y_true = logits[range(len(label)), label]\n",
    "#         logit = torch.log(y_true+1e-45) - torch.log((1 - y_true)+1e-45)\n",
    "\n",
    "#         return self.model(logit.reshape(-1, 1)).flatten()\n",
    "\n",
    "class Trainer:\n",
    "    def __init__(self, model):\n",
    "        \n",
    "        self.discriminator = Discriminator(NUM_CLASSES)\n",
    "        self.model = model\n",
    "        self.alpha = 0.0\n",
    "\n",
    "        self.model.cuda()\n",
    "        self.discriminator.cuda()\n",
    "        \n",
    "        self.d_optimizer = torch.optim.Adam(self.discriminator.parameters(), lr=1e-3, weight_decay=1e-5)\n",
    "        self.d_criterion = nn.BCEWithLogitsLoss()\n",
    "\n",
    "        self.g_optimizer = torch.optim.Adam(self.model.parameters(), lr=2e-5, weight_decay=1e-5)\n",
    "        self.g_criterion = nn.CrossEntropyLoss(reduction='mean')\n",
    "        \n",
    "\n",
    "    def generator_step(self, forget_logits, forget_labels, retain_logits, retain_labels):\n",
    "        \n",
    "        ones = torch.ones(forget_logits.size(0)).cuda()\n",
    "        forget_preds = self.discriminator(forget_logits, forget_labels)\n",
    "        d_loss = self.d_criterion(forget_preds, ones)\n",
    "        \n",
    "        g_loss = self.g_criterion(retain_logits, retain_labels)\n",
    "\n",
    "        loss = d_loss + self.alpha * g_loss\n",
    "\n",
    "        self.g_optimizer.zero_grad()\n",
    "        loss.backward()\n",
    "        self.g_optimizer.step()\n",
    "\n",
    "        return loss.item()\n",
    "        \n",
    "    def discriminator_step(self, forget_logits, forget_labels, unseen_logits, unseen_labels):\n",
    "        \n",
    "        ones = torch.ones(unseen_logits.size(0)).cuda()\n",
    "        zeros = torch.zeros(forget_logits.size(0)).cuda()\n",
    "    \n",
    "        forget_preds = self.discriminator(forget_logits, forget_labels)\n",
    "        unseen_preds = self.discriminator(unseen_logits, unseen_labels)\n",
    "    \n",
    "        loss = self.d_criterion(forget_preds, zeros) + self.d_criterion(unseen_preds, ones)\n",
    "        self.d_optimizer.zero_grad()\n",
    "        loss.backward()\n",
    "        self.d_optimizer.step()\n",
    "\n",
    "        return loss.item()\n",
    "        \n",
    "        \n",
    "def ungan_unlearning(model, forget_manifest, retain_manifest, unseen_manifest):\n",
    "\n",
    "    set_random_seed(RANDOM_STATE+1)\n",
    "\n",
    "    trash_path = Path('trash.txt')\n",
    "    loss_path = Path('gan_loss.txt')\n",
    "    metrics_path = Path('gan_metrics.txt')\n",
    "    loss_path.write_text('step,D_loss,G_loss\\n')\n",
    "    metrics_path.write_text('step,forget_JS,valid_JS,forget_accuracy,valid_accuracy,retain_accuracy\\n')\n",
    "    trash_path.write_text('n,d_loss')\n",
    "    \n",
    "    dataset = Subset(cifar10_aug, forget_inds)\n",
    "    forget = DataLoader(dataset, batch_size=BATCH_SIZE, num_workers=NUM_WORKERS, shuffle=True)\n",
    "\n",
    "    dataset = Subset(cifar10_aug, retain_inds)\n",
    "    retain = DataLoader(dataset, batch_size=BATCH_SIZE, num_workers=NUM_WORKERS, shuffle=True)\n",
    "\n",
    "    dataset = Subset(cifar10_aug, unseen_inds)\n",
    "    unseen = DataLoader(dataset, batch_size=BATCH_SIZE, num_workers=NUM_WORKERS, shuffle=True)\n",
    "\n",
    "\n",
    "    trainer = Trainer(model)\n",
    "    step = 0\n",
    "    epochs = 30\n",
    "    num_discriminator_steps = 1\n",
    "    num_generator_steps = 1\n",
    "    discriminator_pretraining_steps = 100\n",
    "\n",
    "    trainer.model.eval()\n",
    "            \n",
    "    unseen_logits_all, unseen_labels_all = [], []\n",
    "    with torch.no_grad():\n",
    "        for u in tqdm(unseen, desc='score unseen', leave=False):\n",
    "            unseen_logits_all.append(trainer.model(u[0].to(DEVICE)))\n",
    "            unseen_labels_all.append(u[1].to(DEVICE))\n",
    "    unseen_logits_all = torch.cat(unseen_logits_all)\n",
    "    unseen_labels_all = torch.cat(unseen_labels_all)\n",
    "        \n",
    "    forget_logits_all, forget_labels_all = [], []\n",
    "    with torch.no_grad():\n",
    "        for f in tqdm(forget, desc='score forget', leave=False):\n",
    "            forget_logits_all.append(trainer.model(f[0].to(DEVICE)))\n",
    "            forget_labels_all.append(f[1].to(DEVICE))\n",
    "    forget_logits_all = torch.cat(forget_logits_all)\n",
    "    forget_labels_all = torch.cat(forget_labels_all)\n",
    "\n",
    "    valid_scores = score_model(trainer.model, unseen, progress=False)\n",
    "    forget_scores = score_model(trainer.model, forget, progress=False)\n",
    "    retain_scores = score_model(trainer.model, retain, progress=False)\n",
    "    print(accuracy_score(valid_scores.labels, valid_scores.preds), JS_divergence_single(\n",
    "                valid_scores.loss.apply(lambda x: np.log(x+1e-4)).tolist(), \n",
    "                forget_scores.loss.apply(lambda x: np.log(x+1e-4)).tolist(), \n",
    "                plot=False), accuracy_score(retain_scores.labels, retain_scores.preds), accuracy_score(forget_scores.labels, forget_scores.preds))\n",
    "\n",
    "                \n",
    "    # discriminator pretraining\n",
    "    for n in range(discriminator_pretraining_steps):\n",
    "\n",
    "        inds = np.random.choice(len(forget_labels_all), size=BATCH_SIZE, replace=False)\n",
    "        forget_logits, forget_labels = forget_logits_all[inds], forget_labels_all[inds]\n",
    "                    \n",
    "        inds = np.random.choice(len(unseen_logits_all), size=BATCH_SIZE, replace=False)\n",
    "        unseen_logits, unseen_labels = unseen_logits_all[inds], unseen_labels_all[inds]\n",
    "            \n",
    "        d_loss = trainer.discriminator_step(forget_logits, forget_labels, unseen_logits, unseen_labels)\n",
    "\n",
    "        with open(trash_path, 'a') as file:\n",
    "            print(n, d_loss, file=file)\n",
    "\n",
    "                        \n",
    "    for epoch in tqdm(range(epochs)):\n",
    "        \n",
    "        # discriminator step\n",
    "        trainer.model.eval()\n",
    "        # n = 0\n",
    "        average_loss = 10\n",
    "        for n in range(num_discriminator_steps):\n",
    "            for forget_batch in forget:\n",
    "            \n",
    "                with torch.no_grad():\n",
    "                    forget_logits, forget_labels = trainer.model(forget_batch[0].to(DEVICE)), forget_batch[1].to(DEVICE)\n",
    "\n",
    "                inds = np.random.choice(len(unseen_logits_all), size=BATCH_SIZE, replace=False)\n",
    "                unseen_logits, unseen_labels = unseen_logits_all[inds], unseen_labels_all[inds]\n",
    "\n",
    "                d_loss = trainer.discriminator_step(forget_logits, forget_labels, unseen_logits, unseen_labels)\n",
    "                average_loss = d_loss if average_loss == 100 else 0.5 * average_loss + 0.5 * d_loss\n",
    "\n",
    "                # num_discriminator_steps = max(num_discriminator_steps//2, 1) if average_loss < 1.0 else 10\n",
    "                \n",
    "            \n",
    "            #     n += 1\n",
    "            \n",
    "            # if n >= n_range:\n",
    "            #     break\n",
    "\n",
    "        n_range = min(n_range//2, 1) if average_loss < 1.0 else 25\n",
    "\n",
    "        # generator step\n",
    "        for n in range(num_generator_steps):\n",
    "            for (forget_batch, retain_batch) in zip(forget, retain):\n",
    "                \n",
    "                step+= 1\n",
    "            \n",
    "                trainer.model.train()\n",
    "                retain_features, retain_labels = retain_batch[0].cuda(), retain_batch[1].cuda()\n",
    "                retain_logits = trainer.model(retain_features)\n",
    "                \n",
    "                trainer.model.eval()\n",
    "                forget_features, forget_labels = forget_batch[0].cuda(), forget_batch[1].cuda()\n",
    "                forget_logits = trainer.model(forget_features)\n",
    "\n",
    "                g_loss = trainer.generator_step(forget_logits, forget_labels, retain_logits, retain_labels)\n",
    "                \n",
    "                # with torch.no_grad():\n",
    "                #     # inds = np.random.choice(len(unseen_logits_all), size=BATCH_SIZE, replace=False)\n",
    "                #     # unseen_logits, unseen_labels = unseen_logits_all[inds], unseen_labels_all[inds]\n",
    "\n",
    "                #     # ones = torch.ones(unseen_logits.size(0)).cuda()\n",
    "                #     # zeros = torch.zeros(forget_logits.size(0)).cuda()\n",
    "                \n",
    "                #     # forget_preds = trainer.discriminator(forget_logits, forget_labels)\n",
    "                #     # unseen_preds = trainer.discriminator(unseen_logits, unseen_labels)\n",
    "                \n",
    "                #     # d_loss = trainer.d_criterion(forget_preds, zeros) + trainer.d_criterion(unseen_preds, ones)\n",
    "\n",
    "                #     print(average_loss)\n",
    "        \n",
    "                #     average_loss = g_loss if average_loss == 100 else 0.5 * average_loss + 0.5 * g_loss\n",
    "\n",
    "\n",
    "        with open(loss_path, 'a') as file:\n",
    "            print(step, d_loss, g_loss, file=file, sep=',')\n",
    "        fs = score_model(trainer.model, forget, progress=False)\n",
    "        vs = score_model(trainer.model, unseen, progress=False)\n",
    "        rs = score_model(trainer.model, retain, progress=False)\n",
    "\n",
    "        f_js = JS_divergence_single(\n",
    "            fs.loss.apply(lambda x: np.log(x+1e-4)).tolist(), \n",
    "            valid_scores.loss.apply(lambda x: np.log(x+1e-4)).tolist(), \n",
    "            plot=False)\n",
    "        v_js = JS_divergence_single(\n",
    "            vs.loss.apply(lambda x: np.log(x+1e-4)).tolist(), \n",
    "            valid_scores.loss.apply(lambda x: np.log(x+1e-4)).tolist(), \n",
    "            plot=False)\n",
    "        af = accuracy_score(fs.labels, fs.preds)\n",
    "        av = accuracy_score(vs.labels, vs.preds)\n",
    "        ar = accuracy_score(rs.labels, rs.preds)\n",
    "\n",
    "    \n",
    "        with open(metrics_path, 'a') as file:\n",
    "            print(step, f_js, v_js, af, av, ar, file=file, sep=',')\n",
    "\n",
    "\n",
    "\n",
    "    trainer.model.eval()"
   ]
  },
  {
   "cell_type": "code",
   "execution_count": null,
   "metadata": {},
   "outputs": [],
   "source": [
    "from scipy.stats import gaussian_kde\n",
    "from sklearn.metrics import accuracy_score\n",
    "\n",
    "def JS_divergence_single(ksi, psi, plot=False):\n",
    "    p, q = gaussian_kde(ksi), gaussian_kde(psi)\n",
    "    x = np.linspace(min(min(ksi), min(psi)), max(max(ksi), max(psi)))\n",
    "    js = 0.5*np.sum(q(x) * np.log(q(x) / p(x))) + 0.5*np.sum(p(x) * np.log(p(x) / q(x)))\n",
    "    if plot:\n",
    "        fig, axs = plt.subplots(1, 1, figsize=(4, 3))\n",
    "        axs.hist(ksi, bins=101, density=True, color='C0', alpha=0.75)\n",
    "        axs.hist(psi, bins=101, density=True, color='C1', alpha=0.75)\n",
    "        axs.plot(x, p(x), color='C4', lw=3)\n",
    "        axs.plot(x, q(x), color='C3', lw=3)\n",
    "        axs.set_title(f'KL={js:.3f}')\n",
    "    return js\n",
    "\n",
    "def score_model(model, dataloader, progress=True):\n",
    "    model.eval()\n",
    "    model.to(DEVICE)\n",
    "    loss_fn = nn.CrossEntropyLoss(reduction='none')\n",
    "    \n",
    "    all_labels = []\n",
    "    all_output = []\n",
    "    all_loss = []\n",
    "\n",
    "    with torch.no_grad():\n",
    "        for features, labels in tqdm(dataloader, leave=False, disable=not progress):\n",
    "            features, labels = features.to(DEVICE), labels.to(DEVICE)\n",
    "            output = model(features)\n",
    "            loss = loss_fn(output, labels)\n",
    "\n",
    "            all_labels.append(labels)\n",
    "            all_output.append(output)\n",
    "            all_loss.append(loss)\n",
    "\n",
    "        all_labels = torch.cat(all_labels)\n",
    "        all_output = torch.cat(all_output)\n",
    "        all_loss = torch.cat(all_loss)\n",
    "        \n",
    "\n",
    "        result_dict = dict()\n",
    "        result_dict['labels'] = all_labels.detach().cpu().flatten().numpy()\n",
    "        result_dict['preds'] = all_output.argmax(1).detach().cpu().flatten().numpy()\n",
    "        result_dict['logits'] = all_output.detach().cpu().numpy().tolist()\n",
    "        result_dict['loss'] = all_loss.detach().cpu().numpy().tolist()\n",
    "        \n",
    "\n",
    "    df = pd.DataFrame(result_dict)\n",
    "    \n",
    "    return df\n",
    "\n",
    "\n",
    "def JS_divergence(logits1, logits2, plot=False):\n",
    "    n_classes = logits1.shape[1]\n",
    "    js = np.zeros(n_classes)\n",
    "    I, J = n_classes // 3 + n_classes % 3, 3\n",
    "    if plot:\n",
    "        fig, axs = plt.subplots(I, J, figsize=(20, 16))\n",
    "    for i in range(n_classes):\n",
    "        ksi, psi = logits1[:, i], logits2[:, i]\n",
    "        p, q = gaussian_kde(ksi), gaussian_kde(psi)\n",
    "        x = np.linspace(min(min(ksi), min(psi)), max(max(ksi), max(psi)))\n",
    "        js[i] = 0.5*np.sum(q(x) * np.log(q(x) / p(x))) + 0.5*np.sum(p(x) * np.log(p(x) / q(x)))\n",
    "        if plot:\n",
    "            m, n = i // J, i % J\n",
    "            axs[m, n].hist(ksi, bins=101, density=True, color='C0', alpha=0.75)\n",
    "            axs[m, n].hist(psi, bins=101, density=True, color='C1', alpha=0.75)\n",
    "            axs[m, n].plot(x, p(x), color='C4', lw=3)\n",
    "            axs[m, n].plot(x, q(x), color='C3', lw=3)\n",
    "            axs[m, n].set_title(f'class {i} KL={js[i]:.3f}')\n",
    "    return js.mean() "
   ]
  },
  {
   "cell_type": "code",
   "execution_count": null,
   "metadata": {},
   "outputs": [],
   "source": [
    "model = load_model(PATH_TO_MODELS/'origin'/'state_dict.pth', NUM_CLASSES)\n",
    "model.to(DEVICE);\n",
    "\n",
    "start = time.time()\n",
    "ungan_unlearning(model, forget_inds, retain_inds, unseen_inds)\n",
    "unlearning_time = time.time() - start\n",
    "\n",
    "df_metrics, fnr, tnr = evaluate_unlearning(model, forget_inds, retain_inds)\n",
    "df_metrics['unlearning_time'] = round(unlearning_time)\n",
    "display(df_metrics)\n",
    "\n",
    "plt.plot(fnr, tnr, label=f'auc: {metrics.auc(fnr, tnr):.3f}')\n",
    "plt.legend()"
   ]
  },
  {
   "cell_type": "code",
   "execution_count": null,
   "metadata": {},
   "outputs": [],
   "source": [
    "dataset = Subset(cifar10, forget_inds)\n",
    "forget = DataLoader(dataset, batch_size=BATCH_SIZE, num_workers=NUM_WORKERS, shuffle=True)\n",
    "\n",
    "dataset = Subset(cifar10_aug, retain_inds)\n",
    "retain = DataLoader(dataset, batch_size=BATCH_SIZE, num_workers=NUM_WORKERS, shuffle=True)\n",
    "\n",
    "dataset = Subset(cifar10, unseen_inds)\n",
    "unseen = DataLoader(dataset, batch_size=BATCH_SIZE, num_workers=NUM_WORKERS, shuffle=True)"
   ]
  },
  {
   "cell_type": "code",
   "execution_count": null,
   "metadata": {},
   "outputs": [],
   "source": [
    "retain_scores = score_model(model, retain)\n",
    "forget_scores = score_model(model, forget)\n",
    "unseen_scores = score_model(model, unseen)\n",
    "\n"
   ]
  },
  {
   "cell_type": "code",
   "execution_count": null,
   "metadata": {},
   "outputs": [],
   "source": [
    "def g(logits, label):\n",
    "    logits = torch.tensor(logits)\n",
    "    label = torch.tensor(label, dtype=torch.int64)\n",
    "    logits = logits.softmax(0)\n",
    "    y_true = logits[label]\n",
    "    logit = torch.log(y_true+1e-45) - torch.log((1 - y_true)+1e-45)\n",
    "\n",
    "    return logit.item()"
   ]
  },
  {
   "cell_type": "code",
   "execution_count": null,
   "metadata": {},
   "outputs": [],
   "source": [
    "set(retain_inds) & set(forget_inds)"
   ]
  },
  {
   "cell_type": "code",
   "execution_count": null,
   "metadata": {},
   "outputs": [],
   "source": [
    "retain_scores['stable'] = retain_scores.apply(lambda x: g(x['logits'], x['labels']), axis=1)\n",
    "forget_scores['stable'] = retain_scores.apply(lambda x: g(x['logits'], x['labels']), axis=1)\n",
    "unseen_scores['stable'] = retain_scores.apply(lambda x: g(x['logits'], x['labels']), axis=1)\n",
    "\n"
   ]
  },
  {
   "cell_type": "code",
   "execution_count": null,
   "metadata": {},
   "outputs": [],
   "source": [
    "plt.hist(retain_scores['stable'], bins=100, density=True);\n",
    "plt.hist(unseen_scores['stable'], bins=100, density=True);\n"
   ]
  },
  {
   "cell_type": "code",
   "execution_count": null,
   "metadata": {},
   "outputs": [],
   "source": [
    "plt.hist(retain_scores['stable'], bins=100, density=True);\n",
    "plt.hist(unseen_scores['stable'], bins=100, density=True);\n"
   ]
  },
  {
   "cell_type": "code",
   "execution_count": null,
   "metadata": {},
   "outputs": [],
   "source": [
    "from sklearn.ensemble import GradientBoostingClassifier\n",
    "from sklearn import metrics"
   ]
  },
  {
   "cell_type": "code",
   "execution_count": null,
   "metadata": {},
   "outputs": [],
   "source": [
    "df = pd.DataFrame(np.array(forget_scores.logits.tolist() + unseen_scores.logits.tolist()), columns=[str(x) for x in range(10)])\n",
    "df['labels'] = forget_scores.labels.tolist() + unseen_scores.labels.tolist()\n",
    "df['target'] = [0] * len(forget_scores) + [1] * len(unseen_scores)\n",
    "df"
   ]
  },
  {
   "cell_type": "code",
   "execution_count": null,
   "metadata": {},
   "outputs": [],
   "source": [
    "m = GradientBoostingClassifier(max_depth=3, n_estimators=20)\n",
    "\n",
    "m.fit(df[df.columns[:-1]], df['target'])"
   ]
  },
  {
   "cell_type": "code",
   "execution_count": null,
   "metadata": {},
   "outputs": [],
   "source": [
    "metrics.roc_auc_score(df['target'], m.predict_proba(df[df.columns[:-1]])[:, 1])"
   ]
  },
  {
   "cell_type": "code",
   "execution_count": null,
   "metadata": {},
   "outputs": [],
   "source": [
    "metrics.PrecisionRecallDisplay.from_predictions(df['target'], m.predict_proba(df[df.columns[:-1]])[:, 1], pos_label=0)"
   ]
  },
  {
   "cell_type": "code",
   "execution_count": null,
   "metadata": {},
   "outputs": [],
   "source": [
    "JS_divergence_single(retain_scores.loss.apply(lambda x: np.log(x+1e-4)).tolist(), forget_scores.loss.apply(lambda x: np.log(x+1e-4)).tolist(), plot=True)"
   ]
  },
  {
   "cell_type": "code",
   "execution_count": null,
   "metadata": {},
   "outputs": [],
   "source": [
    "JS_divergence_single(unseen_scores.loss.apply(lambda x: np.log(x+1e-4)).tolist(), forget_scores.loss.apply(lambda x: np.log(x+1e-4)).tolist(), plot=True)"
   ]
  },
  {
   "cell_type": "code",
   "execution_count": null,
   "metadata": {},
   "outputs": [],
   "source": [
    "JS_divergence_single(unseen_scores.loss.apply(lambda x: np.log(x+1e-4)).tolist(), retain_scores.loss.apply(lambda x: np.log(x+1e-4)).tolist(), plot=True)"
   ]
  },
  {
   "cell_type": "code",
   "execution_count": null,
   "metadata": {},
   "outputs": [],
   "source": [
    "JS_divergence_single(retain_scores.loss.sample(270).apply(lambda x: np.log(x+1e-4)).tolist(), retain_scores.loss.apply(lambda x: np.log(x+1e-4)).tolist(), plot=True)"
   ]
  },
  {
   "cell_type": "code",
   "execution_count": null,
   "metadata": {},
   "outputs": [],
   "source": [
    "JS_divergence(np.array(forget_scores.logits.tolist()), np.array(retain_scores.logits.tolist()), plot=True)"
   ]
  },
  {
   "cell_type": "code",
   "execution_count": null,
   "metadata": {},
   "outputs": [],
   "source": [
    "JS_divergence(np.array(unseen_scores.logits.tolist()), np.array(retain_scores.logits.tolist()), plot=True)"
   ]
  },
  {
   "cell_type": "code",
   "execution_count": null,
   "metadata": {},
   "outputs": [],
   "source": [
    "JS_divergence(np.array(unseen_scores.logits.tolist()), np.array(forget_scores.logits.tolist()), plot=True)"
   ]
  },
  {
   "cell_type": "code",
   "execution_count": null,
   "metadata": {},
   "outputs": [],
   "source": [
    "trainer = Trainer(model)"
   ]
  },
  {
   "cell_type": "code",
   "execution_count": null,
   "metadata": {},
   "outputs": [],
   "source": [
    "for p in trainer.discriminator.parameters():\n",
    "    break"
   ]
  },
  {
   "cell_type": "code",
   "execution_count": null,
   "metadata": {},
   "outputs": [],
   "source": [
    "None > 1.2"
   ]
  },
  {
   "cell_type": "code",
   "execution_count": null,
   "metadata": {},
   "outputs": [],
   "source": [
    "model.eval()\n",
    "unseen_logits, unseen_labels = [], []\n",
    "\n",
    "for u in tqdm(unseen, desc='score unseen', leave=False):\n",
    "    unseen_logits.append(model(u[0].to(DEVICE)))\n",
    "    unseen_labels.append(u[1].to(DEVICE))\n",
    "\n",
    "unseen_logits = torch.cat(unseen_logits)\n",
    "unseen_labels = torch.cat(unseen_labels)"
   ]
  },
  {
   "cell_type": "code",
   "execution_count": null,
   "metadata": {},
   "outputs": [],
   "source": [
    "unseen_logits.requires_grad"
   ]
  },
  {
   "cell_type": "code",
   "execution_count": null,
   "metadata": {},
   "outputs": [],
   "source": [
    "unseen_labels"
   ]
  },
  {
   "cell_type": "code",
   "execution_count": null,
   "metadata": {},
   "outputs": [],
   "source": [
    "hidden_size=128\n",
    "\n",
    "class Discriminator(nn.Module):\n",
    "    def __init__(self, num_classes):\n",
    "        super(Discriminator, self).__init__()\n",
    "        self.class_embeddings = nn.Embedding(num_classes, num_classes)\n",
    "        \n",
    "        self.model = nn.Sequential(\n",
    "            nn.Linear(2*num_classes, hidden_size),\n",
    "            nn.ReLU(),\n",
    "            nn.Linear(hidden_size, 2*hidden_size),\n",
    "            nn.ReLU(),\n",
    "            nn.Linear(2*hidden_size, 2*hidden_size),\n",
    "            nn.ReLU(),\n",
    "            nn.Linear(2*hidden_size, hidden_size),\n",
    "            nn.ReLU(),\n",
    "            nn.Linear(hidden_size, 1),\n",
    "        )\n",
    "        \n",
    "    def forward(self, logits, label):\n",
    "        label_emb = self.class_embeddings(label)\n",
    "        z = torch.hstack([logits, label_emb])\n",
    "        return self.model(z).flatten()\n",
    "\n",
    "class Trainer:\n",
    "    def __init__(self, model):\n",
    "        \n",
    "        self.discriminator = Discriminator(10)\n",
    "        self.model = model\n",
    "        self.alpha = 1\n",
    "\n",
    "        self.model.to(DEVICE)\n",
    "        self.discriminator.to(DEVICE)\n",
    "        \n",
    "        self.d_optimizer = torch.optim.Adam(self.discriminator.parameters(), lr=2e-4, weight_decay=1e-5)\n",
    "        self.d_criterion = nn.BCEWithLogitsLoss()\n",
    "\n",
    "        self.g_optimizer = torch.optim.Adam(self.model.parameters(), lr=2e-5, weight_decay=1e-5)\n",
    "        self.g_criterion = nn.CrossEntropyLoss(reduction='mean')\n",
    "        \n",
    "\n",
    "    def generator_step(self, forget_logits, forget_labels, retain_logits, retain_labels):\n",
    "        \n",
    "        ones = torch.ones(forget_logits.size(0)).to(DEVICE)\n",
    "        forget_preds = self.discriminator(forget_logits, forget_labels)\n",
    "        d_loss = self.d_criterion(forget_preds, ones)\n",
    "        \n",
    "        g_loss = self.g_criterion(retain_logits, retain_labels)\n",
    "\n",
    "        loss = d_loss + self.alpha * g_loss\n",
    "\n",
    "        self.g_optimizer.zero_grad()\n",
    "        loss.backward()\n",
    "        self.g_optimizer.step()\n",
    "\n",
    "        return loss.item()\n",
    "        \n",
    "    def discriminator_step(self, forget_logits, valid_logits, forget_labels, valid_labels):\n",
    "        \n",
    "        ones = torch.ones(valid_logits.size(0)).to(DEVICE)\n",
    "        zeros = torch.zeros(forget_logits.size(0)).to(DEVICE)\n",
    "    \n",
    "        forget_preds = self.discriminator(forget_logits, forget_labels)\n",
    "        valid_preds = self.discriminator(valid_logits, valid_labels)\n",
    "        forget_loss = self.d_criterion(forget_preds, zeros)\n",
    "        valid_loss = self.d_criterion(valid_preds, ones)\n",
    "    \n",
    "        loss = forget_loss + valid_loss\n",
    "        self.d_optimizer.zero_grad()\n",
    "        loss.backward(retain_graph=True)\n",
    "        self.d_optimizer.step()\n",
    "\n",
    "        return loss.item()\n",
    "        \n",
    "        \n",
    "def gan_unlearning(model, retain, forget, valid):\n",
    "    loss_path = PATH_TO_LOGS/'gan_loss.txt'\n",
    "    metrics_path = PATH_TO_LOGS/'gan_metrics.txt'\n",
    "    loss_path.write_text('step,D_loss,G_loss\\n')\n",
    "    metrics_path.write_text('step,forget_JS,valid_JS,forget_accuracy,valid_accuracy\\n')\n",
    "    \n",
    "    trainer = Trainer(model)\n",
    "    epochs = 30\n",
    "    step = 0\n",
    "    n_range = 10\n",
    "    average_loss = None\n",
    "    best_js = np.inf\n",
    "    valid_scores = score_model(model, valid, progress=False)\n",
    "    \n",
    "    for epoch in range(epochs):\n",
    "        \n",
    "        for batch_idx, (forget_batch, retain_batch) in tqdm(enumerate(zip(forget, retain)), desc=f'epoch {epoch}/{epochs}', leave=False):\n",
    "            \n",
    "            step+= 1\n",
    "\n",
    "            # discriminator step\n",
    "            for i in range(n_range):\n",
    "                trainer.model.eval()\n",
    "                batch_inds = np.random.choice(len(valid_scores), size=BATCH_SIZE, replace=False)\n",
    "                valid_logits = torch.tensor(valid_scores.loc[batch_inds, 'logits'].tolist(), device=DEVICE)\n",
    "                valid_labels = torch.tensor(valid_scores.loc[batch_inds, 'labels'].tolist(), device=DEVICE)\n",
    "\n",
    "                batch = next(iter(forget))\n",
    "                forget_features = batch[0].to(DEVICE)\n",
    "                forget_labels = batch[1].to(DEVICE)\n",
    "                with torch.no_grad():\n",
    "                    forget_logits = trainer.model(forget_features)\n",
    "\n",
    "                d_loss = trainer.discriminator_step(forget_logits, valid_logits, forget_labels, valid_labels)\n",
    "                average_loss = d_loss if average_loss is None else 0.9 * average_loss + 0.1 * d_loss\n",
    "                if average_loss < 1.0:\n",
    "                    n_range = max(n_range//2, 1)\n",
    "                else:\n",
    "                    n_range = 10\n",
    "                        \n",
    "            # generator step\n",
    "            trainer.model.train()\n",
    "            retain_features = retain_batch[0].to(DEVICE)\n",
    "            retain_labels = retain_batch[1].to(DEVICE)\n",
    "            retain_logits = trainer.model(retain_features)\n",
    "            \n",
    "            trainer.model.eval()\n",
    "            forget_features = forget_batch[0].to(DEVICE)\n",
    "            forget_labels = forget_batch[1].to(DEVICE)\n",
    "            forget_logits = trainer.model(forget_features)\n",
    "            \n",
    "            g_loss = trainer.generator_step(forget_logits, forget_labels, retain_logits, retain_labels)\n",
    "\n",
    "            with open(loss_path, 'a') as file:\n",
    "                print(step, d_loss, g_loss, file=file, sep=',')\n",
    "            if epoch > -1 and step % 20 == 0:\n",
    "                fs = score_model(trainer.model, forget, progress=False)\n",
    "                vs = score_model(trainer.model, valid, progress=False)\n",
    "                f_js = JS_divergence_single(\n",
    "                    fs.loss.apply(lambda x: np.log(x+1e-4)).tolist(), \n",
    "                    valid_scores.loss.apply(lambda x: np.log(x+1e-4)).tolist(), \n",
    "                    plot=False)\n",
    "                v_js = JS_divergence_single(\n",
    "                    vs.loss.apply(lambda x: np.log(x+1e-4)).tolist(), \n",
    "                    valid_scores.loss.apply(lambda x: np.log(x+1e-4)).tolist(), \n",
    "                    plot=False)\n",
    "                af = accuracy_score(fs.labels, fs.preds)\n",
    "                av = accuracy_score(vs.labels, vs.preds)\n",
    "                \n",
    "                if best_js > f_js:\n",
    "                    best_js = f_js\n",
    "                    best_model_state_dict = deepcopy(trainer.model.state_dict())\n",
    "            \n",
    "                with open(metrics_path, 'a') as file:\n",
    "                    print(step, f_js, v_js, af, av, file=file, sep=',')\n",
    "\n",
    "    trainer.model.load_state_dict(best_model_state_dict)\n",
    "    trainer.model.eval()"
   ]
  },
  {
   "cell_type": "code",
   "execution_count": null,
   "metadata": {},
   "outputs": [],
   "source": [
    "dataset = Subset(cifar10, forget_inds)\n",
    "forget = DataLoader(dataset, batch_size=BATCH_SIZE, num_workers=NUM_WORKERS, shuffle=True)\n",
    "\n",
    "dataset = Subset(cifar10_aug, retain_inds)\n",
    "retain = DataLoader(dataset, batch_size=BATCH_SIZE, num_workers=NUM_WORKERS, shuffle=True)\n",
    "\n",
    "dataset = Subset(cifar10, unseen_inds)\n",
    "unseen = DataLoader(dataset, batch_size=BATCH_SIZE, num_workers=NUM_WORKERS, shuffle=True)"
   ]
  },
  {
   "cell_type": "code",
   "execution_count": null,
   "metadata": {},
   "outputs": [],
   "source": [
    "model = load_model(PATH_TO_MODELS/'origin'/'state_dict.pth', NUM_CLASSES)\n",
    "gan_unlearning(model, retain, forget, unseen)"
   ]
  },
  {
   "cell_type": "code",
   "execution_count": null,
   "metadata": {},
   "outputs": [],
   "source": [
    "df_metrics, fnr, tnr = evaluate_unlearning(model, forget_inds, retain_inds)\n",
    "display(df_metrics)\n",
    "\n",
    "plt.plot(fnr, tnr, label=f'auc: {metrics.auc(fnr, tnr):.3f}')\n",
    "plt.legend()"
   ]
  },
  {
   "cell_type": "code",
   "execution_count": null,
   "metadata": {},
   "outputs": [],
   "source": [
    "Unlearned = EasyDict()"
   ]
  },
  {
   "cell_type": "code",
   "execution_count": null,
   "metadata": {},
   "outputs": [],
   "source": [
    "Unlearned.forget_scores = score_model(Unlearned.model, forget_dataloader)\n",
    "Unlearned.valid_scores = score_model(Unlearned.model, valid_dataloader)\n",
    "Unlearned.test_scores = score_model(Unlearned.model, test_dataloader)\n",
    "Unlearned.retain_scores = score_model(Unlearned.model, retain_dataloader)\n",
    "\n",
    "\n",
    "accuracy_score(Unlearned.forget_scores['labels'], Unlearned.forget_scores['preds']), \\\n",
    "accuracy_score(Unlearned.valid_scores['labels'], Unlearned.valid_scores['preds']), \\\n",
    "accuracy_score(Unlearned.test_scores['labels'], Unlearned.test_scores['preds']), \\\n",
    "accuracy_score(Unlearned.retain_scores['labels'], Unlearned.retain_scores['preds'])"
   ]
  }
 ],
 "metadata": {
  "kernelspec": {
   "display_name": "Python 3",
   "language": "python",
   "name": "python3"
  },
  "language_info": {
   "codemirror_mode": {
    "name": "ipython",
    "version": 3
   },
   "file_extension": ".py",
   "mimetype": "text/x-python",
   "name": "python",
   "nbconvert_exporter": "python",
   "pygments_lexer": "ipython3",
   "version": "3.9.18"
  }
 },
 "nbformat": 4,
 "nbformat_minor": 2
}
