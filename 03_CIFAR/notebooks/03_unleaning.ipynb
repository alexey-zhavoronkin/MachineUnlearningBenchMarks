{
 "cells": [
  {
   "cell_type": "code",
   "execution_count": 44,
   "metadata": {},
   "outputs": [],
   "source": [
    "from pathlib import Path\n",
    "import sys\n",
    "\n",
    "BASE_PATH = Path('../')\n",
    "PATH_TO_DATA = BASE_PATH/'data'\n",
    "PATH_TO_MODELS = BASE_PATH/'checkpoints'\n",
    "PATH_TO_CACHE = BASE_PATH/'cache'\n",
    "PATH_TO_LOGS = BASE_PATH/'logs'\n",
    "\n",
    "PATH_TO_CACHE.mkdir(exist_ok=True, parents=True)\n",
    "PATH_TO_DATA.mkdir(exist_ok=True, parents=True)\n",
    "PATH_TO_MODELS.mkdir(exist_ok=True, parents=True)\n",
    "PATH_TO_LOGS.mkdir(exist_ok=True, parents=True)\n",
    "\n",
    "\n",
    "sys.path.append(str(BASE_PATH/'..'))"
   ]
  },
  {
   "cell_type": "markdown",
   "metadata": {},
   "source": [
    "#### <b>Load Libraries</b>"
   ]
  },
  {
   "cell_type": "code",
   "execution_count": 45,
   "metadata": {},
   "outputs": [],
   "source": [
    "import pprint\n",
    "from copy import deepcopy\n",
    "from tqdm import tqdm\n",
    "import time\n",
    "import random\n",
    "from pathlib import Path\n",
    "import pickle\n",
    "\n",
    "from PIL import Image\n",
    "\n",
    "import numpy as np\n",
    "import pandas as pd\n",
    "from sklearn import metrics\n",
    "import matplotlib.pyplot as plt\n",
    "\n",
    "import torch\n",
    "import torch.nn as nn\n",
    "import torch.nn.functional as F\n",
    "import torch.optim as optim\n",
    "import torchvision.models as models\n",
    "from torchvision import models\n",
    "from torchvision import transforms\n",
    "from torchvision.datasets import CIFAR10\n",
    "\n",
    "from torch.utils.data import Dataset, DataLoader, Subset\n",
    "\n",
    "from utils import progress_bar, load_model"
   ]
  },
  {
   "cell_type": "markdown",
   "metadata": {},
   "source": [
    "#### <b>Notebook Constants</b>"
   ]
  },
  {
   "cell_type": "code",
   "execution_count": 46,
   "metadata": {},
   "outputs": [],
   "source": [
    "RANDOM_STATE = 42\n",
    "BATCH_SIZE = 256\n",
    "NUM_WORKERS = 4\n",
    "DEVICE = 'cuda'\n",
    "NUM_CLASSES = 10"
   ]
  },
  {
   "cell_type": "code",
   "execution_count": 47,
   "metadata": {},
   "outputs": [],
   "source": [
    "def set_random_seed(seed=42):\n",
    "    torch.manual_seed(seed)\n",
    "    torch.cuda.manual_seed_all(seed)\n",
    "    torch.backends.cudnn.deterministic = True\n",
    "    torch.backends.cudnn.benchmark = False\n",
    "    np.random.seed(seed)\n",
    "    random.seed(seed)"
   ]
  },
  {
   "cell_type": "markdown",
   "metadata": {},
   "source": [
    "#### <b>Define Custom Dataset</b>"
   ]
  },
  {
   "cell_type": "code",
   "execution_count": 48,
   "metadata": {},
   "outputs": [],
   "source": [
    "train_transforms = transforms.Compose([\n",
    "    transforms.RandomCrop(32, padding=4),\n",
    "    transforms.RandomHorizontalFlip(),\n",
    "    transforms.ToTensor(),\n",
    "    transforms.Normalize((0.4914, 0.4822, 0.4465), (0.2023, 0.1994, 0.2010)),\n",
    "])\n",
    "test_transforms = transforms.Compose([\n",
    "    transforms.ToTensor(),\n",
    "    transforms.Normalize((0.4914, 0.4822, 0.4465), (0.2023, 0.1994, 0.2010)),\n",
    "])\n",
    "\n",
    "cifar10_aug = CIFAR10(root=PATH_TO_DATA, train=True, transform=train_transforms)\n",
    "cifar10 = CIFAR10(root=PATH_TO_DATA, train=True, transform=test_transforms)\n",
    "\n",
    "test_dataset = CIFAR10(root=PATH_TO_DATA, train=False, transform=test_transforms)\n",
    "test_dataloader = DataLoader(test_dataset, batch_size=BATCH_SIZE, shuffle=False, num_workers=NUM_WORKERS)"
   ]
  },
  {
   "cell_type": "code",
   "execution_count": 49,
   "metadata": {},
   "outputs": [],
   "source": [
    "train_inds = np.load(PATH_TO_DATA/'train_inds.npy')\n",
    "unseen_inds = np.load(PATH_TO_DATA/'unseen_inds.npy')\n",
    "retain_inds = np.load(PATH_TO_DATA/'retain_inds.npy')\n",
    "forget_inds = np.load(PATH_TO_DATA/'forget_inds.npy')\n",
    "shadow_inds = np.load(PATH_TO_DATA/'shadow_inds.npy')\n",
    "\n",
    "\n",
    "with open(PATH_TO_DATA/'data_split.pickle', 'rb') as file:\n",
    "    data_split = pickle.load(file)"
   ]
  },
  {
   "cell_type": "markdown",
   "metadata": {},
   "source": [
    "#### <b>Evalution utils</b>"
   ]
  },
  {
   "cell_type": "code",
   "execution_count": 50,
   "metadata": {},
   "outputs": [],
   "source": [
    "def downstream_task_performance(model, dataloader):\n",
    "    model.eval()\n",
    "    top2_correct = 0\n",
    "    correct = 0\n",
    "    total = 0\n",
    "    with torch.no_grad():\n",
    "        for batch_idx, (inputs, targets) in enumerate(dataloader):\n",
    "            inputs, targets = inputs.to(DEVICE), targets.to(DEVICE)\n",
    "            outputs = model(inputs)\n",
    "\n",
    "            _, preds = outputs.max(1)\n",
    "            total += targets.size(0)\n",
    "            correct += preds.eq(targets).sum().item()\n",
    "\n",
    "            # Top-2 accuracy.\n",
    "            _, top2_preds = outputs.topk(2, dim=1)\n",
    "            top2_correct += top2_preds.eq(targets.view(-1, 1).expand_as(top2_preds)).any(dim=1).sum().item()\n",
    "\n",
    "            progress_bar(batch_idx, len(dataloader), f'Acc: {100*correct/total:.2f}%%% Top2 Acc: {100*top2_correct/total:.2f}%%%')\n",
    "    \n",
    "    return 100*correct/total, 100*top2_correct/total"
   ]
  },
  {
   "cell_type": "code",
   "execution_count": 51,
   "metadata": {},
   "outputs": [],
   "source": [
    "from MIA.score import get_logits, lira_offline, lira_online\n",
    "\n",
    "def lira(target_net, train_inds, forget_inds, data_split, cached=True):\n",
    "\n",
    "    num_aug = 1\n",
    "    fix_variance = False\n",
    "\n",
    "    if num_aug > 1:\n",
    "        dataset = Subset(cifar10_aug, train_inds)\n",
    "    else:\n",
    "        dataset = Subset(cifar10, train_inds)\n",
    "    dataloader = DataLoader(dataset, batch_size=BATCH_SIZE, shuffle=False, num_workers=NUM_WORKERS)\n",
    "    labels = np.int64(~np.isin(train_inds, forget_inds))\n",
    "    masks_in = [np.array(data_split[x]) for x in train_inds]\n",
    "    \n",
    "    if cached and (PATH_TO_CACHE/'shadow_logits.npy').is_file():\n",
    "        shadow_logits = np.load(PATH_TO_CACHE/'shadow_logits.npy')\n",
    "        print('Shadow logits were brought from cache')\n",
    "    else:\n",
    "        shadow_nets = [load_model(state_dict, NUM_CLASSES).to(DEVICE) for state_dict in (PATH_TO_MODELS/'shadow').glob('*/*')]\n",
    "        shadow_logits = []\n",
    "        for _ in range(num_aug):\n",
    "            dataset_labels = []\n",
    "            shadow_aug_logits = [[] for _ in range(len(shadow_nets))]\n",
    "            with torch.no_grad():\n",
    "                for batch_idx, (inputs, targets) in tqdm(enumerate(dataloader), total=len(dataloader)):\n",
    "                    inputs, targets = inputs.to(DEVICE), targets.to(DEVICE)\n",
    "\n",
    "                    for i, net in enumerate(shadow_nets):\n",
    "                        logits = net(inputs).cpu().tolist()\n",
    "                        shadow_aug_logits[i].append(logits)\n",
    "                \n",
    "                    dataset_labels.append(targets.cpu().tolist())\n",
    "\n",
    "            shadow_aug_logits = np.stack([np.concatenate(logits) for logits in shadow_aug_logits])  # [n_shadow, n_examples, n_classes]\n",
    "            dataset_labels = np.concatenate(dataset_labels)[:, None]  # [n_examples, 1]\n",
    "\n",
    "            # Extract numerically stable logits\n",
    "            shadow_aug_logits = get_logits(shadow_aug_logits, np.repeat(dataset_labels[None], len(shadow_nets), 0))\n",
    "            shadow_logits.append(shadow_aug_logits)\n",
    "        \n",
    "        shadow_logits = np.stack(shadow_logits, axis=-1)\n",
    "        shadow_logits = np.swapaxes(shadow_logits, 0, 1)  # [n_examples, n_shadow, n_aug]\n",
    "        np.save(PATH_TO_CACHE/'shadow_logits.npy', shadow_logits)\n",
    "    \n",
    "    target_logits = []\n",
    "    for _ in range(num_aug):\n",
    "        dataset_labels = []\n",
    "        target_aug_logits = []\n",
    "        with torch.no_grad():\n",
    "            for batch_idx, (inputs, targets) in tqdm(enumerate(dataloader), total=len(dataloader)):\n",
    "                inputs, targets = inputs.to(DEVICE), targets.to(DEVICE)\n",
    "\n",
    "                logits = target_net(inputs).cpu().tolist()\n",
    "                target_aug_logits.append(logits)\n",
    "        \n",
    "                dataset_labels.append(targets.cpu().tolist())\n",
    "            \n",
    "        \n",
    "        target_aug_logits = np.concatenate(target_aug_logits)  # [n_examples, n_classes]\n",
    "        dataset_labels = np.concatenate(dataset_labels)[:, None]  # [n_examples, 1]\n",
    "\n",
    "        # Extract numerically stable logits\n",
    "        target_aug_logits = get_logits(target_aug_logits, dataset_labels)\n",
    "\n",
    "        target_logits.append(target_aug_logits)\n",
    "\n",
    "    target_logits = np.stack(target_logits, axis=-1)  # [n_examples, n_aug]\n",
    "\n",
    "    fnr, tnr, auc, low = lira_online(target_logits, shadow_logits, labels, masks_in, fix_variance=fix_variance)\n",
    "\n",
    "    return fnr, tnr, auc, low"
   ]
  },
  {
   "cell_type": "code",
   "execution_count": 52,
   "metadata": {},
   "outputs": [],
   "source": [
    "def shockri(model, train_inds, forget_inds):\n",
    "\n",
    "    with open(PATH_TO_MODELS/'atacker.pickle', 'rb') as file:\n",
    "        atacker = pickle.load(file)\n",
    "\n",
    "\n",
    "    dataset = Subset(cifar10, train_inds)\n",
    "    dataloader = DataLoader(dataset, batch_size=BATCH_SIZE, shuffle=False, num_workers=NUM_WORKERS)\n",
    "\n",
    "    target_logits = []\n",
    "    dataset_labels = []\n",
    "\n",
    "    with torch.no_grad():\n",
    "        for batch_idx, (inputs, targets) in tqdm(enumerate(dataloader), total=len(dataloader)):\n",
    "            inputs, targets = inputs.to(DEVICE), targets.to(DEVICE)\n",
    "\n",
    "            logits = model(inputs).log_softmax(1).cpu().tolist()\n",
    "            target_logits.append(logits)\n",
    "    \n",
    "            dataset_labels.append(targets.cpu().tolist())\n",
    "        \n",
    "    \n",
    "    target_logits = np.concatenate(target_logits)\n",
    "    dataset_labels = np.concatenate(dataset_labels)\n",
    "\n",
    "    df = pd.DataFrame(target_logits, columns = [f'feature_{i}' for i in  range(NUM_CLASSES)])\n",
    "    df['ce_loss'] = -target_logits[range(target_logits.shape[0]), dataset_labels.reshape(-1)]\n",
    "    df['target'] = np.int64(~np.isin(train_inds, forget_inds))\n",
    "\n",
    "    df['pred'] = atacker.predict_proba(df[atacker.feature_names_in_])[:, 1]\n",
    "\n",
    "    fpr, tpr, thresholds = metrics.roc_curve(df['target'], df['pred'])\n",
    "\n",
    "    fnr = 1 - tpr\n",
    "    tnr = 1 - fpr\n",
    "\n",
    "    low = metrics.confusion_matrix(df['target'], (df['pred'] > 0.400).astype(int),normalize='true').ravel()[0]\n",
    "    auc = metrics.auc(fnr, tnr)\n",
    "    \n",
    "    return fnr, tnr, auc, low\n",
    "\n",
    "\n"
   ]
  },
  {
   "cell_type": "code",
   "execution_count": 53,
   "metadata": {},
   "outputs": [],
   "source": [
    "def evaluate_unlearning(model, forget_inds, retain_inds):\n",
    "\n",
    "    global cifar10, train_inds, data_split, unseen_inds, test_dataloader\n",
    "\n",
    "    unseen_dataset = Subset(cifar10, unseen_inds)\n",
    "    unseen_dataloader = DataLoader(unseen_dataset, batch_size=BATCH_SIZE, shuffle=True, num_workers=NUM_WORKERS)\n",
    "\n",
    "    forget_dataset = Subset(cifar10, forget_inds)\n",
    "    forget_dataloader = DataLoader(forget_dataset, batch_size=BATCH_SIZE, shuffle=True, num_workers=NUM_WORKERS)\n",
    "\n",
    "    retain_dataset = Subset(cifar10, retain_inds)\n",
    "    retain_dataloader = DataLoader(retain_dataset, batch_size=BATCH_SIZE, shuffle=True, num_workers=NUM_WORKERS)\n",
    "\n",
    "    model.eval()\n",
    "    \n",
    "    retain_acc = downstream_task_performance(model, retain_dataloader)\n",
    "    forget_acc = downstream_task_performance(model, forget_dataloader)\n",
    "    test_acc = downstream_task_performance(model, test_dataloader)\n",
    "    unseen_acc = downstream_task_performance(model, unseen_dataloader)\n",
    "    fnr, tnr, auc, low = shockri(model, train_inds, forget_inds)\n",
    "\n",
    "    result_df = pd.DataFrame(\n",
    "            index=[\n",
    "                'retain_acc',\n",
    "                'forget_acc',\n",
    "                'test_acc',\n",
    "                'unseen_acc',\n",
    "                'MIA_AUC','MIA_TNR@5%FNR'\n",
    "            ],\n",
    "            data=[\n",
    "                np.round(retain_acc[0], 2),\n",
    "                np.round(forget_acc[0], 2),\n",
    "                np.round(test_acc[0], 2),\n",
    "                np.round(unseen_acc[0], 2),\n",
    "                np.round(100*auc, 2),\n",
    "                np.round(100*low, 2)\n",
    "            ]\n",
    "            ).T\n",
    "\n",
    "    return result_df, fnr, tnr\n"
   ]
  },
  {
   "cell_type": "markdown",
   "metadata": {},
   "source": [
    "#### <b>Evaluate origin model</b>"
   ]
  },
  {
   "cell_type": "code",
   "execution_count": 54,
   "metadata": {},
   "outputs": [
    {
     "name": "stdout",
     "output_type": "stream",
     "text": [
      " [=======================================>]  Step: 4ms | Tot: 620ms | Acc: 89.05%%% Top2 Acc: 96.75% 84/84   \n",
      " [================================>.......]  Step: 4ms | Tot: 16ms | Acc: 89.16%%% Top2 Acc: 96.80% 5/5  \n",
      " [=======================================>]  Step: 3ms | Tot: 286ms | Acc: 75.21%%% Top2 Acc: 88.86% 40/40  ============================>...........]  Step: 10ms | Tot: 209ms | Acc: 75.39%%% Top2 Acc: 88.97% 29/40 \n",
      " [======================================>.]  Step: 4ms | Tot: 133ms | Acc: 75.70%%% Top2 Acc: 90.22% 20/20  \n"
     ]
    },
    {
     "name": "stderr",
     "output_type": "stream",
     "text": [
      "100%|██████████| 88/88 [00:00<00:00, 113.01it/s]\n"
     ]
    },
    {
     "data": {
      "text/html": [
       "<div>\n",
       "<style scoped>\n",
       "    .dataframe tbody tr th:only-of-type {\n",
       "        vertical-align: middle;\n",
       "    }\n",
       "\n",
       "    .dataframe tbody tr th {\n",
       "        vertical-align: top;\n",
       "    }\n",
       "\n",
       "    .dataframe thead th {\n",
       "        text-align: right;\n",
       "    }\n",
       "</style>\n",
       "<table border=\"1\" class=\"dataframe\">\n",
       "  <thead>\n",
       "    <tr style=\"text-align: right;\">\n",
       "      <th></th>\n",
       "      <th>retain_acc</th>\n",
       "      <th>forget_acc</th>\n",
       "      <th>test_acc</th>\n",
       "      <th>unseen_acc</th>\n",
       "      <th>MIA_AUC</th>\n",
       "      <th>MIA_TNR@5%FNR</th>\n",
       "    </tr>\n",
       "  </thead>\n",
       "  <tbody>\n",
       "    <tr>\n",
       "      <th>0</th>\n",
       "      <td>89.05</td>\n",
       "      <td>89.16</td>\n",
       "      <td>75.21</td>\n",
       "      <td>75.7</td>\n",
       "      <td>49.51</td>\n",
       "      <td>3.02</td>\n",
       "    </tr>\n",
       "  </tbody>\n",
       "</table>\n",
       "</div>"
      ],
      "text/plain": [
       "   retain_acc  forget_acc  test_acc  unseen_acc  MIA_AUC  MIA_TNR@5%FNR\n",
       "0       89.05       89.16     75.21        75.7    49.51           3.02"
      ]
     },
     "metadata": {},
     "output_type": "display_data"
    },
    {
     "name": "stdout",
     "output_type": "stream",
     "text": [
      "|    |   retain_acc |   forget_acc |   test_acc |   unseen_acc |   MIA_AUC |   MIA_TNR@5%FNR |\n",
      "|---:|-------------:|-------------:|-----------:|-------------:|----------:|----------------:|\n",
      "|  0 |        89.05 |        89.16 |      75.21 |         75.7 |     49.51 |            3.02 |\n"
     ]
    },
    {
     "data": {
      "image/png": "[encoded data removed]",
      "text/plain": [
       "<Figure size 640x480 with 1 Axes>"
      ]
     },
     "metadata": {},
     "output_type": "display_data"
    }
   ],
   "source": [
    "model = load_model(PATH_TO_MODELS/'origin'/'state_dict.pth', NUM_CLASSES)\n",
    "model.to(DEVICE)\n",
    "\n",
    "df_metrics, fnr, tnr = evaluate_unlearning(model, forget_inds, retain_inds)\n",
    " \n",
    "display(df_metrics)\n",
    "\n",
    "plt.plot(fnr, tnr, label=f'auc: {metrics.auc(fnr, tnr):.3f}')\n",
    "plt.legend()\n",
    "\n",
    "print(df_metrics.to_markdown())"
   ]
  },
  {
   "cell_type": "markdown",
   "metadata": {},
   "source": [
    "#### <b>Evaluate retrained model</b>"
   ]
  },
  {
   "cell_type": "code",
   "execution_count": 55,
   "metadata": {},
   "outputs": [
    {
     "name": "stdout",
     "output_type": "stream",
     "text": [
      " [=======================================>]  Step: 3ms | Tot: 602ms | Acc: 90.18%%% Top2 Acc: 97.01% 84/84  \n",
      " [================================>.......]  Step: 3ms | Tot: 16ms | Acc: 74.93%%% Top2 Acc: 89.69% 5/5  \n",
      " [=======================================>]  Step: 3ms | Tot: 276ms | Acc: 75.93%%% Top2 Acc: 89.24% 40/40  \n",
      " [======================================>.]  Step: 3ms | Tot: 166ms | Acc: 76.06%%% Top2 Acc: 89.86% 20/20  \n"
     ]
    },
    {
     "name": "stderr",
     "output_type": "stream",
     "text": [
      "100%|██████████| 88/88 [00:00<00:00, 122.59it/s]\n"
     ]
    },
    {
     "data": {
      "text/html": [
       "<div>\n",
       "<style scoped>\n",
       "    .dataframe tbody tr th:only-of-type {\n",
       "        vertical-align: middle;\n",
       "    }\n",
       "\n",
       "    .dataframe tbody tr th {\n",
       "        vertical-align: top;\n",
       "    }\n",
       "\n",
       "    .dataframe thead th {\n",
       "        text-align: right;\n",
       "    }\n",
       "</style>\n",
       "<table border=\"1\" class=\"dataframe\">\n",
       "  <thead>\n",
       "    <tr style=\"text-align: right;\">\n",
       "      <th></th>\n",
       "      <th>retain_acc</th>\n",
       "      <th>forget_acc</th>\n",
       "      <th>test_acc</th>\n",
       "      <th>unseen_acc</th>\n",
       "      <th>MIA_AUC</th>\n",
       "      <th>MIA_TNR@5%FNR</th>\n",
       "    </tr>\n",
       "  </thead>\n",
       "  <tbody>\n",
       "    <tr>\n",
       "      <th>0</th>\n",
       "      <td>90.18</td>\n",
       "      <td>74.93</td>\n",
       "      <td>75.93</td>\n",
       "      <td>76.06</td>\n",
       "      <td>59.39</td>\n",
       "      <td>14.4</td>\n",
       "    </tr>\n",
       "  </tbody>\n",
       "</table>\n",
       "</div>"
      ],
      "text/plain": [
       "   retain_acc  forget_acc  test_acc  unseen_acc  MIA_AUC  MIA_TNR@5%FNR\n",
       "0       90.18       74.93     75.93       76.06    59.39           14.4"
      ]
     },
     "metadata": {},
     "output_type": "display_data"
    },
    {
     "name": "stdout",
     "output_type": "stream",
     "text": [
      "|    |   retain_acc |   forget_acc |   test_acc |   unseen_acc |   MIA_AUC |   MIA_TNR@5%FNR |\n",
      "|---:|-------------:|-------------:|-----------:|-------------:|----------:|----------------:|\n",
      "|  0 |        90.18 |        74.93 |      75.93 |        76.06 |     59.39 |            14.4 |\n"
     ]
    },
    {
     "data": {
      "image/png": "[encoded data removed]",
      "text/plain": [
       "<Figure size 640x480 with 1 Axes>"
      ]
     },
     "metadata": {},
     "output_type": "display_data"
    }
   ],
   "source": [
    "model = load_model(PATH_TO_MODELS/'retrained'/'state_dict.pth', NUM_CLASSES)\n",
    "model.to(DEVICE)\n",
    "\n",
    "df_metrics, fnr, tnr = evaluate_unlearning(model, forget_inds, retain_inds)\n",
    " \n",
    "display(df_metrics)\n",
    "\n",
    "plt.plot(fnr, tnr, label=f'auc: {metrics.auc(fnr, tnr):.3f}')\n",
    "plt.legend()\n",
    "\n",
    "print(df_metrics.to_markdown())"
   ]
  },
  {
   "cell_type": "markdown",
   "metadata": {},
   "source": [
    "#### <b>Unlearning</b>"
   ]
  },
  {
   "cell_type": "markdown",
   "metadata": {},
   "source": [
    "##### <b>Fine Tuning</b>"
   ]
  },
  {
   "cell_type": "code",
   "execution_count": 56,
   "metadata": {},
   "outputs": [],
   "source": [
    "def fine_tune_unlearning(model, forget_inds, retain_inds, unseen_inds):\n",
    "\n",
    "    set_random_seed(RANDOM_STATE)\n",
    "    \n",
    "    model.train()\n",
    "    \n",
    "    criterion = torch.nn.CrossEntropyLoss()\n",
    "    optimizer = optim.SGD(model.parameters(), lr=0.01)\n",
    "\n",
    "    dataset = Subset(cifar10_aug, retain_inds)\n",
    "    dataloader = DataLoader(dataset, batch_size=BATCH_SIZE, num_workers=NUM_WORKERS, shuffle=True)\n",
    "\n",
    "    num_epochs = 10\n",
    "    for epoch in range(num_epochs):\n",
    "        for inputs, targets in tqdm(dataloader, desc=f'epoch {epoch}/{num_epochs}', leave=False):\n",
    "            \n",
    "            inputs, targets = inputs.to(DEVICE), targets.to(DEVICE)\n",
    "\n",
    "            outputs = model(inputs)\n",
    "            loss = criterion(outputs, targets)\n",
    "\n",
    "            optimizer.zero_grad()\n",
    "            loss.backward()\n",
    "            optimizer.step()\n",
    "\n",
    "    model.eval()"
   ]
  },
  {
   "cell_type": "code",
   "execution_count": 57,
   "metadata": {},
   "outputs": [
    {
     "name": "stderr",
     "output_type": "stream",
     "text": [
      "                                                           \r"
     ]
    },
    {
     "name": "stdout",
     "output_type": "stream",
     "text": [
      " [=======================================>]  Step: 3ms | Tot: 598ms | Acc: 89.41%%% Top2 Acc: 96.93% 84/84   \n",
      " [================================>.......]  Step: 4ms | Tot: 16ms | Acc: 88.80%%% Top2 Acc: 96.53% 5/5  \n",
      " [=======================================>]  Step: 3ms | Tot: 277ms | Acc: 75.19%%% Top2 Acc: 88.81% 40/40  \n",
      " [======================================>.]  Step: 3ms | Tot: 126ms | Acc: 75.82%%% Top2 Acc: 89.90% 20/20  \n"
     ]
    },
    {
     "name": "stderr",
     "output_type": "stream",
     "text": [
      "100%|██████████| 88/88 [00:00<00:00, 96.02it/s] \n"
     ]
    },
    {
     "data": {
      "text/html": [
       "<div>\n",
       "<style scoped>\n",
       "    .dataframe tbody tr th:only-of-type {\n",
       "        vertical-align: middle;\n",
       "    }\n",
       "\n",
       "    .dataframe tbody tr th {\n",
       "        vertical-align: top;\n",
       "    }\n",
       "\n",
       "    .dataframe thead th {\n",
       "        text-align: right;\n",
       "    }\n",
       "</style>\n",
       "<table border=\"1\" class=\"dataframe\">\n",
       "  <thead>\n",
       "    <tr style=\"text-align: right;\">\n",
       "      <th></th>\n",
       "      <th>retain_acc</th>\n",
       "      <th>forget_acc</th>\n",
       "      <th>test_acc</th>\n",
       "      <th>unseen_acc</th>\n",
       "      <th>MIA_AUC</th>\n",
       "      <th>MIA_TNR@5%FNR</th>\n",
       "      <th>unlearning_time</th>\n",
       "    </tr>\n",
       "  </thead>\n",
       "  <tbody>\n",
       "    <tr>\n",
       "      <th>0</th>\n",
       "      <td>89.41</td>\n",
       "      <td>88.8</td>\n",
       "      <td>75.19</td>\n",
       "      <td>75.82</td>\n",
       "      <td>50.17</td>\n",
       "      <td>3.64</td>\n",
       "      <td>12</td>\n",
       "    </tr>\n",
       "  </tbody>\n",
       "</table>\n",
       "</div>"
      ],
      "text/plain": [
       "   retain_acc  forget_acc  test_acc  unseen_acc  MIA_AUC  MIA_TNR@5%FNR  \\\n",
       "0       89.41        88.8     75.19       75.82    50.17           3.64   \n",
       "\n",
       "   unlearning_time  \n",
       "0               12  "
      ]
     },
     "metadata": {},
     "output_type": "display_data"
    },
    {
     "name": "stdout",
     "output_type": "stream",
     "text": [
      "|    |   retain_acc |   forget_acc |   test_acc |   unseen_acc |   MIA_AUC |   MIA_TNR@5%FNR |   unlearning_time |\n",
      "|---:|-------------:|-------------:|-----------:|-------------:|----------:|----------------:|------------------:|\n",
      "|  0 |        89.41 |         88.8 |      75.19 |        75.82 |     50.17 |            3.64 |                12 |\n"
     ]
    },
    {
     "data": {
      "image/png": "[encoded data removed]",
      "text/plain": [
       "<Figure size 640x480 with 1 Axes>"
      ]
     },
     "metadata": {},
     "output_type": "display_data"
    }
   ],
   "source": [
    "model = load_model(PATH_TO_MODELS/'origin'/'state_dict.pth', NUM_CLASSES)\n",
    "model.to(DEVICE)\n",
    "\n",
    "start = time.time()\n",
    "fine_tune_unlearning(model, forget_inds, retain_inds, unseen_inds)\n",
    "unlearning_time = time.time() - start\n",
    "\n",
    "df_metrics, fnr, tnr = evaluate_unlearning(model, forget_inds, retain_inds)\n",
    "df_metrics['unlearning_time'] = round(unlearning_time)\n",
    "display(df_metrics)\n",
    "\n",
    "plt.plot(fnr, tnr, label=f'auc: {metrics.auc(fnr, tnr):.3f}')\n",
    "plt.legend()\n",
    "\n",
    "print(df_metrics.to_markdown())"
   ]
  },
  {
   "cell_type": "markdown",
   "metadata": {},
   "source": [
    "##### <b>Fine Tuning with random labels</b>"
   ]
  },
  {
   "cell_type": "code",
   "execution_count": 58,
   "metadata": {},
   "outputs": [],
   "source": [
    "def random_labels_unlearning(model, forget_inds, retain_inds, unseen_inds):\n",
    "\n",
    "    set_random_seed(RANDOM_STATE)\n",
    "\n",
    "    class CustomDataset(Dataset):\n",
    "        def __init__(self, inds, targets):\n",
    "            self.dataset = Subset(cifar10_aug, inds)\n",
    "            self.targets = targets\n",
    "\n",
    "        def __len__(self):\n",
    "            return len(self.dataset)\n",
    "\n",
    "        def __getitem__(self, index):\n",
    "            return self.dataset[index][0], self.targets[index]\n",
    "\n",
    "    inds = np.concatenate([retain_inds, forget_inds])\n",
    "    targets = np.concatenate([np.array(cifar10_aug.targets)[retain_inds], np.random.randint(0, NUM_CLASSES, size=len(forget_inds))])\n",
    "\n",
    "    dataset = CustomDataset(inds, targets)\n",
    "    dataloader = DataLoader(dataset, batch_size=BATCH_SIZE, num_workers=NUM_WORKERS, shuffle=True)\n",
    "\n",
    "    model.train()\n",
    "    model.to(DEVICE)\n",
    "    \n",
    "    CE = torch.nn.CrossEntropyLoss()\n",
    "    optimizer = optim.AdamW(model.parameters(), lr=5e-4)\n",
    "\n",
    "    num_epochs = 10\n",
    "    for epoch in range(num_epochs):\n",
    "        for inputs, labels in tqdm(dataloader, desc=f'epoch {epoch}/{num_epochs}', leave=False):\n",
    "            inputs, labels = inputs.to(DEVICE), labels.to(DEVICE)\n",
    "\n",
    "            outputs = model(inputs)\n",
    "            loss = CE(outputs, labels)\n",
    "\n",
    "            optimizer.zero_grad()\n",
    "            loss.backward()\n",
    "            optimizer.step()\n",
    "\n",
    "    model.eval()"
   ]
  },
  {
   "cell_type": "code",
   "execution_count": 59,
   "metadata": {},
   "outputs": [
    {
     "name": "stderr",
     "output_type": "stream",
     "text": [
      "                                                           \r"
     ]
    },
    {
     "name": "stdout",
     "output_type": "stream",
     "text": [
      " [=======================================>]  Step: 4ms | Tot: 605ms | Acc: 87.80%%% Top2 Acc: 96.50% 84/84   \n",
      " [================================>.......]  Step: 3ms | Tot: 18ms | Acc: 76.44%%% Top2 Acc: 89.96% 5/5  \n",
      " [=======================================>]  Step: 3ms | Tot: 292ms | Acc: 74.06%%% Top2 Acc: 88.12% 40/40  \n",
      " [======================================>.]  Step: 3ms | Tot: 127ms | Acc: 74.82%%% Top2 Acc: 89.06% 20/20  \n"
     ]
    },
    {
     "name": "stderr",
     "output_type": "stream",
     "text": [
      "100%|██████████| 88/88 [00:00<00:00, 122.81it/s]\n"
     ]
    },
    {
     "data": {
      "text/html": [
       "<div>\n",
       "<style scoped>\n",
       "    .dataframe tbody tr th:only-of-type {\n",
       "        vertical-align: middle;\n",
       "    }\n",
       "\n",
       "    .dataframe tbody tr th {\n",
       "        vertical-align: top;\n",
       "    }\n",
       "\n",
       "    .dataframe thead th {\n",
       "        text-align: right;\n",
       "    }\n",
       "</style>\n",
       "<table border=\"1\" class=\"dataframe\">\n",
       "  <thead>\n",
       "    <tr style=\"text-align: right;\">\n",
       "      <th></th>\n",
       "      <th>retain_acc</th>\n",
       "      <th>forget_acc</th>\n",
       "      <th>test_acc</th>\n",
       "      <th>unseen_acc</th>\n",
       "      <th>MIA_AUC</th>\n",
       "      <th>MIA_TNR@5%FNR</th>\n",
       "      <th>unlearning_time</th>\n",
       "    </tr>\n",
       "  </thead>\n",
       "  <tbody>\n",
       "    <tr>\n",
       "      <th>0</th>\n",
       "      <td>87.8</td>\n",
       "      <td>76.44</td>\n",
       "      <td>74.06</td>\n",
       "      <td>74.82</td>\n",
       "      <td>58.97</td>\n",
       "      <td>7.73</td>\n",
       "      <td>13</td>\n",
       "    </tr>\n",
       "  </tbody>\n",
       "</table>\n",
       "</div>"
      ],
      "text/plain": [
       "   retain_acc  forget_acc  test_acc  unseen_acc  MIA_AUC  MIA_TNR@5%FNR  \\\n",
       "0        87.8       76.44     74.06       74.82    58.97           7.73   \n",
       "\n",
       "   unlearning_time  \n",
       "0               13  "
      ]
     },
     "metadata": {},
     "output_type": "display_data"
    },
    {
     "name": "stdout",
     "output_type": "stream",
     "text": [
      "|    |   retain_acc |   forget_acc |   test_acc |   unseen_acc |   MIA_AUC |   MIA_TNR@5%FNR |   unlearning_time |\n",
      "|---:|-------------:|-------------:|-----------:|-------------:|----------:|----------------:|------------------:|\n",
      "|  0 |         87.8 |        76.44 |      74.06 |        74.82 |     58.97 |            7.73 |                13 |\n"
     ]
    },
    {
     "data": {
      "image/png": "[encoded data removed]",
      "text/plain": [
       "<Figure size 640x480 with 1 Axes>"
      ]
     },
     "metadata": {},
     "output_type": "display_data"
    }
   ],
   "source": [
    "model = load_model(PATH_TO_MODELS/'origin'/'state_dict.pth', NUM_CLASSES)\n",
    "model.to(DEVICE)\n",
    "\n",
    "start = time.time()\n",
    "random_labels_unlearning(model, forget_inds, retain_inds, unseen_inds)\n",
    "unlearning_time = time.time() - start\n",
    "\n",
    "df_metrics, fnr, tnr = evaluate_unlearning(model, forget_inds, retain_inds)\n",
    "df_metrics['unlearning_time'] = round(unlearning_time)\n",
    "display(df_metrics)\n",
    "\n",
    "plt.plot(fnr, tnr, label=f'auc: {metrics.auc(fnr, tnr):.3f}')\n",
    "plt.legend()\n",
    "\n",
    "print(df_metrics.to_markdown())"
   ]
  },
  {
   "cell_type": "markdown",
   "metadata": {},
   "source": [
    "##### <b>Fine Tuning with NOT random labels</b>"
   ]
  },
  {
   "cell_type": "code",
   "execution_count": 60,
   "metadata": {},
   "outputs": [],
   "source": [
    "def not_random_labels_unlearning(model, forget_inds, retain_inds, unseen_inds):\n",
    "\n",
    "    set_random_seed(RANDOM_STATE)\n",
    "\n",
    "    feature_extractor = models.convnext_tiny(weights='DEFAULT')\n",
    "    def get_features(name):\n",
    "        def hook(model, input, output):\n",
    "            features[name] = output.detach()\n",
    "        return hook\n",
    "    feature_extractor.avgpool.register_forward_hook(get_features('feats'))\n",
    "    feature_extractor.eval()\n",
    "    feature_extractor.to(DEVICE)\n",
    "\n",
    "    model.eval()\n",
    "    model.to(DEVICE)\n",
    "\n",
    "    unseen_dataset = Subset(cifar10, unseen_inds)\n",
    "    unseen_dataloader = DataLoader(unseen_dataset, shuffle=False, batch_size=BATCH_SIZE, num_workers=NUM_WORKERS)\n",
    "    forget_dataset = Subset(cifar10, forget_inds)\n",
    "    forget_dataloader = DataLoader(forget_dataset, shuffle=False, batch_size=BATCH_SIZE, num_workers=NUM_WORKERS)\n",
    "\n",
    "    forget_feats = []\n",
    "    forget_preds = []\n",
    "    forget_targets = []\n",
    "\n",
    "    unseen_feats = []\n",
    "    unseen_preds = []\n",
    "    unseen_targets = []\n",
    "\n",
    "    features = {}\n",
    "\n",
    "    for inputs, targets in tqdm(unseen_dataloader):\n",
    "        inputs = inputs.to(DEVICE)\n",
    "        unseen_preds.append(model(inputs).log_softmax(1).detach().cpu())\n",
    "        feature_extractor(inputs)\n",
    "        unseen_feats.append(features['feats'].squeeze().cpu())\n",
    "        unseen_targets.append(targets.detach().cpu())\n",
    "\n",
    "    unseen_preds = torch.cat(unseen_preds)\n",
    "    unseen_feats = torch.cat(unseen_feats)\n",
    "    unseen_targets = torch.cat(unseen_targets)\n",
    "\n",
    "    for inputs, targets in tqdm(forget_dataloader):\n",
    "        inputs = inputs.to(DEVICE)\n",
    "        forget_preds.append(model(inputs).log_softmax(1).detach().cpu())\n",
    "        feature_extractor(inputs)\n",
    "        forget_feats.append(features['feats'].squeeze().cpu())\n",
    "        forget_targets.append(targets.detach().cpu())\n",
    "\n",
    "    forget_preds = torch.cat(forget_preds)\n",
    "    forget_feats = torch.cat(forget_feats)\n",
    "    forget_targets = torch.cat(forget_targets)\n",
    "\n",
    "    # change targets with closest from unseen\n",
    "    for i, x in enumerate(forget_feats):\n",
    "        j = F.cosine_similarity(x, unseen_feats).argmax()\n",
    "        forget_preds[i] = unseen_preds[j]\n",
    "        forget_targets[i] = unseen_targets[j]\n",
    "\n",
    "    inds = np.concatenate([retain_inds, forget_inds])\n",
    "    targets = torch.cat([torch.tensor(cifar10_aug.targets)[retain_inds], forget_targets])\n",
    "\n",
    "    class CustomDataset(Dataset):\n",
    "        def __init__(self, inds, targets):\n",
    "            self.dataset = Subset(cifar10_aug, inds)\n",
    "            self.targets = targets\n",
    "\n",
    "        def __len__(self):\n",
    "            return len(self.dataset)\n",
    "\n",
    "        def __getitem__(self, index):\n",
    "            return self.dataset[index][0], self.targets[index]\n",
    "\n",
    "    dataset = CustomDataset(inds, targets)\n",
    "    dataloader = DataLoader(dataset, batch_size=BATCH_SIZE, num_workers=NUM_WORKERS, shuffle=True)\n",
    "\n",
    "    model.train()\n",
    "    model.to(DEVICE)\n",
    "    \n",
    "    CE = torch.nn.CrossEntropyLoss()\n",
    "    optimizer = optim.AdamW(model.parameters(), lr=5e-4)\n",
    "\n",
    "    num_epochs = 20\n",
    "    for epoch in range(num_epochs):\n",
    "        for inputs, labels in tqdm(dataloader, desc=f'epoch {epoch}/{num_epochs}', leave=False):\n",
    "            inputs, labels = inputs.to(DEVICE), labels.to(DEVICE)\n",
    "\n",
    "            outputs = model(inputs)\n",
    "            loss = CE(outputs, labels)\n",
    "\n",
    "            optimizer.zero_grad()\n",
    "            loss.backward()\n",
    "            optimizer.step()\n",
    "\n",
    "    model.eval()"
   ]
  },
  {
   "cell_type": "code",
   "execution_count": 61,
   "metadata": {},
   "outputs": [
    {
     "name": "stderr",
     "output_type": "stream",
     "text": [
      "100%|██████████| 20/20 [00:00<00:00, 58.23it/s]\n",
      "100%|██████████| 5/5 [00:00<00:00, 23.86it/s]\n",
      "                                                            \r"
     ]
    },
    {
     "name": "stdout",
     "output_type": "stream",
     "text": [
      " [=======================================>]  Step: 4ms | Tot: 612ms | Acc: 91.27%%% Top2 Acc: 98.03% 84/84   \n",
      " [================================>.......]  Step: 4ms | Tot: 17ms | Acc: 73.33%%% Top2 Acc: 88.98% 5/5  \n",
      " [=======================================>]  Step: 3ms | Tot: 273ms | Acc: 74.08%%% Top2 Acc: 88.23% 40/40  \n",
      " [======================================>.]  Step: 3ms | Tot: 128ms | Acc: 74.54%%% Top2 Acc: 89.00% 20/20  \n"
     ]
    },
    {
     "name": "stderr",
     "output_type": "stream",
     "text": [
      "100%|██████████| 88/88 [00:00<00:00, 121.98it/s]\n"
     ]
    },
    {
     "data": {
      "text/html": [
       "<div>\n",
       "<style scoped>\n",
       "    .dataframe tbody tr th:only-of-type {\n",
       "        vertical-align: middle;\n",
       "    }\n",
       "\n",
       "    .dataframe tbody tr th {\n",
       "        vertical-align: top;\n",
       "    }\n",
       "\n",
       "    .dataframe thead th {\n",
       "        text-align: right;\n",
       "    }\n",
       "</style>\n",
       "<table border=\"1\" class=\"dataframe\">\n",
       "  <thead>\n",
       "    <tr style=\"text-align: right;\">\n",
       "      <th></th>\n",
       "      <th>retain_acc</th>\n",
       "      <th>forget_acc</th>\n",
       "      <th>test_acc</th>\n",
       "      <th>unseen_acc</th>\n",
       "      <th>MIA_AUC</th>\n",
       "      <th>MIA_TNR@5%FNR</th>\n",
       "      <th>unlearning_time</th>\n",
       "    </tr>\n",
       "  </thead>\n",
       "  <tbody>\n",
       "    <tr>\n",
       "      <th>0</th>\n",
       "      <td>91.27</td>\n",
       "      <td>73.33</td>\n",
       "      <td>74.08</td>\n",
       "      <td>74.54</td>\n",
       "      <td>61.68</td>\n",
       "      <td>12.98</td>\n",
       "      <td>27</td>\n",
       "    </tr>\n",
       "  </tbody>\n",
       "</table>\n",
       "</div>"
      ],
      "text/plain": [
       "   retain_acc  forget_acc  test_acc  unseen_acc  MIA_AUC  MIA_TNR@5%FNR  \\\n",
       "0       91.27       73.33     74.08       74.54    61.68          12.98   \n",
       "\n",
       "   unlearning_time  \n",
       "0               27  "
      ]
     },
     "metadata": {},
     "output_type": "display_data"
    },
    {
     "name": "stdout",
     "output_type": "stream",
     "text": [
      "|    |   retain_acc |   forget_acc |   test_acc |   unseen_acc |   MIA_AUC |   MIA_TNR@5%FNR |   unlearning_time |\n",
      "|---:|-------------:|-------------:|-----------:|-------------:|----------:|----------------:|------------------:|\n",
      "|  0 |        91.27 |        73.33 |      74.08 |        74.54 |     61.68 |           12.98 |                27 |\n"
     ]
    },
    {
     "data": {
      "image/png": "[encoded data removed]",
      "text/plain": [
       "<Figure size 640x480 with 1 Axes>"
      ]
     },
     "metadata": {},
     "output_type": "display_data"
    }
   ],
   "source": [
    "model = load_model(PATH_TO_MODELS/'origin'/'state_dict.pth', NUM_CLASSES)\n",
    "model.to(DEVICE)\n",
    "\n",
    "start = time.time()\n",
    "not_random_labels_unlearning(model, forget_inds, retain_inds, unseen_inds)\n",
    "unlearning_time = time.time() - start\n",
    "\n",
    "df_metrics, fnr, tnr = evaluate_unlearning(model, forget_inds, retain_inds)\n",
    "df_metrics['unlearning_time'] = round(unlearning_time)\n",
    "display(df_metrics)\n",
    "\n",
    "plt.plot(fnr, tnr, label=f'auc: {metrics.auc(fnr, tnr):.3f}')\n",
    "plt.legend()\n",
    "\n",
    "print(df_metrics.to_markdown())"
   ]
  },
  {
   "cell_type": "markdown",
   "metadata": {},
   "source": [
    "##### <b>Negative gradient</b>"
   ]
  },
  {
   "cell_type": "code",
   "execution_count": 62,
   "metadata": {},
   "outputs": [],
   "source": [
    "def neg_grad_unlearning(model, forget_inds, retain_inds, unseen_inds):\n",
    "\n",
    "    set_random_seed(RANDOM_STATE)\n",
    "    \n",
    "    model.train()\n",
    "    \n",
    "    criterion = torch.nn.CrossEntropyLoss()\n",
    "    optimizer = optim.SGD(model.parameters(), lr=0.01)\n",
    "\n",
    "    dataset = Subset(cifar10_aug, forget_inds)\n",
    "    forget_dataloader = DataLoader(dataset, batch_size=BATCH_SIZE, num_workers=NUM_WORKERS, shuffle=True)\n",
    "\n",
    "    dataset = Subset(cifar10_aug, retain_inds)\n",
    "    retain_dataloader = DataLoader(dataset, batch_size=BATCH_SIZE, num_workers=NUM_WORKERS, shuffle=True)\n",
    "\n",
    "    num_epochs = 10\n",
    "    for epoch in range(num_epochs):\n",
    "        for inputs, targets in tqdm(forget_dataloader, desc=f'epoch {epoch}/{num_epochs}', leave=False):\n",
    "            \n",
    "            inputs, targets = inputs.to(DEVICE), targets.to(DEVICE)\n",
    "\n",
    "            outputs = model(inputs)\n",
    "            loss = -criterion(outputs, targets)\n",
    "\n",
    "            optimizer.zero_grad()\n",
    "            loss.backward()\n",
    "            optimizer.step()\n",
    "\n",
    "    for epoch in range(1):\n",
    "        for inputs, targets in tqdm(retain_dataloader, leave=False):\n",
    "            \n",
    "            inputs, targets = inputs.to(DEVICE), targets.to(DEVICE)\n",
    "\n",
    "            outputs = model(inputs)\n",
    "            loss = criterion(outputs, targets)\n",
    "\n",
    "            optimizer.zero_grad()\n",
    "            loss.backward()\n",
    "            optimizer.step()\n",
    "\n",
    "    model.eval()"
   ]
  },
  {
   "cell_type": "code",
   "execution_count": 63,
   "metadata": {},
   "outputs": [
    {
     "name": "stderr",
     "output_type": "stream",
     "text": [
      "                                                         \r"
     ]
    },
    {
     "name": "stdout",
     "output_type": "stream",
     "text": [
      " [=======================================>]  Step: 3ms | Tot: 602ms | Acc: 88.58%%% Top2 Acc: 96.66% 84/84  \n",
      " [================================>.......]  Step: 4ms | Tot: 21ms | Acc: 87.29%%% Top2 Acc: 95.64% 5/5  \n",
      " [=======================================>]  Step: 3ms | Tot: 276ms | Acc: 75.12%%% Top2 Acc: 88.88% 40/40  \n",
      " [======================================>.]  Step: 3ms | Tot: 128ms | Acc: 75.22%%% Top2 Acc: 89.60% 20/20  \n"
     ]
    },
    {
     "name": "stderr",
     "output_type": "stream",
     "text": [
      "100%|██████████| 88/88 [00:00<00:00, 103.51it/s]\n"
     ]
    },
    {
     "data": {
      "text/html": [
       "<div>\n",
       "<style scoped>\n",
       "    .dataframe tbody tr th:only-of-type {\n",
       "        vertical-align: middle;\n",
       "    }\n",
       "\n",
       "    .dataframe tbody tr th {\n",
       "        vertical-align: top;\n",
       "    }\n",
       "\n",
       "    .dataframe thead th {\n",
       "        text-align: right;\n",
       "    }\n",
       "</style>\n",
       "<table border=\"1\" class=\"dataframe\">\n",
       "  <thead>\n",
       "    <tr style=\"text-align: right;\">\n",
       "      <th></th>\n",
       "      <th>retain_acc</th>\n",
       "      <th>forget_acc</th>\n",
       "      <th>test_acc</th>\n",
       "      <th>unseen_acc</th>\n",
       "      <th>MIA_AUC</th>\n",
       "      <th>MIA_TNR@5%FNR</th>\n",
       "      <th>unlearning_time</th>\n",
       "    </tr>\n",
       "  </thead>\n",
       "  <tbody>\n",
       "    <tr>\n",
       "      <th>0</th>\n",
       "      <td>88.58</td>\n",
       "      <td>87.29</td>\n",
       "      <td>75.12</td>\n",
       "      <td>75.22</td>\n",
       "      <td>51.38</td>\n",
       "      <td>5.51</td>\n",
       "      <td>4</td>\n",
       "    </tr>\n",
       "  </tbody>\n",
       "</table>\n",
       "</div>"
      ],
      "text/plain": [
       "   retain_acc  forget_acc  test_acc  unseen_acc  MIA_AUC  MIA_TNR@5%FNR  \\\n",
       "0       88.58       87.29     75.12       75.22    51.38           5.51   \n",
       "\n",
       "   unlearning_time  \n",
       "0                4  "
      ]
     },
     "metadata": {},
     "output_type": "display_data"
    },
    {
     "name": "stdout",
     "output_type": "stream",
     "text": [
      "|    |   retain_acc |   forget_acc |   test_acc |   unseen_acc |   MIA_AUC |   MIA_TNR@5%FNR |   unlearning_time |\n",
      "|---:|-------------:|-------------:|-----------:|-------------:|----------:|----------------:|------------------:|\n",
      "|  0 |        88.58 |        87.29 |      75.12 |        75.22 |     51.38 |            5.51 |                 4 |\n"
     ]
    },
    {
     "data": {
      "image/png": "[encoded data removed]",
      "text/plain": [
       "<Figure size 640x480 with 1 Axes>"
      ]
     },
     "metadata": {},
     "output_type": "display_data"
    }
   ],
   "source": [
    "model = load_model(PATH_TO_MODELS/'origin'/'state_dict.pth', NUM_CLASSES)\n",
    "model.to(DEVICE)\n",
    "\n",
    "start = time.time()\n",
    "neg_grad_unlearning(model, forget_inds, retain_inds, unseen_inds)\n",
    "unlearning_time = time.time() - start\n",
    "\n",
    "df_metrics, fnr, tnr = evaluate_unlearning(model, forget_inds, retain_inds)\n",
    "df_metrics['unlearning_time'] = round(unlearning_time)\n",
    "display(df_metrics)\n",
    "\n",
    "plt.plot(fnr, tnr, label=f'auc: {metrics.auc(fnr, tnr):.3f}')\n",
    "plt.legend()\n",
    "\n",
    "print(df_metrics.to_markdown())"
   ]
  },
  {
   "cell_type": "markdown",
   "metadata": {},
   "source": [
    "##### <b>UnGAN</b>"
   ]
  },
  {
   "cell_type": "code",
   "execution_count": 64,
   "metadata": {},
   "outputs": [],
   "source": [
    "hidden_size=128\n",
    "\n",
    "class Discriminator(nn.Module):\n",
    "    def __init__(self, num_classes):\n",
    "        super(Discriminator, self).__init__()\n",
    "        self.class_embeddings = nn.Embedding(num_classes, num_classes)\n",
    "        \n",
    "        self.model = nn.Sequential(\n",
    "            nn.Linear(2*num_classes, hidden_size),\n",
    "            nn.ReLU(),\n",
    "            nn.Linear(hidden_size, 2*hidden_size),\n",
    "            nn.ReLU(),\n",
    "            nn.Linear(2*hidden_size, 2*hidden_size),\n",
    "            nn.ReLU(),\n",
    "            nn.Linear(2*hidden_size, hidden_size),\n",
    "            nn.ReLU(),\n",
    "            nn.Linear(hidden_size, 1),\n",
    "        )\n",
    "        \n",
    "    def forward(self, logits, label):\n",
    "        label_emb = self.class_embeddings(label)\n",
    "        z = torch.hstack([logits, label_emb])\n",
    "        return self.model(z).flatten()\n",
    "\n",
    "\n",
    "class Trainer:\n",
    "    def __init__(self, model):\n",
    "        \n",
    "        self.discriminator = Discriminator(NUM_CLASSES)\n",
    "        self.model = model\n",
    "        self.alpha = 0.1\n",
    "\n",
    "        self.model.cuda()\n",
    "        self.discriminator.cuda()\n",
    "        \n",
    "        self.d_optimizer = torch.optim.Adam(self.discriminator.parameters(), lr=1.2e-3, weight_decay=1e-5)\n",
    "        self.d_criterion = nn.BCEWithLogitsLoss()\n",
    "\n",
    "        self.g_optimizer = torch.optim.Adam(self.model.parameters(), lr=2e-5, weight_decay=1e-5)\n",
    "        self.g_criterion = nn.CrossEntropyLoss(reduction='mean')\n",
    "        \n",
    "\n",
    "    def generator_step(self, forget_logits, forget_labels, retain_logits, retain_labels):\n",
    "        \n",
    "        ones = torch.ones(forget_logits.size(0)).cuda()\n",
    "        forget_preds = self.discriminator(forget_logits, forget_labels)\n",
    "        d_loss = self.d_criterion(forget_preds, ones)\n",
    "        \n",
    "        g_loss = self.g_criterion(retain_logits, retain_labels)\n",
    "\n",
    "        loss = d_loss + self.alpha * g_loss\n",
    "\n",
    "        self.g_optimizer.zero_grad()\n",
    "        loss.backward()\n",
    "        self.g_optimizer.step()\n",
    "\n",
    "        return loss.item()\n",
    "        \n",
    "    def discriminator_step(self, forget_logits, forget_labels, unseen_logits, unseen_labels):\n",
    "        \n",
    "        ones = torch.ones(unseen_logits.size(0)).cuda()\n",
    "        zeros = torch.zeros(forget_logits.size(0)).cuda()\n",
    "    \n",
    "        forget_preds = self.discriminator(forget_logits, forget_labels)\n",
    "        unseen_preds = self.discriminator(unseen_logits, unseen_labels)\n",
    "    \n",
    "        loss = self.d_criterion(forget_preds, zeros) + self.d_criterion(unseen_preds, ones)\n",
    "        self.d_optimizer.zero_grad()\n",
    "        loss.backward()\n",
    "        self.d_optimizer.step()\n",
    "\n",
    "        return loss.item()\n",
    "        \n",
    "        \n",
    "def ungan_unlearning(model, forget_manifest, retain_manifest, unseen_manifest):\n",
    "\n",
    "    set_random_seed(RANDOM_STATE)\n",
    "    \n",
    "    dataset = Subset(cifar10, forget_inds)\n",
    "    forget = DataLoader(dataset, batch_size=BATCH_SIZE, num_workers=NUM_WORKERS, shuffle=True)\n",
    "\n",
    "    dataset = Subset(cifar10_aug, retain_inds)\n",
    "    retain = DataLoader(dataset, batch_size=BATCH_SIZE, num_workers=NUM_WORKERS, shuffle=True)\n",
    "\n",
    "    dataset = Subset(cifar10, unseen_inds)\n",
    "    unseen = DataLoader(dataset, batch_size=BATCH_SIZE, num_workers=NUM_WORKERS, shuffle=True)\n",
    "\n",
    "    trainer = Trainer(model)\n",
    "    epochs = 20\n",
    "    n_range = 10\n",
    "    average_loss = None\n",
    "\n",
    "    trainer.model.eval()\n",
    "    unseen_logits_all, unseen_labels_all = [], []\n",
    "    with torch.no_grad():\n",
    "        for u in tqdm(unseen, desc='score unseen', leave=False):\n",
    "            unseen_logits_all.append(trainer.model(u[0].to(DEVICE)))\n",
    "            unseen_labels_all.append(u[1].to(DEVICE))\n",
    "    unseen_logits_all = torch.cat(unseen_logits_all)\n",
    "    unseen_labels_all = torch.cat(unseen_labels_all)\n",
    "\n",
    "    trainer.model.train()\n",
    "    for epoch in tqdm(range(epochs)):\n",
    "        \n",
    "        trainer.model.eval()\n",
    "        for (forget_batch, retain_batch) in zip(forget, retain):\n",
    "            n = 0\n",
    "            while True:\n",
    "                for forget_batch in forget:\n",
    "                \n",
    "                    with torch.no_grad():\n",
    "                        forget_logits, forget_labels = trainer.model(forget_batch[0].to(DEVICE)), forget_batch[1].to(DEVICE)\n",
    "\n",
    "                    inds = np.random.choice(len(unseen_logits_all), size=BATCH_SIZE, replace=False)\n",
    "                    unseen_logits, unseen_labels = unseen_logits_all[inds], unseen_labels_all[inds]\n",
    "\n",
    "                    d_loss = trainer.discriminator_step(forget_logits, forget_labels, unseen_logits, unseen_labels)\n",
    "                    average_loss = d_loss if average_loss is None else 0.9 * average_loss + 0.1 * d_loss\n",
    "                    n_range = min(n_range//2, 1) if average_loss < 1.0 else 10\n",
    "                    n += 1\n",
    "                    if n >= n_range: break\n",
    "                if n >= n_range: break\n",
    "\n",
    "            \n",
    "            forget_features, forget_labels = forget_batch[0].cuda(), forget_batch[1].cuda()\n",
    "            forget_logits = trainer.model(forget_features)\n",
    "\n",
    "            trainer.model.train()\n",
    "            retain_features, retain_labels = retain_batch[0].cuda(), retain_batch[1].cuda()\n",
    "            retain_logits = trainer.model(retain_features)\n",
    "        \n",
    "            g_loss = trainer.generator_step(forget_logits, forget_labels, retain_logits, retain_labels)\n",
    "                \n",
    "    trainer.model.eval()"
   ]
  },
  {
   "cell_type": "code",
   "execution_count": 65,
   "metadata": {},
   "outputs": [
    {
     "name": "stderr",
     "output_type": "stream",
     "text": [
      "100%|██████████| 20/20 [00:36<00:00,  1.84s/it]              \n"
     ]
    },
    {
     "name": "stdout",
     "output_type": "stream",
     "text": [
      " [=======================================>]  Step: 3ms | Tot: 601ms | Acc: 84.62%%% Top2 Acc: 94.86% 84/84   =============>..........................]  Step: 5ms | Tot: 211ms | Acc: 84.31%%% Top2 Acc: 95.00% 30/84 \n",
      " [================================>.......]  Step: 4ms | Tot: 18ms | Acc: 81.69%%% Top2 Acc: 93.78% 5/5  \n",
      " [=======================================>]  Step: 3ms | Tot: 277ms | Acc: 72.49%%% Top2 Acc: 87.39% 40/40  \n",
      " [======================================>.]  Step: 3ms | Tot: 135ms | Acc: 73.18%%% Top2 Acc: 88.08% 20/20  \n"
     ]
    },
    {
     "name": "stderr",
     "output_type": "stream",
     "text": [
      "100%|██████████| 88/88 [00:00<00:00, 115.04it/s]\n"
     ]
    },
    {
     "data": {
      "text/html": [
       "<div>\n",
       "<style scoped>\n",
       "    .dataframe tbody tr th:only-of-type {\n",
       "        vertical-align: middle;\n",
       "    }\n",
       "\n",
       "    .dataframe tbody tr th {\n",
       "        vertical-align: top;\n",
       "    }\n",
       "\n",
       "    .dataframe thead th {\n",
       "        text-align: right;\n",
       "    }\n",
       "</style>\n",
       "<table border=\"1\" class=\"dataframe\">\n",
       "  <thead>\n",
       "    <tr style=\"text-align: right;\">\n",
       "      <th></th>\n",
       "      <th>retain_acc</th>\n",
       "      <th>forget_acc</th>\n",
       "      <th>test_acc</th>\n",
       "      <th>unseen_acc</th>\n",
       "      <th>MIA_AUC</th>\n",
       "      <th>MIA_TNR@5%FNR</th>\n",
       "      <th>unlearning_time</th>\n",
       "    </tr>\n",
       "  </thead>\n",
       "  <tbody>\n",
       "    <tr>\n",
       "      <th>0</th>\n",
       "      <td>84.62</td>\n",
       "      <td>81.69</td>\n",
       "      <td>72.49</td>\n",
       "      <td>73.18</td>\n",
       "      <td>53.34</td>\n",
       "      <td>7.91</td>\n",
       "      <td>37</td>\n",
       "    </tr>\n",
       "  </tbody>\n",
       "</table>\n",
       "</div>"
      ],
      "text/plain": [
       "   retain_acc  forget_acc  test_acc  unseen_acc  MIA_AUC  MIA_TNR@5%FNR  \\\n",
       "0       84.62       81.69     72.49       73.18    53.34           7.91   \n",
       "\n",
       "   unlearning_time  \n",
       "0               37  "
      ]
     },
     "metadata": {},
     "output_type": "display_data"
    },
    {
     "name": "stdout",
     "output_type": "stream",
     "text": [
      "|    |   retain_acc |   forget_acc |   test_acc |   unseen_acc |   MIA_AUC |   MIA_TNR@5%FNR |   unlearning_time |\n",
      "|---:|-------------:|-------------:|-----------:|-------------:|----------:|----------------:|------------------:|\n",
      "|  0 |        84.62 |        81.69 |      72.49 |        73.18 |     53.34 |            7.91 |                37 |\n"
     ]
    },
    {
     "data": {
      "image/png": "[encoded data removed]",
      "text/plain": [
       "<Figure size 640x480 with 1 Axes>"
      ]
     },
     "metadata": {},
     "output_type": "display_data"
    }
   ],
   "source": [
    "model = load_model(PATH_TO_MODELS/'origin'/'state_dict.pth', NUM_CLASSES)\n",
    "model.to(DEVICE)\n",
    "\n",
    "start = time.time()\n",
    "ungan_unlearning(model, forget_inds, retain_inds, unseen_inds)\n",
    "unlearning_time = time.time() - start\n",
    "\n",
    "df_metrics, fnr, tnr = evaluate_unlearning(model, forget_inds, retain_inds)\n",
    "df_metrics['unlearning_time'] = round(unlearning_time)\n",
    "display(df_metrics)\n",
    "\n",
    "plt.plot(fnr, tnr, label=f'auc: {metrics.auc(fnr, tnr):.3f}')\n",
    "plt.legend()\n",
    "\n",
    "print(df_metrics.to_markdown())"
   ]
  }
 ],
 "metadata": {
  "kernelspec": {
   "display_name": "Python 3",
   "language": "python",
   "name": "python3"
  },
  "language_info": {
   "codemirror_mode": {
    "name": "ipython",
    "version": 3
   },
   "file_extension": ".py",
   "mimetype": "text/x-python",
   "name": "python",
   "nbconvert_exporter": "python",
   "pygments_lexer": "ipython3",
   "version": "3.9.18"
  }
 },
 "nbformat": 4,
 "nbformat_minor": 2
}
