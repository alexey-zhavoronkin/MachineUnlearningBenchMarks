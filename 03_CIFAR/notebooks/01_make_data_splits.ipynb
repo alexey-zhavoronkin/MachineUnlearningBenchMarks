{
 "cells": [
  {
   "cell_type": "code",
   "execution_count": 1,
   "metadata": {},
   "outputs": [],
   "source": [
    "from pathlib import Path\n",
    "\n",
    "BASE_PATH = Path('../')\n",
    "PATH_TO_DATA = BASE_PATH/'data'\n",
    "PATH_TO_MODELS = BASE_PATH/'checkpoints'\n",
    "\n",
    "PATH_TO_DATA.mkdir(exist_ok=True, parents=True)\n",
    "PATH_TO_MODELS.mkdir(exist_ok=True, parents=True)"
   ]
  },
  {
   "cell_type": "markdown",
   "metadata": {},
   "source": [
    "#### <b>Load Libraries</b>"
   ]
  },
  {
   "cell_type": "code",
   "execution_count": 2,
   "metadata": {},
   "outputs": [],
   "source": [
    "import os\n",
    "import pickle\n",
    "import numpy as np\n",
    "import pandas as pd\n",
    "from sklearn.model_selection import train_test_split\n",
    "\n",
    "\n",
    "from torchvision.datasets import CIFAR10"
   ]
  },
  {
   "cell_type": "markdown",
   "metadata": {},
   "source": [
    "#### <b>Download data</b>"
   ]
  },
  {
   "cell_type": "code",
   "execution_count": 3,
   "metadata": {},
   "outputs": [
    {
     "name": "stdout",
     "output_type": "stream",
     "text": [
      "Files already downloaded and verified\n"
     ]
    }
   ],
   "source": [
    "dataset = CIFAR10(root=PATH_TO_DATA, download=True)"
   ]
  },
  {
   "cell_type": "markdown",
   "metadata": {},
   "source": [
    "#### <b>Do splits</b>"
   ]
  },
  {
   "cell_type": "code",
   "execution_count": 4,
   "metadata": {},
   "outputs": [],
   "source": [
    "inds = list(range(len(dataset)))\n",
    "\n",
    "train_shadow_inds, unseen_inds = train_test_split(inds, test_size=0.10, random_state=42)\n",
    "train_inds, _ = train_test_split(train_shadow_inds, test_size=0.50, random_state=42)\n",
    "retain_inds, forget_inds = train_test_split(train_inds, test_size=0.05, random_state=42)"
   ]
  },
  {
   "cell_type": "code",
   "execution_count": 6,
   "metadata": {},
   "outputs": [
    {
     "data": {
      "text/plain": [
       "[21375, 1125, 5000]"
      ]
     },
     "execution_count": 6,
     "metadata": {},
     "output_type": "execute_result"
    }
   ],
   "source": [
    "[len(x) for x in (retain_inds, forget_inds, unseen_inds)]"
   ]
  },
  {
   "cell_type": "code",
   "execution_count": 7,
   "metadata": {},
   "outputs": [
    {
     "data": {
      "text/plain": [
       "['42.75%', '2.25%', '10.00%']"
      ]
     },
     "execution_count": 7,
     "metadata": {},
     "output_type": "execute_result"
    }
   ],
   "source": [
    "# кол-во наблюдений в выборках (в процентах)\n",
    "\n",
    "[f'{100*len(x)/len(inds):.2f}%' for x in (retain_inds, forget_inds, unseen_inds)]"
   ]
  },
  {
   "cell_type": "code",
   "execution_count": 8,
   "metadata": {},
   "outputs": [],
   "source": [
    "shadow_datasets = PATH_TO_DATA/'shadow_inds'\n",
    "shadow_datasets.mkdir(exist_ok=True, parents=True)\n",
    "\n",
    "num_shadows = 128\n",
    "counter = pd.Series(index=train_shadow_inds, data=num_shadows//2)\n",
    "data_split = pd.DataFrame(data=False, index=train_shadow_inds, columns=range(num_shadows))\n",
    "shadow_inds = []\n",
    "\n",
    "for shadow_idx in range(num_shadows):\n",
    "    \n",
    "    shadow_inds.append(counter\\\n",
    "        .sample(frac=1, random_state=shadow_idx)\\\n",
    "        .sort_values(ascending=False, kind='stable')\\\n",
    "        .iloc[:len(counter)//2]\\\n",
    "        .index.tolist()\n",
    "    )\n",
    "    counter[shadow_inds[-1]] -= 1\n",
    "    data_split.loc[shadow_inds[-1], shadow_idx] = True\n",
    "\n",
    "\n",
    "np.save(PATH_TO_DATA/'shadow_inds.npy', shadow_inds)\n",
    "np.save(PATH_TO_DATA/'train_inds.npy', train_inds)\n",
    "np.save(PATH_TO_DATA/'unseen_inds.npy', unseen_inds)\n",
    "np.save(PATH_TO_DATA/'retain_inds.npy', retain_inds)\n",
    "np.save(PATH_TO_DATA/'forget_inds.npy', forget_inds)\n",
    "\n",
    "with open(PATH_TO_DATA/'data_split.pickle', 'wb') as file:\n",
    "    pickle.dump(\n",
    "        {filename: datasets.tolist() for filename, datasets in zip(data_split.index, data_split.values)},\n",
    "        file\n",
    "    )"
   ]
  }
 ],
 "metadata": {
  "kernelspec": {
   "display_name": "zhavoronkin_env",
   "language": "python",
   "name": "python3"
  },
  "language_info": {
   "codemirror_mode": {
    "name": "ipython",
    "version": 3
   },
   "file_extension": ".py",
   "mimetype": "text/x-python",
   "name": "python",
   "nbconvert_exporter": "python",
   "pygments_lexer": "ipython3",
   "version": "3.9.18"
  }
 },
 "nbformat": 4,
 "nbformat_minor": 2
}
